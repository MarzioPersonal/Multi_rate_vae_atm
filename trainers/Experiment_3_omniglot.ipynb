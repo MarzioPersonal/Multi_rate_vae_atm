{
 "cells": [
  {
   "cell_type": "code",
   "execution_count": 1,
   "id": "initial_id",
   "metadata": {
    "ExecuteTime": {
     "end_time": "2023-11-19T16:10:20.548066Z",
     "start_time": "2023-11-19T16:10:18.933166Z"
    },
    "collapsed": true
   },
   "outputs": [],
   "source": [
    "from trainers.ResNetTrainer import ExperimentThree\n",
    "from trainers.ResNetTrainer import ResNetTrainer\n",
    "import numpy as np\n",
    "import pandas as pd\n",
    "import torch \n",
    "import matplotlib.pyplot as plt\n",
    "import seaborn as sns\n",
    "sns.set(style=\"whitegrid\")\n",
    "if torch.cuda.is_available():\n",
    "    torch.set_float32_matmul_precision('high')"
   ]
  },
  {
   "cell_type": "code",
   "execution_count": 2,
   "id": "9c277ae5f23ebf3f",
   "metadata": {
    "ExecuteTime": {
     "end_time": "2023-11-19T16:10:20.903660Z",
     "start_time": "2023-11-19T16:10:20.545600Z"
    },
    "collapsed": false
   },
   "outputs": [
    {
     "name": "stdout",
     "output_type": "stream",
     "text": [
      "Files already downloaded and verified\n",
      "Files already downloaded and verified\n"
     ]
    }
   ],
   "source": [
    "from datasets.utils_datasets import get_omniglot_loaders\n",
    "seed = 5\n",
    "loaders =  get_omniglot_loaders(seed=seed, batch_size_train=128)"
   ]
  },
  {
   "cell_type": "markdown",
   "id": "650e11ba113ff6bc",
   "metadata": {
    "collapsed": false
   },
   "source": [
    "# MNIST"
   ]
  },
  {
   "cell_type": "code",
   "execution_count": 3,
   "id": "72bce455fdd50b02",
   "metadata": {
    "ExecuteTime": {
     "end_time": "2023-11-19T16:10:20.992500Z",
     "start_time": "2023-11-19T16:10:20.991445Z"
    },
    "collapsed": false
   },
   "outputs": [],
   "source": [
    "path = 'experiment_3/omniglot'"
   ]
  },
  {
   "cell_type": "code",
   "execution_count": 4,
   "id": "10e0cb16021d2ec8",
   "metadata": {
    "ExecuteTime": {
     "end_time": "2023-11-19T16:10:21.457284Z",
     "start_time": "2023-11-19T16:10:21.452237Z"
    },
    "collapsed": false
   },
   "outputs": [],
   "source": [
    "gr = ExperimentThree()"
   ]
  },
  {
   "cell_type": "code",
   "execution_count": 5,
   "id": "3471c90bd8db6675",
   "metadata": {
    "ExecuteTime": {
     "start_time": "2023-11-19T16:10:21.857379Z"
    },
    "collapsed": false,
    "is_executing": true
   },
   "outputs": [
    {
     "name": "stdout",
     "output_type": "stream",
     "text": [
      "Using device: cuda\n"
     ]
    },
    {
     "data": {
      "application/vnd.jupyter.widget-view+json": {
       "model_id": "3756e000111b4a228affca796da62e95",
       "version_major": 2,
       "version_minor": 0
      },
      "text/plain": [
       "  0%|          | 0/200 [00:00<?, ?it/s]"
      ]
     },
     "metadata": {},
     "output_type": "display_data"
    },
    {
     "ename": "KeyboardInterrupt",
     "evalue": "",
     "output_type": "error",
     "traceback": [
      "\u001b[0;31m---------------------------------------------------------------------------\u001b[0m",
      "\u001b[0;31mKeyboardInterrupt\u001b[0m                         Traceback (most recent call last)",
      "\u001b[1;32m/home/alessandro/Desktop/Multi_rate_vae_atm/trainers/Experiment_3_omniglot.ipynb Cell 6\u001b[0m line \u001b[0;36m1\n\u001b[0;32m----> <a href='vscode-notebook-cell:/home/alessandro/Desktop/Multi_rate_vae_atm/trainers/Experiment_3_omniglot.ipynb#W5sZmlsZQ%3D%3D?line=0'>1</a>\u001b[0m gr\u001b[39m.\u001b[39;49mconduct_experiment(loaders, path\u001b[39m=\u001b[39;49mpath)\n",
      "File \u001b[0;32m~/Desktop/Multi_rate_vae_atm/trainers/ResNetTrainer.py:186\u001b[0m, in \u001b[0;36mExperimentThree.conduct_experiment\u001b[0;34m(self, loaders, path)\u001b[0m\n\u001b[1;32m    184\u001b[0m \u001b[39mif\u001b[39;00m \u001b[39mnot\u001b[39;00m os\u001b[39m.\u001b[39mpath\u001b[39m.\u001b[39mexists(path):\n\u001b[1;32m    185\u001b[0m     os\u001b[39m.\u001b[39mmkdir(path)\n\u001b[0;32m--> 186\u001b[0m df_fixed_beta \u001b[39m=\u001b[39m \u001b[39mself\u001b[39;49m\u001b[39m.\u001b[39;49mfixed_b_vary_a(loaders)\n\u001b[1;32m    187\u001b[0m df_fixed_alpha \u001b[39m=\u001b[39m \u001b[39mself\u001b[39m\u001b[39m.\u001b[39mfixed_a_vary_b(loaders)\n\u001b[1;32m    188\u001b[0m df_fixed_beta\u001b[39m.\u001b[39mto_csv(\u001b[39mf\u001b[39m\u001b[39m'\u001b[39m\u001b[39m{\u001b[39;00mpath\u001b[39m}\u001b[39;00m\u001b[39m/fixed_beta.csv\u001b[39m\u001b[39m'\u001b[39m)\n",
      "File \u001b[0;32m~/Desktop/Multi_rate_vae_atm/trainers/ResNetTrainer.py:147\u001b[0m, in \u001b[0;36mExperimentThree.fixed_b_vary_a\u001b[0;34m(self, loaders)\u001b[0m\n\u001b[1;32m    145\u001b[0m     torch\u001b[39m.\u001b[39mmanual_seed(seed)\n\u001b[1;32m    146\u001b[0m     trainer \u001b[39m=\u001b[39m ResNetTrainer(loaders, a, b, lr\u001b[39m=\u001b[39mlr, latent_dimension\u001b[39m=\u001b[39m\u001b[39m64\u001b[39m)\n\u001b[0;32m--> 147\u001b[0m     best_loss \u001b[39m=\u001b[39m trainer\u001b[39m.\u001b[39;49mtrain()\n\u001b[1;32m    148\u001b[0m     mean_tr\u001b[39m.\u001b[39mappend(best_loss)\n\u001b[1;32m    149\u001b[0m dictionary \u001b[39m=\u001b[39m {\n\u001b[1;32m    150\u001b[0m     \u001b[39m'\u001b[39m\u001b[39ma\u001b[39m\u001b[39m'\u001b[39m: a,\n\u001b[1;32m    151\u001b[0m     \u001b[39m'\u001b[39m\u001b[39mb\u001b[39m\u001b[39m'\u001b[39m: b,\n\u001b[1;32m    152\u001b[0m     \u001b[39m'\u001b[39m\u001b[39mlr\u001b[39m\u001b[39m'\u001b[39m: lr,\n\u001b[1;32m    153\u001b[0m     \u001b[39m'\u001b[39m\u001b[39mmean_loss\u001b[39m\u001b[39m'\u001b[39m: np\u001b[39m.\u001b[39mmean(mean_tr)\n\u001b[1;32m    154\u001b[0m }\n",
      "File \u001b[0;32m~/Desktop/Multi_rate_vae_atm/trainers/ResNetTrainer.py:74\u001b[0m, in \u001b[0;36mResNetTrainer.train\u001b[0;34m(self)\u001b[0m\n\u001b[1;32m     72\u001b[0m     loss, \u001b[39m*\u001b[39m_ \u001b[39m=\u001b[39m \u001b[39mself\u001b[39m\u001b[39m.\u001b[39mloss_fn(x_pred, inputs, mu, logvar, torch\u001b[39m.\u001b[39mexp(log_betas)\u001b[39m.\u001b[39msqueeze(\u001b[39m-\u001b[39m\u001b[39m1\u001b[39m))\n\u001b[1;32m     73\u001b[0m     loss\u001b[39m.\u001b[39mbackward()\n\u001b[0;32m---> 74\u001b[0m     \u001b[39mself\u001b[39;49m\u001b[39m.\u001b[39;49moptimizer\u001b[39m.\u001b[39;49mstep()\n\u001b[1;32m     75\u001b[0m \u001b[39mself\u001b[39m\u001b[39m.\u001b[39mscheduler\u001b[39m.\u001b[39mstep()\n\u001b[1;32m     77\u001b[0m \u001b[39m# early stopping\u001b[39;00m\n",
      "File \u001b[0;32m~/.local/lib/python3.10/site-packages/torch/optim/lr_scheduler.py:68\u001b[0m, in \u001b[0;36mLRScheduler.__init__.<locals>.with_counter.<locals>.wrapper\u001b[0;34m(*args, **kwargs)\u001b[0m\n\u001b[1;32m     66\u001b[0m instance\u001b[39m.\u001b[39m_step_count \u001b[39m+\u001b[39m\u001b[39m=\u001b[39m \u001b[39m1\u001b[39m\n\u001b[1;32m     67\u001b[0m wrapped \u001b[39m=\u001b[39m func\u001b[39m.\u001b[39m\u001b[39m__get__\u001b[39m(instance, \u001b[39mcls\u001b[39m)\n\u001b[0;32m---> 68\u001b[0m \u001b[39mreturn\u001b[39;00m wrapped(\u001b[39m*\u001b[39;49margs, \u001b[39m*\u001b[39;49m\u001b[39m*\u001b[39;49mkwargs)\n",
      "File \u001b[0;32m~/.local/lib/python3.10/site-packages/torch/optim/optimizer.py:373\u001b[0m, in \u001b[0;36mOptimizer.profile_hook_step.<locals>.wrapper\u001b[0;34m(*args, **kwargs)\u001b[0m\n\u001b[1;32m    368\u001b[0m         \u001b[39melse\u001b[39;00m:\n\u001b[1;32m    369\u001b[0m             \u001b[39mraise\u001b[39;00m \u001b[39mRuntimeError\u001b[39;00m(\n\u001b[1;32m    370\u001b[0m                 \u001b[39mf\u001b[39m\u001b[39m\"\u001b[39m\u001b[39m{\u001b[39;00mfunc\u001b[39m}\u001b[39;00m\u001b[39m must return None or a tuple of (new_args, new_kwargs), but got \u001b[39m\u001b[39m{\u001b[39;00mresult\u001b[39m}\u001b[39;00m\u001b[39m.\u001b[39m\u001b[39m\"\u001b[39m\n\u001b[1;32m    371\u001b[0m             )\n\u001b[0;32m--> 373\u001b[0m out \u001b[39m=\u001b[39m func(\u001b[39m*\u001b[39;49margs, \u001b[39m*\u001b[39;49m\u001b[39m*\u001b[39;49mkwargs)\n\u001b[1;32m    374\u001b[0m \u001b[39mself\u001b[39m\u001b[39m.\u001b[39m_optimizer_step_code()\n\u001b[1;32m    376\u001b[0m \u001b[39m# call optimizer step post hooks\u001b[39;00m\n",
      "File \u001b[0;32m~/.local/lib/python3.10/site-packages/torch/optim/optimizer.py:76\u001b[0m, in \u001b[0;36m_use_grad_for_differentiable.<locals>._use_grad\u001b[0;34m(self, *args, **kwargs)\u001b[0m\n\u001b[1;32m     74\u001b[0m     torch\u001b[39m.\u001b[39mset_grad_enabled(\u001b[39mself\u001b[39m\u001b[39m.\u001b[39mdefaults[\u001b[39m'\u001b[39m\u001b[39mdifferentiable\u001b[39m\u001b[39m'\u001b[39m])\n\u001b[1;32m     75\u001b[0m     torch\u001b[39m.\u001b[39m_dynamo\u001b[39m.\u001b[39mgraph_break()\n\u001b[0;32m---> 76\u001b[0m     ret \u001b[39m=\u001b[39m func(\u001b[39mself\u001b[39;49m, \u001b[39m*\u001b[39;49margs, \u001b[39m*\u001b[39;49m\u001b[39m*\u001b[39;49mkwargs)\n\u001b[1;32m     77\u001b[0m \u001b[39mfinally\u001b[39;00m:\n\u001b[1;32m     78\u001b[0m     torch\u001b[39m.\u001b[39m_dynamo\u001b[39m.\u001b[39mgraph_break()\n",
      "File \u001b[0;32m~/.local/lib/python3.10/site-packages/torch/optim/adam.py:163\u001b[0m, in \u001b[0;36mAdam.step\u001b[0;34m(self, closure)\u001b[0m\n\u001b[1;32m    152\u001b[0m     beta1, beta2 \u001b[39m=\u001b[39m group[\u001b[39m'\u001b[39m\u001b[39mbetas\u001b[39m\u001b[39m'\u001b[39m]\n\u001b[1;32m    154\u001b[0m     \u001b[39mself\u001b[39m\u001b[39m.\u001b[39m_init_group(\n\u001b[1;32m    155\u001b[0m         group,\n\u001b[1;32m    156\u001b[0m         params_with_grad,\n\u001b[0;32m   (...)\u001b[0m\n\u001b[1;32m    160\u001b[0m         max_exp_avg_sqs,\n\u001b[1;32m    161\u001b[0m         state_steps)\n\u001b[0;32m--> 163\u001b[0m     adam(\n\u001b[1;32m    164\u001b[0m         params_with_grad,\n\u001b[1;32m    165\u001b[0m         grads,\n\u001b[1;32m    166\u001b[0m         exp_avgs,\n\u001b[1;32m    167\u001b[0m         exp_avg_sqs,\n\u001b[1;32m    168\u001b[0m         max_exp_avg_sqs,\n\u001b[1;32m    169\u001b[0m         state_steps,\n\u001b[1;32m    170\u001b[0m         amsgrad\u001b[39m=\u001b[39;49mgroup[\u001b[39m'\u001b[39;49m\u001b[39mamsgrad\u001b[39;49m\u001b[39m'\u001b[39;49m],\n\u001b[1;32m    171\u001b[0m         beta1\u001b[39m=\u001b[39;49mbeta1,\n\u001b[1;32m    172\u001b[0m         beta2\u001b[39m=\u001b[39;49mbeta2,\n\u001b[1;32m    173\u001b[0m         lr\u001b[39m=\u001b[39;49mgroup[\u001b[39m'\u001b[39;49m\u001b[39mlr\u001b[39;49m\u001b[39m'\u001b[39;49m],\n\u001b[1;32m    174\u001b[0m         weight_decay\u001b[39m=\u001b[39;49mgroup[\u001b[39m'\u001b[39;49m\u001b[39mweight_decay\u001b[39;49m\u001b[39m'\u001b[39;49m],\n\u001b[1;32m    175\u001b[0m         eps\u001b[39m=\u001b[39;49mgroup[\u001b[39m'\u001b[39;49m\u001b[39meps\u001b[39;49m\u001b[39m'\u001b[39;49m],\n\u001b[1;32m    176\u001b[0m         maximize\u001b[39m=\u001b[39;49mgroup[\u001b[39m'\u001b[39;49m\u001b[39mmaximize\u001b[39;49m\u001b[39m'\u001b[39;49m],\n\u001b[1;32m    177\u001b[0m         foreach\u001b[39m=\u001b[39;49mgroup[\u001b[39m'\u001b[39;49m\u001b[39mforeach\u001b[39;49m\u001b[39m'\u001b[39;49m],\n\u001b[1;32m    178\u001b[0m         capturable\u001b[39m=\u001b[39;49mgroup[\u001b[39m'\u001b[39;49m\u001b[39mcapturable\u001b[39;49m\u001b[39m'\u001b[39;49m],\n\u001b[1;32m    179\u001b[0m         differentiable\u001b[39m=\u001b[39;49mgroup[\u001b[39m'\u001b[39;49m\u001b[39mdifferentiable\u001b[39;49m\u001b[39m'\u001b[39;49m],\n\u001b[1;32m    180\u001b[0m         fused\u001b[39m=\u001b[39;49mgroup[\u001b[39m'\u001b[39;49m\u001b[39mfused\u001b[39;49m\u001b[39m'\u001b[39;49m],\n\u001b[1;32m    181\u001b[0m         grad_scale\u001b[39m=\u001b[39;49m\u001b[39mgetattr\u001b[39;49m(\u001b[39mself\u001b[39;49m, \u001b[39m\"\u001b[39;49m\u001b[39mgrad_scale\u001b[39;49m\u001b[39m\"\u001b[39;49m, \u001b[39mNone\u001b[39;49;00m),\n\u001b[1;32m    182\u001b[0m         found_inf\u001b[39m=\u001b[39;49m\u001b[39mgetattr\u001b[39;49m(\u001b[39mself\u001b[39;49m, \u001b[39m\"\u001b[39;49m\u001b[39mfound_inf\u001b[39;49m\u001b[39m\"\u001b[39;49m, \u001b[39mNone\u001b[39;49;00m),\n\u001b[1;32m    183\u001b[0m     )\n\u001b[1;32m    185\u001b[0m \u001b[39mreturn\u001b[39;00m loss\n",
      "File \u001b[0;32m~/.local/lib/python3.10/site-packages/torch/optim/adam.py:311\u001b[0m, in \u001b[0;36madam\u001b[0;34m(params, grads, exp_avgs, exp_avg_sqs, max_exp_avg_sqs, state_steps, foreach, capturable, differentiable, fused, grad_scale, found_inf, amsgrad, beta1, beta2, lr, weight_decay, eps, maximize)\u001b[0m\n\u001b[1;32m    308\u001b[0m \u001b[39melse\u001b[39;00m:\n\u001b[1;32m    309\u001b[0m     func \u001b[39m=\u001b[39m _single_tensor_adam\n\u001b[0;32m--> 311\u001b[0m func(params,\n\u001b[1;32m    312\u001b[0m      grads,\n\u001b[1;32m    313\u001b[0m      exp_avgs,\n\u001b[1;32m    314\u001b[0m      exp_avg_sqs,\n\u001b[1;32m    315\u001b[0m      max_exp_avg_sqs,\n\u001b[1;32m    316\u001b[0m      state_steps,\n\u001b[1;32m    317\u001b[0m      amsgrad\u001b[39m=\u001b[39;49mamsgrad,\n\u001b[1;32m    318\u001b[0m      beta1\u001b[39m=\u001b[39;49mbeta1,\n\u001b[1;32m    319\u001b[0m      beta2\u001b[39m=\u001b[39;49mbeta2,\n\u001b[1;32m    320\u001b[0m      lr\u001b[39m=\u001b[39;49mlr,\n\u001b[1;32m    321\u001b[0m      weight_decay\u001b[39m=\u001b[39;49mweight_decay,\n\u001b[1;32m    322\u001b[0m      eps\u001b[39m=\u001b[39;49meps,\n\u001b[1;32m    323\u001b[0m      maximize\u001b[39m=\u001b[39;49mmaximize,\n\u001b[1;32m    324\u001b[0m      capturable\u001b[39m=\u001b[39;49mcapturable,\n\u001b[1;32m    325\u001b[0m      differentiable\u001b[39m=\u001b[39;49mdifferentiable,\n\u001b[1;32m    326\u001b[0m      grad_scale\u001b[39m=\u001b[39;49mgrad_scale,\n\u001b[1;32m    327\u001b[0m      found_inf\u001b[39m=\u001b[39;49mfound_inf)\n",
      "File \u001b[0;32m~/.local/lib/python3.10/site-packages/torch/optim/adam.py:496\u001b[0m, in \u001b[0;36m_multi_tensor_adam\u001b[0;34m(params, grads, exp_avgs, exp_avg_sqs, max_exp_avg_sqs, state_steps, grad_scale, found_inf, amsgrad, beta1, beta2, lr, weight_decay, eps, maximize, capturable, differentiable)\u001b[0m\n\u001b[1;32m    493\u001b[0m device_params \u001b[39m=\u001b[39m [torch\u001b[39m.\u001b[39mview_as_real(x) \u001b[39mif\u001b[39;00m torch\u001b[39m.\u001b[39mis_complex(x) \u001b[39melse\u001b[39;00m x \u001b[39mfor\u001b[39;00m x \u001b[39min\u001b[39;00m device_params]\n\u001b[1;32m    495\u001b[0m \u001b[39m# update steps\u001b[39;00m\n\u001b[0;32m--> 496\u001b[0m torch\u001b[39m.\u001b[39;49m_foreach_add_(device_state_steps, \u001b[39m1\u001b[39;49m)\n\u001b[1;32m    498\u001b[0m \u001b[39mif\u001b[39;00m weight_decay \u001b[39m!=\u001b[39m \u001b[39m0\u001b[39m:\n\u001b[1;32m    499\u001b[0m     \u001b[39m# Re-use the intermediate memory (device_grads) already allocated for maximize\u001b[39;00m\n\u001b[1;32m    500\u001b[0m     \u001b[39mif\u001b[39;00m maximize:\n",
      "\u001b[0;31mKeyboardInterrupt\u001b[0m: "
     ]
    }
   ],
   "source": [
    "gr.conduct_experiment(loaders, path=path)"
   ]
  },
  {
   "cell_type": "markdown",
   "id": "238b12047fb31913",
   "metadata": {
    "collapsed": false
   },
   "source": [
    "## FIXED ALPHA"
   ]
  },
  {
   "cell_type": "code",
   "execution_count": 5,
   "id": "bff1ebaad1e67ba5",
   "metadata": {
    "ExecuteTime": {
     "end_time": "2023-11-19T16:07:56.990530Z",
     "start_time": "2023-11-19T16:07:56.989641Z"
    },
    "collapsed": false
   },
   "outputs": [
    {
     "data": {
      "text/html": [
       "<div>\n",
       "<style scoped>\n",
       "    .dataframe tbody tr th:only-of-type {\n",
       "        vertical-align: middle;\n",
       "    }\n",
       "\n",
       "    .dataframe tbody tr th {\n",
       "        vertical-align: top;\n",
       "    }\n",
       "\n",
       "    .dataframe thead th {\n",
       "        text-align: right;\n",
       "    }\n",
       "</style>\n",
       "<table border=\"1\" class=\"dataframe\">\n",
       "  <thead>\n",
       "    <tr style=\"text-align: right;\">\n",
       "      <th></th>\n",
       "      <th>Unnamed: 0</th>\n",
       "      <th>a</th>\n",
       "      <th>b</th>\n",
       "      <th>lr</th>\n",
       "      <th>mean_loss</th>\n",
       "    </tr>\n",
       "  </thead>\n",
       "  <tbody>\n",
       "    <tr>\n",
       "      <th>0</th>\n",
       "      <td>0</td>\n",
       "      <td>0.01</td>\n",
       "      <td>10.0</td>\n",
       "      <td>0.0100</td>\n",
       "      <td>0.104709</td>\n",
       "    </tr>\n",
       "    <tr>\n",
       "      <th>1</th>\n",
       "      <td>0</td>\n",
       "      <td>0.01</td>\n",
       "      <td>10.0</td>\n",
       "      <td>0.0030</td>\n",
       "      <td>0.153181</td>\n",
       "    </tr>\n",
       "    <tr>\n",
       "      <th>2</th>\n",
       "      <td>0</td>\n",
       "      <td>0.01</td>\n",
       "      <td>10.0</td>\n",
       "      <td>0.0010</td>\n",
       "      <td>0.104268</td>\n",
       "    </tr>\n",
       "    <tr>\n",
       "      <th>3</th>\n",
       "      <td>0</td>\n",
       "      <td>0.01</td>\n",
       "      <td>10.0</td>\n",
       "      <td>0.0003</td>\n",
       "      <td>0.104174</td>\n",
       "    </tr>\n",
       "    <tr>\n",
       "      <th>4</th>\n",
       "      <td>0</td>\n",
       "      <td>0.01</td>\n",
       "      <td>10.0</td>\n",
       "      <td>0.0001</td>\n",
       "      <td>0.152803</td>\n",
       "    </tr>\n",
       "  </tbody>\n",
       "</table>\n",
       "</div>"
      ],
      "text/plain": [
       "   Unnamed: 0     a     b      lr  mean_loss\n",
       "0           0  0.01  10.0  0.0100   0.104709\n",
       "1           0  0.01  10.0  0.0030   0.153181\n",
       "2           0  0.01  10.0  0.0010   0.104268\n",
       "3           0  0.01  10.0  0.0003   0.104174\n",
       "4           0  0.01  10.0  0.0001   0.152803"
      ]
     },
     "execution_count": 5,
     "metadata": {},
     "output_type": "execute_result"
    }
   ],
   "source": [
    "df = pd.read_csv(f'{path}/fixed_alpha.csv')\n",
    "fixed_alpha = 0.01\n",
    "df.head()"
   ]
  },
  {
   "cell_type": "code",
   "execution_count": 6,
   "id": "cdd0c5ec8c920e00",
   "metadata": {
    "ExecuteTime": {
     "end_time": "2023-11-19T16:07:56.991071Z",
     "start_time": "2023-11-19T16:07:56.990955Z"
    },
    "collapsed": false
   },
   "outputs": [
    {
     "name": "stdout",
     "output_type": "stream",
     "text": [
      "(0.1,)\n",
      "(1.0,)\n",
      "(10.0,)\n",
      " best learning rate for beta: (0.1,) is lr: 0.003\n",
      " best learning rate for beta: (1.0,) is lr: 0.0003\n",
      " best learning rate for beta: (10.0,) is lr: 0.0003\n"
     ]
    }
   ],
   "source": [
    "groups = df.groupby(['b'])\n",
    "best_lrs = []\n",
    "b_values = []\n",
    "for name, group in groups:\n",
    "    print(name)\n",
    "    lr = group.sort_values(by=['mean_loss']).reset_index().at[0, 'lr']\n",
    "    best_lrs.append(lr)\n",
    "    b_values.append(name)\n",
    "assert len(best_lrs) == len(b_values), f'something wrong with selection of best learning rate'\n",
    "for i in range(0, len(b_values)):\n",
    "    b = b_values[i]\n",
    "    lr = best_lrs[i]\n",
    "    print(f' best learning rate for beta: {b} is lr: {lr}')"
   ]
  },
  {
   "cell_type": "code",
   "execution_count": 7,
   "id": "f88f5ed0b24bf641",
   "metadata": {
    "ExecuteTime": {
     "start_time": "2023-11-19T16:07:56.992313Z"
    },
    "collapsed": false
   },
   "outputs": [
    {
     "name": "stdout",
     "output_type": "stream",
     "text": [
      "lr: 0.003, b: (0.1,)\n"
     ]
    },
    {
     "data": {
      "application/vnd.jupyter.widget-view+json": {
       "model_id": "e6eae98be2ed4e3c8dc37e4deb54fd93",
       "version_major": 2,
       "version_minor": 0
      },
      "text/plain": [
       "  0%|          | 0/200 [00:00<?, ?it/s]"
      ]
     },
     "metadata": {},
     "output_type": "display_data"
    },
    {
     "name": "stdout",
     "output_type": "stream",
     "text": [
      "Early stopping at epoch: 57\n",
      "[nan, nan, nan, nan, nan, nan, nan, nan, nan, nan]\n",
      "lr: 0.0003, b: (1.0,)\n"
     ]
    },
    {
     "data": {
      "application/vnd.jupyter.widget-view+json": {
       "model_id": "958c37871d7d4f739410d3959c1fab1a",
       "version_major": 2,
       "version_minor": 0
      },
      "text/plain": [
       "  0%|          | 0/200 [00:00<?, ?it/s]"
      ]
     },
     "metadata": {},
     "output_type": "display_data"
    },
    {
     "name": "stdout",
     "output_type": "stream",
     "text": [
      "Early stopping at epoch: 123\n",
      "[0.0001637108349331736, 0.00011052607562340959, 6.780281327540526e-05, 3.76140961431428e-05, 1.957097948849251e-05, 9.846026409169866e-06, 5.657930769214465e-06, 4.4700988298943225e-06, 4.66738112699054e-06, 6.326555185561358e-06]\n",
      "lr: 0.0003, b: (10.0,)\n"
     ]
    },
    {
     "data": {
      "application/vnd.jupyter.widget-view+json": {
       "model_id": "51ae911c461c4e4294d7a5801d900208",
       "version_major": 2,
       "version_minor": 0
      },
      "text/plain": [
       "  0%|          | 0/200 [00:00<?, ?it/s]"
      ]
     },
     "metadata": {},
     "output_type": "display_data"
    },
    {
     "name": "stdout",
     "output_type": "stream",
     "text": [
      "[3.502878661872706e-05, 2.095886815615672e-05, 1.0985633089502106e-05, 4.9204188135528295e-06, 2.041793782022404e-06, 1.017547936154514e-06, 6.746775782021448e-07, 5.09955548770308e-07, 4.389753079526467e-07, 5.549542817603757e-07]\n"
     ]
    },
    {
     "data": {
      "image/png": "[encoded data removed]",
      "text/plain": [
       "<Figure size 1000x1000 with 1 Axes>"
      ]
     },
     "metadata": {},
     "output_type": "display_data"
    }
   ],
   "source": [
    "fig = plt.figure(figsize=(10, 10))\n",
    "\n",
    "for lr, b in zip(best_lrs, b_values):\n",
    "    print(f'lr: {lr}, b: {b}')\n",
    "    torch.manual_seed(1)\n",
    "    trainer = ResNetTrainer(loaders, lr=lr, b=b[0], a=fixed_alpha,latent_dimension=64)\n",
    "    trainer.train()\n",
    "    label = f'b = {b[0]}'\n",
    "    rate_mr_vae = []\n",
    "    distortion_mr_vae = []\n",
    "    for el in np.linspace(np.log(fixed_alpha), np.log(b[0]), 10):\n",
    "        _, (rate_losses, dist_losses) = trainer.rate_distortion_curve_value(el, None)\n",
    "        rate_mr_vae.append(rate_losses)\n",
    "        distortion_mr_vae.append(dist_losses)\n",
    "    plt.plot(rate_mr_vae, distortion_mr_vae, 'o', label=label)\n",
    "    print(rate_mr_vae)\n",
    "plt.legend()\n",
    "plt.xlabel('Rate')\n",
    "plt.ylabel('Distortion')\n",
    "plt.title('Rate-Distortion Curve')\n",
    "try:\n",
    "    plt.savefig(f'{path}/rate_distortion_curve_fixed_beta.pdf')\n",
    "except:\n",
    "    print('could not save figure')\n",
    "    pass\n",
    "plt.show()"
   ]
  },
  {
   "cell_type": "markdown",
   "id": "86853bd5d4ec566b",
   "metadata": {
    "collapsed": false
   },
   "source": [
    "## FIXED BETA"
   ]
  },
  {
   "cell_type": "code",
   "execution_count": 8,
   "id": "7d21f5e8177311f7",
   "metadata": {
    "ExecuteTime": {
     "start_time": "2023-11-19T16:07:56.993585Z"
    },
    "collapsed": false
   },
   "outputs": [],
   "source": [
    "df : pd.DataFrame= pd.read_csv(f'{path}/fixed_beta.csv')\n",
    "fixed_beta = 10."
   ]
  },
  {
   "cell_type": "code",
   "execution_count": 9,
   "id": "d6e7cf11413950bb",
   "metadata": {
    "ExecuteTime": {
     "start_time": "2023-11-19T16:07:56.994477Z"
    },
    "collapsed": false
   },
   "outputs": [
    {
     "name": "stdout",
     "output_type": "stream",
     "text": [
      " best learning rate for a: (0.001,) is lr: 0.0003\n",
      " best learning rate for a: (0.01,) is lr: 0.0003\n",
      " best learning rate for a: (0.1,) is lr: 0.0003\n",
      " best learning rate for a: (1.0,) is lr: 0.0003\n"
     ]
    }
   ],
   "source": [
    "groups = df.groupby(['a'])\n",
    "best_lrs = []\n",
    "a_values = []\n",
    "for name, group in groups:\n",
    "    lr = group.sort_values(by=['mean_loss']).reset_index().at[0, 'lr']\n",
    "    best_lrs.append(lr) \n",
    "    a_values.append(name)\n",
    "assert len(best_lrs) == len(a_values), f'something wrong with selection of best learning rate'\n",
    "for i in range(0, len(a_values)):\n",
    "    a = a_values[i]\n",
    "    lr = best_lrs[i]\n",
    "    print(f' best learning rate for a: {a} is lr: {lr}')"
   ]
  },
  {
   "cell_type": "code",
   "execution_count": 10,
   "id": "9814221836b81c68",
   "metadata": {
    "ExecuteTime": {
     "start_time": "2023-11-19T16:07:56.995440Z"
    },
    "collapsed": false
   },
   "outputs": [
    {
     "data": {
      "application/vnd.jupyter.widget-view+json": {
       "model_id": "5153a9e43a2342fca0227b54cff8a72a",
       "version_major": 2,
       "version_minor": 0
      },
      "text/plain": [
       "  0%|          | 0/200 [00:00<?, ?it/s]"
      ]
     },
     "metadata": {},
     "output_type": "display_data"
    },
    {
     "data": {
      "application/vnd.jupyter.widget-view+json": {
       "model_id": "1aac3bad6bde455bba014c76d5c54f00",
       "version_major": 2,
       "version_minor": 0
      },
      "text/plain": [
       "  0%|          | 0/200 [00:00<?, ?it/s]"
      ]
     },
     "metadata": {},
     "output_type": "display_data"
    },
    {
     "data": {
      "application/vnd.jupyter.widget-view+json": {
       "model_id": "d91d43c0a69b4eb8b1ebedd3f0f3ae71",
       "version_major": 2,
       "version_minor": 0
      },
      "text/plain": [
       "  0%|          | 0/200 [00:00<?, ?it/s]"
      ]
     },
     "metadata": {},
     "output_type": "display_data"
    },
    {
     "name": "stdout",
     "output_type": "stream",
     "text": [
      "Early stopping at epoch: 148\n"
     ]
    },
    {
     "data": {
      "application/vnd.jupyter.widget-view+json": {
       "model_id": "738ee027f8b44b16997a8df17b780699",
       "version_major": 2,
       "version_minor": 0
      },
      "text/plain": [
       "  0%|          | 0/200 [00:00<?, ?it/s]"
      ]
     },
     "metadata": {},
     "output_type": "display_data"
    },
    {
     "name": "stdout",
     "output_type": "stream",
     "text": [
      "Early stopping at epoch: 188\n"
     ]
    },
    {
     "data": {
      "image/png": "[encoded data removed]",
      "text/plain": [
       "<Figure size 1000x1000 with 1 Axes>"
      ]
     },
     "metadata": {},
     "output_type": "display_data"
    }
   ],
   "source": [
    "fig = plt.figure(figsize=(10, 10))\n",
    "for lr, a in zip(best_lrs, a_values):\n",
    "    trainer = ResNetTrainer(loaders, lr=lr, b=fixed_beta, a=a[0], latent_dimension=64)\n",
    "    trainer.train()\n",
    "    label = f'a = {a}'\n",
    "    rate_mr_vae = []\n",
    "    distortion_mr_vae = []\n",
    "    for el in np.linspace(np.log(a[0]), np.log(fixed_beta), 30):\n",
    "        _, (rate_losses, dist_losses) = trainer.rate_distortion_curve_value(el, None)\n",
    "        rate_mr_vae.append(rate_losses)\n",
    "        distortion_mr_vae.append(dist_losses)\n",
    "    plt.plot(rate_mr_vae, distortion_mr_vae, 'o', label=label)\n",
    "\n",
    "plt.legend()\n",
    "plt.xlabel('Rate')\n",
    "plt.ylabel('Distortion')\n",
    "plt.title('Rate-Distortion Curve')\n",
    "try:\n",
    "    plt.savefig(f'{path}/rate_distortion_curve_fixed_alpha.pdf')\n",
    "except:\n",
    "    print('could not save figure')\n",
    "    pass\n",
    "plt.show()"
   ]
  },
  {
   "cell_type": "code",
   "execution_count": null,
   "metadata": {},
   "outputs": [],
   "source": []
  },
  {
   "cell_type": "code",
   "execution_count": null,
   "metadata": {},
   "outputs": [],
   "source": []
  }
 ],
 "metadata": {
  "kernelspec": {
   "display_name": "Python 3",
   "language": "python",
   "name": "python3"
  },
  "language_info": {
   "codemirror_mode": {
    "name": "ipython",
    "version": 3
   },
   "file_extension": ".py",
   "mimetype": "text/x-python",
   "name": "python",
   "nbconvert_exporter": "python",
   "pygments_lexer": "ipython3",
   "version": "3.10.12"
  }
 },
 "nbformat": 4,
 "nbformat_minor": 5
}
