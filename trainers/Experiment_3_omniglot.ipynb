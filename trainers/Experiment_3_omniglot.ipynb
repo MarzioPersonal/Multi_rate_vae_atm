{
 "cells": [
  {
   "cell_type": "code",
   "execution_count": 1,
   "id": "initial_id",
   "metadata": {
    "collapsed": true,
    "ExecuteTime": {
     "end_time": "2023-11-19T16:10:20.548066Z",
     "start_time": "2023-11-19T16:10:18.933166Z"
    }
   },
   "outputs": [],
   "source": [
    "from trainers.ResNetTrainer import ExperimentThree\n",
    "from trainers.ResNetTrainer import ResNetTrainer\n",
    "import numpy as np\n",
    "import pandas as pd\n",
    "import torch \n",
    "import matplotlib.pyplot as plt\n",
    "if torch.cuda.is_available():\n",
    "    torch.set_float32_matmul_precision('high')"
   ]
  },
  {
   "cell_type": "code",
   "execution_count": 2,
   "outputs": [],
   "source": [
    "from datasets.utils_datasets import get_omniglot_loaders\n",
    "seed = 5\n",
    "loaders =  get_omniglot_loaders(seed=seed, batch_size_train=256)"
   ],
   "metadata": {
    "collapsed": false,
    "ExecuteTime": {
     "end_time": "2023-11-19T16:10:20.903660Z",
     "start_time": "2023-11-19T16:10:20.545600Z"
    }
   },
   "id": "9c277ae5f23ebf3f"
  },
  {
   "cell_type": "markdown",
   "source": [
    "# MNIST"
   ],
   "metadata": {
    "collapsed": false
   },
   "id": "650e11ba113ff6bc"
  },
  {
   "cell_type": "code",
   "execution_count": 3,
   "outputs": [],
   "source": [
    "path = 'experiment_3/omniglot'"
   ],
   "metadata": {
    "collapsed": false,
    "ExecuteTime": {
     "end_time": "2023-11-19T16:10:20.992500Z",
     "start_time": "2023-11-19T16:10:20.991445Z"
    }
   },
   "id": "72bce455fdd50b02"
  },
  {
   "cell_type": "code",
   "execution_count": 4,
   "outputs": [],
   "source": [
    "gr = ExperimentThree()"
   ],
   "metadata": {
    "collapsed": false,
    "ExecuteTime": {
     "end_time": "2023-11-19T16:10:21.457284Z",
     "start_time": "2023-11-19T16:10:21.452237Z"
    }
   },
   "id": "10e0cb16021d2ec8"
  },
  {
   "cell_type": "code",
   "execution_count": null,
   "outputs": [
    {
     "data": {
      "text/plain": "  0%|          | 0/200 [00:00<?, ?it/s]",
      "application/vnd.jupyter.widget-view+json": {
       "version_major": 2,
       "version_minor": 0,
       "model_id": "1de934cb0a1044749d427cc86e5586d1"
      }
     },
     "metadata": {},
     "output_type": "display_data"
    }
   ],
   "source": [
    "gr.conduct_experiment(loaders, path=path)"
   ],
   "metadata": {
    "collapsed": false,
    "is_executing": true,
    "ExecuteTime": {
     "start_time": "2023-11-19T16:10:21.857379Z"
    }
   },
   "id": "3471c90bd8db6675"
  },
  {
   "cell_type": "markdown",
   "source": [
    "## FIXED ALPHA"
   ],
   "metadata": {
    "collapsed": false
   },
   "id": "238b12047fb31913"
  },
  {
   "cell_type": "code",
   "execution_count": null,
   "outputs": [],
   "source": [
    "df = pd.read_csv(f'{path}/fixed_alpha.csv')\n",
    "fixed_alpha = 0.01"
   ],
   "metadata": {
    "collapsed": false,
    "ExecuteTime": {
     "end_time": "2023-11-19T16:07:56.990530Z",
     "start_time": "2023-11-19T16:07:56.989641Z"
    }
   },
   "id": "bff1ebaad1e67ba5"
  },
  {
   "cell_type": "code",
   "execution_count": null,
   "outputs": [],
   "source": [
    "groups = df.groupby(['b'])\n",
    "best_lrs = []\n",
    "b_values = []\n",
    "for name, group in groups:\n",
    "    lr = group.sort_values(by=['mean_loss']).reset_index().at[0, 'lr']\n",
    "    best_lrs.append(lr)\n",
    "    b_values.append(name)\n",
    "assert len(best_lrs) == len(b_values), f'something wrong with selection of best learning rate'\n",
    "for i in range(0, len(b_values)):\n",
    "    b = b_values[i]\n",
    "    lr = best_lrs[i]\n",
    "    print(f' best learning rate for beta: {b} is lr: {lr}')"
   ],
   "metadata": {
    "collapsed": false,
    "ExecuteTime": {
     "end_time": "2023-11-19T16:07:56.991071Z",
     "start_time": "2023-11-19T16:07:56.990955Z"
    }
   },
   "id": "cdd0c5ec8c920e00"
  },
  {
   "cell_type": "code",
   "execution_count": null,
   "outputs": [],
   "source": [
    "fig = plt.figure(figsize=(10, 10))\n",
    "for lr, b in zip(best_lrs, b_values):\n",
    "    trainer = ResNetTrainer(loaders, lr=lr, b=b, a=fixed_alpha)\n",
    "    trainer.train()\n",
    "    label = f'b = {b}'\n",
    "    for el in np.linspace(np.log(fixed_alpha), np.log(b), 30):\n",
    "        _, (rate_losses, dist_losses) = trainer.rate_distortion_curve_value(el, None)\n",
    "        plt.plot(rate_losses, dist_losses, label=label)\n",
    "\n",
    "plt.legend()\n",
    "plt.xlabel('Rate')\n",
    "plt.ylabel('Distortion')\n",
    "plt.title('Rate-Distortion Curve')\n",
    "try:\n",
    "    plt.savefig(f'{path}/rate_distortion_curve_fixed_beta.pdf')\n",
    "except:\n",
    "    print('could not save figure')\n",
    "    pass\n",
    "plt.show()"
   ],
   "metadata": {
    "collapsed": false,
    "ExecuteTime": {
     "start_time": "2023-11-19T16:07:56.992313Z"
    }
   },
   "id": "f88f5ed0b24bf641"
  },
  {
   "cell_type": "markdown",
   "source": [
    "## FIXED BETA"
   ],
   "metadata": {
    "collapsed": false
   },
   "id": "86853bd5d4ec566b"
  },
  {
   "cell_type": "code",
   "execution_count": null,
   "outputs": [],
   "source": [
    "df : pd.DataFrame= pd.read_csv(f'{path}/fixed_beta.csv')\n",
    "fixed_beta = 10."
   ],
   "metadata": {
    "collapsed": false,
    "ExecuteTime": {
     "start_time": "2023-11-19T16:07:56.993585Z"
    }
   },
   "id": "7d21f5e8177311f7"
  },
  {
   "cell_type": "code",
   "execution_count": null,
   "outputs": [],
   "source": [
    "groups = df.groupby(['a'])\n",
    "best_lrs = []\n",
    "a_values = []\n",
    "for name, group in groups:\n",
    "    lr = group.sort_values(by=['mean_loss']).reset_index().at[0, 'lr']\n",
    "    best_lrs.append(lr) \n",
    "    a_values.append(name)\n",
    "assert len(best_lrs) == len(a_values), f'something wrong with selection of best learning rate'\n",
    "for i in range(0, len(a_values)):\n",
    "    a = a_values[i]\n",
    "    lr = best_lrs[i]\n",
    "    print(f' best learning rate for a: {a} is lr: {lr}')"
   ],
   "metadata": {
    "collapsed": false,
    "ExecuteTime": {
     "start_time": "2023-11-19T16:07:56.994477Z"
    }
   },
   "id": "d6e7cf11413950bb"
  },
  {
   "cell_type": "code",
   "execution_count": null,
   "outputs": [],
   "source": [
    "fig = plt.figure(figsize=(10, 10))\n",
    "for lr, a in zip(best_lrs, a_values):\n",
    "    trainer = ResNetTrainer(loaders, lr=lr, b=fixed_beta, a=a)\n",
    "    trainer.train()\n",
    "    label = f'a = {a}'\n",
    "    for el in np.linspace(np.log(a), np.log(fixed_beta), 30):\n",
    "        _, (rate_losses, dist_losses) = trainer.rate_distortion_curve_value(el, None)\n",
    "        plt.plot(rate_losses, dist_losses, label=label)\n",
    "\n",
    "plt.legend()\n",
    "plt.xlabel('Rate')\n",
    "plt.ylabel('Distortion')\n",
    "plt.title('Rate-Distortion Curve')\n",
    "try:\n",
    "    plt.savefig(f'{path}/rate_distortion_curve_fixed_alpha.pdf')\n",
    "except:\n",
    "    print('could not save figure')\n",
    "    pass\n",
    "plt.show()"
   ],
   "metadata": {
    "collapsed": false,
    "ExecuteTime": {
     "start_time": "2023-11-19T16:07:56.995440Z"
    }
   },
   "id": "9814221836b81c68"
  }
 ],
 "metadata": {
  "kernelspec": {
   "display_name": "Python 3",
   "language": "python",
   "name": "python3"
  },
  "language_info": {
   "codemirror_mode": {
    "name": "ipython",
    "version": 2
   },
   "file_extension": ".py",
   "mimetype": "text/x-python",
   "name": "python",
   "nbconvert_exporter": "python",
   "pygments_lexer": "ipython2",
   "version": "2.7.6"
  }
 },
 "nbformat": 4,
 "nbformat_minor": 5
}
