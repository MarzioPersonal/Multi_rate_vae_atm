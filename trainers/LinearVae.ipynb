{
 "cells": [
  {
   "cell_type": "code",
   "execution_count": 1,
   "id": "initial_id",
   "metadata": {
    "collapsed": true,
    "ExecuteTime": {
     "end_time": "2023-11-14T14:07:27.418399Z",
     "start_time": "2023-11-14T14:07:26.165422Z"
    }
   },
   "outputs": [],
   "source": [
    "from Trainer import Trainer\n",
    "from datasets.utils_datasets import get_mnist_binary_static_loaders\n",
    "from models.linearVae import LinearVae, MultiRateLinearVae"
   ]
  },
  {
   "cell_type": "code",
   "execution_count": 2,
   "outputs": [],
   "source": [
    "seed = 1\n",
    "loaders = get_mnist_binary_static_loaders(32, train_size=0.8, val_size=0.2, seed=seed)"
   ],
   "metadata": {
    "collapsed": false,
    "ExecuteTime": {
     "end_time": "2023-11-14T14:07:27.688494Z",
     "start_time": "2023-11-14T14:07:27.649613Z"
    }
   },
   "id": "3b52b81eba75c87b"
  },
  {
   "cell_type": "code",
   "execution_count": 3,
   "outputs": [],
   "source": [
    "model = LinearVae()"
   ],
   "metadata": {
    "collapsed": false,
    "ExecuteTime": {
     "end_time": "2023-11-14T14:07:28.043662Z",
     "start_time": "2023-11-14T14:07:28.038210Z"
    }
   },
   "id": "f0b0d2fc7b205c3d"
  },
  {
   "cell_type": "code",
   "execution_count": 4,
   "outputs": [],
   "source": [
    "trainer = Trainer(model, loaders)"
   ],
   "metadata": {
    "collapsed": false,
    "ExecuteTime": {
     "end_time": "2023-11-14T14:07:29.017696Z",
     "start_time": "2023-11-14T14:07:29.012240Z"
    }
   },
   "id": "ffac1045f0793082"
  },
  {
   "cell_type": "code",
   "execution_count": 5,
   "outputs": [
    {
     "name": "stdout",
     "output_type": "stream",
     "text": [
      "Ep 1; loss:0.36467993853489555\n",
      "Val loss: 0.2912238398392995\n",
      "Ep 2; loss:0.29177444326877594\n",
      "Val loss: 0.2903207221031189\n",
      "Ep 3; loss:0.2907025310993195\n",
      "Val loss: 0.2901896166006724\n",
      "Ep 4; loss:0.29010990699132283\n",
      "Val loss: 0.2893783841133118\n",
      "Ep 5; loss:0.28974122722943624\n",
      "Val loss: 0.28880332406361897\n",
      "Ep 6; loss:0.2894474442799886\n",
      "Val loss: 0.2885841959317525\n",
      "Ep 7; loss:1.2503586580554644\n",
      "Val loss: 0.2908930055300395\n",
      "Ep 8; loss:0.29042607007424037\n",
      "Val loss: 0.2893709628582001\n",
      "Ep 9; loss:0.2896051770846049\n",
      "Val loss: 0.2886810466448466\n",
      "Ep 10; loss:0.28938359558582305\n",
      "Val loss: 0.28872729619344073\n"
     ]
    }
   ],
   "source": [
    "trainer.train(epochs=10)"
   ],
   "metadata": {
    "collapsed": false,
    "ExecuteTime": {
     "end_time": "2023-11-14T14:08:51.248249Z",
     "start_time": "2023-11-14T14:07:30.205742Z"
    }
   },
   "id": "3f4cbf994f8039c9"
  },
  {
   "cell_type": "code",
   "execution_count": 6,
   "outputs": [],
   "source": [
    "model_multi = MultiRateLinearVae()\n",
    "trainer_multi = Trainer(model_multi, loaders)\n"
   ],
   "metadata": {
    "collapsed": false,
    "ExecuteTime": {
     "end_time": "2023-11-14T14:08:51.248501Z",
     "start_time": "2023-11-14T14:08:51.243405Z"
    }
   },
   "id": "75c7647c2cdf5f94"
  },
  {
   "cell_type": "code",
   "execution_count": 7,
   "outputs": [
    {
     "name": "stdout",
     "output_type": "stream",
     "text": [
      "Ep 1; loss:0.4592070540587107\n",
      "Val loss: 0.3930231091181437\n",
      "Ep 2; loss:0.3782803286910057\n",
      "Val loss: 0.3664752540588379\n",
      "Ep 3; loss:0.3582983748515447\n",
      "Val loss: 0.3503893418312073\n",
      "Ep 4; loss:0.3454239668448766\n",
      "Val loss: 0.34080387409528096\n",
      "Ep 5; loss:0.3995131034652392\n",
      "Val loss: 0.33956787053744\n",
      "Ep 6; loss:0.33244069129228593\n",
      "Val loss: 0.329679701089859\n",
      "Ep 7; loss:0.328986652135849\n",
      "Val loss: 0.3278562529881795\n",
      "Ep 8; loss:0.32817075043916705\n",
      "Val loss: 0.3274383004506429\n",
      "Ep 9; loss:0.32788227144877113\n",
      "Val loss: 0.3271816826661428\n",
      "Ep 10; loss:0.32767550979057947\n",
      "Val loss: 0.32715606037775674\n"
     ]
    }
   ],
   "source": [
    "trainer_multi.train(epochs=10)"
   ],
   "metadata": {
    "collapsed": false,
    "ExecuteTime": {
     "end_time": "2023-11-14T14:10:32.026417Z",
     "start_time": "2023-11-14T14:08:51.249408Z"
    }
   },
   "id": "ea727fb9a421da1b"
  },
  {
   "cell_type": "code",
   "execution_count": null,
   "outputs": [],
   "source": [],
   "metadata": {
    "collapsed": false,
    "ExecuteTime": {
     "start_time": "2023-11-03T10:17:23.285219Z"
    }
   },
   "id": "1d9caf08b3c6a9c6"
  },
  {
   "cell_type": "code",
   "execution_count": null,
   "outputs": [],
   "source": [],
   "metadata": {
    "collapsed": false
   },
   "id": "c5d7da48b01f8e14"
  }
 ],
 "metadata": {
  "kernelspec": {
   "display_name": "Python 3",
   "language": "python",
   "name": "python3"
  },
  "language_info": {
   "codemirror_mode": {
    "name": "ipython",
    "version": 2
   },
   "file_extension": ".py",
   "mimetype": "text/x-python",
   "name": "python",
   "nbconvert_exporter": "python",
   "pygments_lexer": "ipython2",
   "version": "2.7.6"
  }
 },
 "nbformat": 4,
 "nbformat_minor": 5
}
