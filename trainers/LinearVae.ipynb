{
 "cells": [
  {
   "cell_type": "code",
   "execution_count": 1,
   "id": "initial_id",
   "metadata": {
    "collapsed": true,
    "ExecuteTime": {
     "end_time": "2023-11-16T21:56:02.497230Z",
     "start_time": "2023-11-16T21:56:01.261993Z"
    }
   },
   "outputs": [],
   "source": [
    "from Trainer import LinearTrainer\n",
    "from datasets.utils_datasets import get_mnist_binary_static_loaders"
   ]
  },
  {
   "cell_type": "code",
   "execution_count": 2,
   "outputs": [],
   "source": [
    "seed = 5"
   ],
   "metadata": {
    "collapsed": false,
    "ExecuteTime": {
     "end_time": "2023-11-16T21:56:02.508712Z",
     "start_time": "2023-11-16T21:56:02.498435Z"
    }
   },
   "id": "f5b5affbeed4194a"
  },
  {
   "cell_type": "code",
   "execution_count": 3,
   "outputs": [],
   "source": [
    "loaders = get_mnist_binary_static_loaders(seed=seed, train_size=0.7, val_size=0.3)"
   ],
   "metadata": {
    "collapsed": false,
    "ExecuteTime": {
     "end_time": "2023-11-16T21:56:02.522477Z",
     "start_time": "2023-11-16T21:56:02.500710Z"
    }
   },
   "id": "8cd765a76383cc29"
  },
  {
   "cell_type": "code",
   "execution_count": 4,
   "outputs": [],
   "source": [
    "trainer = LinearTrainer(loaders, use_multi_rate=False)"
   ],
   "metadata": {
    "collapsed": false,
    "ExecuteTime": {
     "end_time": "2023-11-16T21:56:02.529501Z",
     "start_time": "2023-11-16T21:56:02.522587Z"
    }
   },
   "id": "ffac1045f0793082"
  },
  {
   "cell_type": "code",
   "execution_count": 5,
   "outputs": [
    {
     "name": "stdout",
     "output_type": "stream",
     "text": [
      "Ep 1; loss:0.2959836710752282\n",
      "Val loss: 0.29073087016176796\n",
      "REC: 0.2907027949448377 KDL: 2.8075294678312846e-05\n",
      "Ep 2; loss:0.2905456424667376\n",
      "Val loss: 0.29000854555709327\n",
      "REC: 0.2899917091505989 KDL: 1.683640814854451e-05\n",
      "Ep 3; loss:0.2898767744868381\n",
      "Val loss: 0.28935341174395\n",
      "REC: 0.2893429998817918 KDL: 1.0411888625651439e-05\n",
      "Ep 4; loss:0.2894797611808559\n",
      "Val loss: 0.289283656576387\n",
      "REC: 0.28926918042913 KDL: 1.4476638558596955e-05\n",
      "Ep 5; loss:0.28922646259498885\n",
      "Val loss: 0.28910956945978306\n",
      "REC: 0.28910433303822847 KDL: 5.236117179186264e-06\n",
      "Ep 6; loss:0.2890512334737538\n",
      "Val loss: 0.28875183037500396\n",
      "REC: 0.28874900312449114 KDL: 2.8273299151161424e-06\n",
      "Ep 7; loss:0.2889601853133519\n",
      "Val loss: 0.28885230077943413\n",
      "REC: 0.2888428969556866 KDL: 9.404617770315275e-06\n",
      "Ep 8; loss:0.2889343312425824\n",
      "Val loss: 0.28886737334368284\n",
      "REC: 0.2888655719176914 KDL: 1.8021869299466826e-06\n",
      "Ep 9; loss:0.28888482089180667\n",
      "Val loss: 0.2886049702472416\n",
      "REC: 0.288601645779652 KDL: 3.3248778346588514e-06\n",
      "Ep 10; loss:0.28886932279894756\n",
      "Val loss: 0.28856384881224556\n",
      "REC: 0.2885616034216398 KDL: 2.245683401664239e-06\n"
     ]
    }
   ],
   "source": [
    "trainer.train(epochs=10)"
   ],
   "metadata": {
    "collapsed": false,
    "ExecuteTime": {
     "end_time": "2023-11-16T21:57:18.937242Z",
     "start_time": "2023-11-16T21:56:02.529429Z"
    }
   },
   "id": "3f4cbf994f8039c9"
  },
  {
   "cell_type": "code",
   "execution_count": 6,
   "outputs": [],
   "source": [
    "trainer_multi = LinearTrainer(loaders, use_multi_rate=True)"
   ],
   "metadata": {
    "collapsed": false,
    "ExecuteTime": {
     "end_time": "2023-11-16T21:57:18.937413Z",
     "start_time": "2023-11-16T21:57:18.932162Z"
    }
   },
   "id": "75c7647c2cdf5f94"
  },
  {
   "cell_type": "code",
   "execution_count": 7,
   "outputs": [
    {
     "name": "stdout",
     "output_type": "stream",
     "text": [
      "Ep 1; loss:0.433564993686923\n",
      "Val loss: 0.37728459886928645\n",
      "REC: 0.37727387257409983 KDL: 1.0727183499619973e-05\n",
      "Ep 2; loss:0.3761011264474902\n",
      "Val loss: 0.36378621208096057\n",
      "REC: 0.36377490408467145 KDL: 1.1308525637665609e-05\n",
      "Ep 3; loss:0.35696429200328583\n",
      "Val loss: 0.3497061518221088\n",
      "REC: 0.3496953993241698 KDL: 1.0753088493436098e-05\n",
      "Ep 4; loss:0.34216204769086583\n",
      "Val loss: 0.33945691410855755\n",
      "REC: 0.3394495707210385 KDL: 7.343093068942719e-06\n",
      "Ep 5; loss:0.3330555632653712\n",
      "Val loss: 0.333755755615065\n",
      "REC: 0.33374930492091137 KDL: 6.450699116260501e-06\n",
      "Ep 6; loss:0.3271448680760746\n",
      "Val loss: 0.3251060864112305\n",
      "REC: 0.3251007535423733 KDL: 5.332662080469182e-06\n",
      "Ep 7; loss:0.3221251492226115\n",
      "Val loss: 0.31951259375677227\n",
      "REC: 0.31950859839285245 KDL: 3.995299405463e-06\n",
      "Ep 8; loss:0.31949912264704794\n",
      "Val loss: 0.3176672565047737\n",
      "REC: 0.31766270341923986 KDL: 4.552155865445653e-06\n",
      "Ep 9; loss:0.31746362007853646\n",
      "Val loss: 0.3162569527515933\n",
      "REC: 0.31625283828425366 KDL: 4.113890018916257e-06\n",
      "Ep 10; loss:0.3153586741494297\n",
      "Val loss: 0.3151170273657167\n",
      "REC: 0.3151152577535721 KDL: 1.7694781532719545e-06\n"
     ]
    }
   ],
   "source": [
    "trainer_multi.train(epochs=10)"
   ],
   "metadata": {
    "collapsed": false,
    "ExecuteTime": {
     "end_time": "2023-11-16T21:58:53.068481Z",
     "start_time": "2023-11-16T21:57:18.937918Z"
    }
   },
   "id": "ea727fb9a421da1b"
  }
 ],
 "metadata": {
  "kernelspec": {
   "display_name": "Python 3",
   "language": "python",
   "name": "python3"
  },
  "language_info": {
   "codemirror_mode": {
    "name": "ipython",
    "version": 2
   },
   "file_extension": ".py",
   "mimetype": "text/x-python",
   "name": "python",
   "nbconvert_exporter": "python",
   "pygments_lexer": "ipython2",
   "version": "2.7.6"
  }
 },
 "nbformat": 4,
 "nbformat_minor": 5
}
