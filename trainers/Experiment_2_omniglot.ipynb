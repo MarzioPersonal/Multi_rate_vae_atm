{
 "cells": [
  {
   "cell_type": "code",
   "execution_count": 1,
   "id": "initial_id",
   "metadata": {
    "ExecuteTime": {
     "end_time": "2023-11-18T20:31:31.481008Z",
     "start_time": "2023-11-18T20:31:28.835878Z"
    },
    "collapsed": true
   },
   "outputs": [],
   "source": [
    "from CNNTrainer import GridSearcher, CNNTrainer\n",
    "import torch\n",
    "import pandas as pd\n",
    "import numpy as np\n",
    "import seaborn as sns\n",
    "sns.set(style=\"whitegrid\")\n",
    "if torch.cuda.is_available():\n",
    "    torch.set_float32_matmul_precision('high')"
   ]
  },
  {
   "cell_type": "code",
   "execution_count": 2,
   "id": "3724072f5c56be05",
   "metadata": {
    "ExecuteTime": {
     "end_time": "2023-11-18T20:31:34.520645Z",
     "start_time": "2023-11-18T20:31:31.417597Z"
    },
    "collapsed": false
   },
   "outputs": [
    {
     "name": "stdout",
     "output_type": "stream",
     "text": [
      "Files already downloaded and verified\n",
      "Files already downloaded and verified\n"
     ]
    }
   ],
   "source": [
    "from datasets.utils_datasets import get_omniglot_loaders\n",
    "seed = 5\n",
    "loaders = get_omniglot_loaders(seed=seed, batch_size_train=128)"
   ]
  },
  {
   "cell_type": "markdown",
   "id": "e5d4a3631a27af89",
   "metadata": {
    "collapsed": false
   },
   "source": [
    "# RENSET"
   ]
  },
  {
   "cell_type": "code",
   "execution_count": 3,
   "id": "12dc03ea46e31cd9",
   "metadata": {
    "ExecuteTime": {
     "end_time": "2023-11-18T20:32:55.532718Z",
     "start_time": "2023-11-18T20:32:55.528219Z"
    },
    "collapsed": false
   },
   "outputs": [],
   "source": [
    "gr_resnet = GridSearcher(loaders, resnet=True)"
   ]
  },
  {
   "cell_type": "code",
   "execution_count": 4,
   "id": "d9190d5dd532fd5d",
   "metadata": {
    "ExecuteTime": {
     "end_time": "2023-11-18T20:32:56.886820Z",
     "start_time": "2023-11-18T20:32:56.880248Z"
    },
    "collapsed": false
   },
   "outputs": [],
   "source": [
    "path = 'experiment_2/omniglot'"
   ]
  },
  {
   "cell_type": "code",
   "execution_count": 5,
   "id": "92f6091528c9ffa4",
   "metadata": {
    "ExecuteTime": {
     "end_time": "2023-11-18T20:36:00.419454Z",
     "start_time": "2023-11-18T20:32:57.471168Z"
    },
    "collapsed": false
   },
   "outputs": [
    {
     "name": "stdout",
     "output_type": "stream",
     "text": [
      "Using device: cuda\n",
      "Beta-VAE\n",
      "conducting experiment 1 with beta: 1.0 and learning rate: 0.01\n",
      "using seed: 1\n"
     ]
    },
    {
     "data": {
      "application/vnd.jupyter.widget-view+json": {
       "model_id": "15d45f38d5fb41579deec0c1a8a11ba6",
       "version_major": 2,
       "version_minor": 0
      },
      "text/plain": [
       "  0%|          | 0/200 [00:00<?, ?it/s]"
      ]
     },
     "metadata": {},
     "output_type": "display_data"
    },
    {
     "name": "stdout",
     "output_type": "stream",
     "text": [
      "Early stopping at epoch: 45\n",
      "using seed: 10\n"
     ]
    },
    {
     "data": {
      "application/vnd.jupyter.widget-view+json": {
       "model_id": "b3ce10e001f64a55a312c5e7d658378f",
       "version_major": 2,
       "version_minor": 0
      },
      "text/plain": [
       "  0%|          | 0/200 [00:00<?, ?it/s]"
      ]
     },
     "metadata": {},
     "output_type": "display_data"
    },
    {
     "name": "stdout",
     "output_type": "stream",
     "text": [
      "Early stopping at epoch: 43\n",
      "using seed: 100\n"
     ]
    },
    {
     "data": {
      "application/vnd.jupyter.widget-view+json": {
       "model_id": "d5c86ff441834c7cad92605e6d4602ec",
       "version_major": 2,
       "version_minor": 0
      },
      "text/plain": [
       "  0%|          | 0/200 [00:00<?, ?it/s]"
      ]
     },
     "metadata": {},
     "output_type": "display_data"
    },
    {
     "name": "stdout",
     "output_type": "stream",
     "text": [
      "Early stopping at epoch: 68\n",
      "conducting experiment 1 with beta: 1.0 and learning rate: 0.003\n",
      "using seed: 1\n"
     ]
    },
    {
     "data": {
      "application/vnd.jupyter.widget-view+json": {
       "model_id": "48012e328772471da12d875b7f6131fe",
       "version_major": 2,
       "version_minor": 0
      },
      "text/plain": [
       "  0%|          | 0/200 [00:00<?, ?it/s]"
      ]
     },
     "metadata": {},
     "output_type": "display_data"
    },
    {
     "name": "stdout",
     "output_type": "stream",
     "text": [
      "Early stopping at epoch: 99\n",
      "using seed: 10\n"
     ]
    },
    {
     "data": {
      "application/vnd.jupyter.widget-view+json": {
       "model_id": "18fa792c482e42d3961630fefb8a01c0",
       "version_major": 2,
       "version_minor": 0
      },
      "text/plain": [
       "  0%|          | 0/200 [00:00<?, ?it/s]"
      ]
     },
     "metadata": {},
     "output_type": "display_data"
    },
    {
     "name": "stdout",
     "output_type": "stream",
     "text": [
      "Early stopping at epoch: 67\n",
      "using seed: 100\n"
     ]
    },
    {
     "data": {
      "application/vnd.jupyter.widget-view+json": {
       "model_id": "c65e476a36eb43938a2b265a3d0d4f75",
       "version_major": 2,
       "version_minor": 0
      },
      "text/plain": [
       "  0%|          | 0/200 [00:00<?, ?it/s]"
      ]
     },
     "metadata": {},
     "output_type": "display_data"
    },
    {
     "name": "stdout",
     "output_type": "stream",
     "text": [
      "Early stopping at epoch: 121\n",
      "conducting experiment 1 with beta: 1.0 and learning rate: 0.001\n",
      "using seed: 1\n"
     ]
    },
    {
     "data": {
      "application/vnd.jupyter.widget-view+json": {
       "model_id": "2d176d5f33894285b25e06e743938582",
       "version_major": 2,
       "version_minor": 0
      },
      "text/plain": [
       "  0%|          | 0/200 [00:00<?, ?it/s]"
      ]
     },
     "metadata": {},
     "output_type": "display_data"
    },
    {
     "name": "stdout",
     "output_type": "stream",
     "text": [
      "Early stopping at epoch: 101\n",
      "using seed: 10\n"
     ]
    },
    {
     "data": {
      "application/vnd.jupyter.widget-view+json": {
       "model_id": "31b8ff9137f34ddb81eebfff80591331",
       "version_major": 2,
       "version_minor": 0
      },
      "text/plain": [
       "  0%|          | 0/200 [00:00<?, ?it/s]"
      ]
     },
     "metadata": {},
     "output_type": "display_data"
    },
    {
     "name": "stdout",
     "output_type": "stream",
     "text": [
      "Early stopping at epoch: 94\n",
      "using seed: 100\n"
     ]
    },
    {
     "data": {
      "application/vnd.jupyter.widget-view+json": {
       "model_id": "8f3f11c241fb48809e95ad3411f169d8",
       "version_major": 2,
       "version_minor": 0
      },
      "text/plain": [
       "  0%|          | 0/200 [00:00<?, ?it/s]"
      ]
     },
     "metadata": {},
     "output_type": "display_data"
    },
    {
     "name": "stdout",
     "output_type": "stream",
     "text": [
      "Early stopping at epoch: 76\n",
      "conducting experiment 1 with beta: 1.0 and learning rate: 0.0003\n",
      "using seed: 1\n"
     ]
    },
    {
     "data": {
      "application/vnd.jupyter.widget-view+json": {
       "model_id": "0bb0dd1520e5463a9855dedb5a3e0e51",
       "version_major": 2,
       "version_minor": 0
      },
      "text/plain": [
       "  0%|          | 0/200 [00:00<?, ?it/s]"
      ]
     },
     "metadata": {},
     "output_type": "display_data"
    },
    {
     "name": "stdout",
     "output_type": "stream",
     "text": [
      "using seed: 10\n"
     ]
    },
    {
     "data": {
      "application/vnd.jupyter.widget-view+json": {
       "model_id": "c789399190274c7ba61946817e7526ae",
       "version_major": 2,
       "version_minor": 0
      },
      "text/plain": [
       "  0%|          | 0/200 [00:00<?, ?it/s]"
      ]
     },
     "metadata": {},
     "output_type": "display_data"
    },
    {
     "name": "stdout",
     "output_type": "stream",
     "text": [
      "using seed: 100\n"
     ]
    },
    {
     "data": {
      "application/vnd.jupyter.widget-view+json": {
       "model_id": "d3c3516b0a284eeaa3e2a132875789d9",
       "version_major": 2,
       "version_minor": 0
      },
      "text/plain": [
       "  0%|          | 0/200 [00:00<?, ?it/s]"
      ]
     },
     "metadata": {},
     "output_type": "display_data"
    },
    {
     "name": "stdout",
     "output_type": "stream",
     "text": [
      "conducting experiment 1 with beta: 1.0 and learning rate: 0.0001\n",
      "using seed: 1\n"
     ]
    },
    {
     "data": {
      "application/vnd.jupyter.widget-view+json": {
       "model_id": "eac13806dff241a5885ddbc318ebab17",
       "version_major": 2,
       "version_minor": 0
      },
      "text/plain": [
       "  0%|          | 0/200 [00:00<?, ?it/s]"
      ]
     },
     "metadata": {},
     "output_type": "display_data"
    },
    {
     "name": "stdout",
     "output_type": "stream",
     "text": [
      "using seed: 10\n"
     ]
    },
    {
     "data": {
      "application/vnd.jupyter.widget-view+json": {
       "model_id": "eb6351bb16e04231b2fa0d704cfeb427",
       "version_major": 2,
       "version_minor": 0
      },
      "text/plain": [
       "  0%|          | 0/200 [00:00<?, ?it/s]"
      ]
     },
     "metadata": {},
     "output_type": "display_data"
    },
    {
     "name": "stdout",
     "output_type": "stream",
     "text": [
      "using seed: 100\n"
     ]
    },
    {
     "data": {
      "application/vnd.jupyter.widget-view+json": {
       "model_id": "7ed2ed8dae884273aea27bfd4669be2e",
       "version_major": 2,
       "version_minor": 0
      },
      "text/plain": [
       "  0%|          | 0/200 [00:00<?, ?it/s]"
      ]
     },
     "metadata": {},
     "output_type": "display_data"
    },
    {
     "name": "stdout",
     "output_type": "stream",
     "text": [
      "conducting experiment 1 with beta: 1.0 and learning rate: 3e-05\n",
      "using seed: 1\n"
     ]
    },
    {
     "data": {
      "application/vnd.jupyter.widget-view+json": {
       "model_id": "299192de3adb4bfb8c9faeb9ad0ac5b1",
       "version_major": 2,
       "version_minor": 0
      },
      "text/plain": [
       "  0%|          | 0/200 [00:00<?, ?it/s]"
      ]
     },
     "metadata": {},
     "output_type": "display_data"
    },
    {
     "name": "stdout",
     "output_type": "stream",
     "text": [
      "using seed: 10\n"
     ]
    },
    {
     "data": {
      "application/vnd.jupyter.widget-view+json": {
       "model_id": "d1e45bc01049410f8385ca969121657e",
       "version_major": 2,
       "version_minor": 0
      },
      "text/plain": [
       "  0%|          | 0/200 [00:00<?, ?it/s]"
      ]
     },
     "metadata": {},
     "output_type": "display_data"
    },
    {
     "name": "stdout",
     "output_type": "stream",
     "text": [
      "using seed: 100\n"
     ]
    },
    {
     "data": {
      "application/vnd.jupyter.widget-view+json": {
       "model_id": "1cfa964d9e7f4e0d819a8c5c7902860e",
       "version_major": 2,
       "version_minor": 0
      },
      "text/plain": [
       "  0%|          | 0/200 [00:00<?, ?it/s]"
      ]
     },
     "metadata": {},
     "output_type": "display_data"
    },
    {
     "name": "stdout",
     "output_type": "stream",
     "text": [
      "conducting experiment 1 with beta: 1.0 and learning rate: 1e-05\n",
      "using seed: 1\n"
     ]
    },
    {
     "data": {
      "application/vnd.jupyter.widget-view+json": {
       "model_id": "84055c816675477c83271072d27f7728",
       "version_major": 2,
       "version_minor": 0
      },
      "text/plain": [
       "  0%|          | 0/200 [00:00<?, ?it/s]"
      ]
     },
     "metadata": {},
     "output_type": "display_data"
    },
    {
     "name": "stdout",
     "output_type": "stream",
     "text": [
      "using seed: 10\n"
     ]
    },
    {
     "data": {
      "application/vnd.jupyter.widget-view+json": {
       "model_id": "1b261c9edc51473d943adb05bfd28dd6",
       "version_major": 2,
       "version_minor": 0
      },
      "text/plain": [
       "  0%|          | 0/200 [00:00<?, ?it/s]"
      ]
     },
     "metadata": {},
     "output_type": "display_data"
    },
    {
     "name": "stdout",
     "output_type": "stream",
     "text": [
      "using seed: 100\n"
     ]
    },
    {
     "data": {
      "application/vnd.jupyter.widget-view+json": {
       "model_id": "d450194108ae420e95ecc5a70a7e5965",
       "version_major": 2,
       "version_minor": 0
      },
      "text/plain": [
       "  0%|          | 0/200 [00:00<?, ?it/s]"
      ]
     },
     "metadata": {},
     "output_type": "display_data"
    },
    {
     "name": "stdout",
     "output_type": "stream",
     "text": [
      "MR-VAE\n",
      "conducting experiment 1 and learning rate: 0.01\n"
     ]
    },
    {
     "data": {
      "application/vnd.jupyter.widget-view+json": {
       "model_id": "f2d002338609427ebd34e1a2ae370143",
       "version_major": 2,
       "version_minor": 0
      },
      "text/plain": [
       "  0%|          | 0/200 [00:00<?, ?it/s]"
      ]
     },
     "metadata": {},
     "output_type": "display_data"
    },
    {
     "name": "stdout",
     "output_type": "stream",
     "text": [
      "Early stopping at epoch: 124\n"
     ]
    },
    {
     "data": {
      "application/vnd.jupyter.widget-view+json": {
       "model_id": "42fc0f75c99844689af3753f76918255",
       "version_major": 2,
       "version_minor": 0
      },
      "text/plain": [
       "  0%|          | 0/200 [00:00<?, ?it/s]"
      ]
     },
     "metadata": {},
     "output_type": "display_data"
    },
    {
     "name": "stdout",
     "output_type": "stream",
     "text": [
      "Early stopping at epoch: 48\n"
     ]
    },
    {
     "data": {
      "application/vnd.jupyter.widget-view+json": {
       "model_id": "a61812a45fe244d49f18c129ebcbbeb7",
       "version_major": 2,
       "version_minor": 0
      },
      "text/plain": [
       "  0%|          | 0/200 [00:00<?, ?it/s]"
      ]
     },
     "metadata": {},
     "output_type": "display_data"
    },
    {
     "name": "stdout",
     "output_type": "stream",
     "text": [
      "Early stopping at epoch: 129\n",
      "conducting experiment 1 and learning rate: 0.003\n"
     ]
    },
    {
     "data": {
      "application/vnd.jupyter.widget-view+json": {
       "model_id": "657c8ea3fdd842fb9df2058556b3552f",
       "version_major": 2,
       "version_minor": 0
      },
      "text/plain": [
       "  0%|          | 0/200 [00:00<?, ?it/s]"
      ]
     },
     "metadata": {},
     "output_type": "display_data"
    },
    {
     "name": "stdout",
     "output_type": "stream",
     "text": [
      "Early stopping at epoch: 48\n"
     ]
    },
    {
     "data": {
      "application/vnd.jupyter.widget-view+json": {
       "model_id": "a22408dfc00e40348ef725e5d5cf030c",
       "version_major": 2,
       "version_minor": 0
      },
      "text/plain": [
       "  0%|          | 0/200 [00:00<?, ?it/s]"
      ]
     },
     "metadata": {},
     "output_type": "display_data"
    },
    {
     "name": "stdout",
     "output_type": "stream",
     "text": [
      "Early stopping at epoch: 67\n"
     ]
    },
    {
     "data": {
      "application/vnd.jupyter.widget-view+json": {
       "model_id": "d409c2efe0a941cd93965eaa19789fa7",
       "version_major": 2,
       "version_minor": 0
      },
      "text/plain": [
       "  0%|          | 0/200 [00:00<?, ?it/s]"
      ]
     },
     "metadata": {},
     "output_type": "display_data"
    },
    {
     "name": "stdout",
     "output_type": "stream",
     "text": [
      "Early stopping at epoch: 49\n",
      "conducting experiment 1 and learning rate: 0.001\n"
     ]
    },
    {
     "data": {
      "application/vnd.jupyter.widget-view+json": {
       "model_id": "feb772d2dca4471586f4e46243f25343",
       "version_major": 2,
       "version_minor": 0
      },
      "text/plain": [
       "  0%|          | 0/200 [00:00<?, ?it/s]"
      ]
     },
     "metadata": {},
     "output_type": "display_data"
    },
    {
     "name": "stdout",
     "output_type": "stream",
     "text": [
      "Early stopping at epoch: 71\n"
     ]
    },
    {
     "data": {
      "application/vnd.jupyter.widget-view+json": {
       "model_id": "9cc5d01820f54622b7865ffa24dfb9f8",
       "version_major": 2,
       "version_minor": 0
      },
      "text/plain": [
       "  0%|          | 0/200 [00:00<?, ?it/s]"
      ]
     },
     "metadata": {},
     "output_type": "display_data"
    },
    {
     "name": "stdout",
     "output_type": "stream",
     "text": [
      "Early stopping at epoch: 94\n"
     ]
    },
    {
     "data": {
      "application/vnd.jupyter.widget-view+json": {
       "model_id": "7f5288891c94468782d772db667302fa",
       "version_major": 2,
       "version_minor": 0
      },
      "text/plain": [
       "  0%|          | 0/200 [00:00<?, ?it/s]"
      ]
     },
     "metadata": {},
     "output_type": "display_data"
    },
    {
     "name": "stdout",
     "output_type": "stream",
     "text": [
      "Early stopping at epoch: 133\n",
      "conducting experiment 1 and learning rate: 0.0003\n"
     ]
    },
    {
     "data": {
      "application/vnd.jupyter.widget-view+json": {
       "model_id": "8afa549dac764b81a9233f173d13aef1",
       "version_major": 2,
       "version_minor": 0
      },
      "text/plain": [
       "  0%|          | 0/200 [00:00<?, ?it/s]"
      ]
     },
     "metadata": {},
     "output_type": "display_data"
    },
    {
     "data": {
      "application/vnd.jupyter.widget-view+json": {
       "model_id": "35765b12f1c74da198966a0b746f024e",
       "version_major": 2,
       "version_minor": 0
      },
      "text/plain": [
       "  0%|          | 0/200 [00:00<?, ?it/s]"
      ]
     },
     "metadata": {},
     "output_type": "display_data"
    },
    {
     "data": {
      "application/vnd.jupyter.widget-view+json": {
       "model_id": "ee06c2ef2b624a32b8374ce84b7104dd",
       "version_major": 2,
       "version_minor": 0
      },
      "text/plain": [
       "  0%|          | 0/200 [00:00<?, ?it/s]"
      ]
     },
     "metadata": {},
     "output_type": "display_data"
    },
    {
     "name": "stdout",
     "output_type": "stream",
     "text": [
      "Early stopping at epoch: 200\n",
      "conducting experiment 1 and learning rate: 0.0001\n"
     ]
    },
    {
     "data": {
      "application/vnd.jupyter.widget-view+json": {
       "model_id": "8eda7fd7df1c4fc5b7fda68bb1f13e54",
       "version_major": 2,
       "version_minor": 0
      },
      "text/plain": [
       "  0%|          | 0/200 [00:00<?, ?it/s]"
      ]
     },
     "metadata": {},
     "output_type": "display_data"
    },
    {
     "data": {
      "application/vnd.jupyter.widget-view+json": {
       "model_id": "63d6d00970864a77b4ab66f70658da42",
       "version_major": 2,
       "version_minor": 0
      },
      "text/plain": [
       "  0%|          | 0/200 [00:00<?, ?it/s]"
      ]
     },
     "metadata": {},
     "output_type": "display_data"
    },
    {
     "data": {
      "application/vnd.jupyter.widget-view+json": {
       "model_id": "e45dda452414484da61fb13473406ca4",
       "version_major": 2,
       "version_minor": 0
      },
      "text/plain": [
       "  0%|          | 0/200 [00:00<?, ?it/s]"
      ]
     },
     "metadata": {},
     "output_type": "display_data"
    },
    {
     "name": "stdout",
     "output_type": "stream",
     "text": [
      "conducting experiment 1 and learning rate: 3e-05\n"
     ]
    },
    {
     "data": {
      "application/vnd.jupyter.widget-view+json": {
       "model_id": "ac9f762757ef4ceaaae50dba2906c6e1",
       "version_major": 2,
       "version_minor": 0
      },
      "text/plain": [
       "  0%|          | 0/200 [00:00<?, ?it/s]"
      ]
     },
     "metadata": {},
     "output_type": "display_data"
    },
    {
     "data": {
      "application/vnd.jupyter.widget-view+json": {
       "model_id": "1cabd5f2955c4ec3800474f88fd332b0",
       "version_major": 2,
       "version_minor": 0
      },
      "text/plain": [
       "  0%|          | 0/200 [00:00<?, ?it/s]"
      ]
     },
     "metadata": {},
     "output_type": "display_data"
    },
    {
     "data": {
      "application/vnd.jupyter.widget-view+json": {
       "model_id": "3d1662d11f4e43bbb776d05876587e22",
       "version_major": 2,
       "version_minor": 0
      },
      "text/plain": [
       "  0%|          | 0/200 [00:00<?, ?it/s]"
      ]
     },
     "metadata": {},
     "output_type": "display_data"
    },
    {
     "name": "stdout",
     "output_type": "stream",
     "text": [
      "conducting experiment 1 and learning rate: 1e-05\n"
     ]
    },
    {
     "data": {
      "application/vnd.jupyter.widget-view+json": {
       "model_id": "10091dce42e34493addfad2a0794631c",
       "version_major": 2,
       "version_minor": 0
      },
      "text/plain": [
       "  0%|          | 0/200 [00:00<?, ?it/s]"
      ]
     },
     "metadata": {},
     "output_type": "display_data"
    },
    {
     "name": "stdout",
     "output_type": "stream",
     "text": [
      "Early stopping at epoch: 200\n"
     ]
    },
    {
     "data": {
      "application/vnd.jupyter.widget-view+json": {
       "model_id": "8fce432658d24beea1cacee151cce380",
       "version_major": 2,
       "version_minor": 0
      },
      "text/plain": [
       "  0%|          | 0/200 [00:00<?, ?it/s]"
      ]
     },
     "metadata": {},
     "output_type": "display_data"
    },
    {
     "data": {
      "application/vnd.jupyter.widget-view+json": {
       "model_id": "2ddb5f864e1045e29ca6d1af2a33d166",
       "version_major": 2,
       "version_minor": 0
      },
      "text/plain": [
       "  0%|          | 0/200 [00:00<?, ?it/s]"
      ]
     },
     "metadata": {},
     "output_type": "display_data"
    }
   ],
   "source": [
    "gr_resnet.conduct_experiment(path=path, model='resnet')"
   ]
  },
  {
   "cell_type": "code",
   "execution_count": 6,
   "id": "466b10f0fc96b168",
   "metadata": {
    "collapsed": false
   },
   "outputs": [],
   "source": [
    "betas = np.linspace(np.log(0.01), np.log(10.), 10)"
   ]
  },
  {
   "cell_type": "markdown",
   "id": "884aeeaa12970475",
   "metadata": {
    "collapsed": false
   },
   "source": [
    "## Beta"
   ]
  },
  {
   "cell_type": "code",
   "execution_count": 7,
   "id": "cb97c90772128451",
   "metadata": {
    "collapsed": false
   },
   "outputs": [
    {
     "name": "stdout",
     "output_type": "stream",
     "text": [
      "beta=1.0, lr=0.0003\n",
      "best learning rate for beta: 0.010000000000000004 is lr: 0.0003\n",
      "\n"
     ]
    },
    {
     "data": {
      "application/vnd.jupyter.widget-view+json": {
       "model_id": "b693b276995d45df9572fa8111743b75",
       "version_major": 2,
       "version_minor": 0
      },
      "text/plain": [
       "  0%|          | 0/200 [00:00<?, ?it/s]"
      ]
     },
     "metadata": {},
     "output_type": "display_data"
    },
    {
     "ename": "KeyboardInterrupt",
     "evalue": "",
     "output_type": "error",
     "traceback": [
      "\u001b[0;31m---------------------------------------------------------------------------\u001b[0m",
      "\u001b[0;31mKeyboardInterrupt\u001b[0m                         Traceback (most recent call last)",
      "\u001b[1;32m/home/alessandro/Desktop/Multi_rate_vae_atm/trainers/Experiment_2_omniglot.ipynb Cell 9\u001b[0m line \u001b[0;36m2\n\u001b[1;32m     <a href='vscode-notebook-cell:/home/alessandro/Desktop/Multi_rate_vae_atm/trainers/Experiment_2_omniglot.ipynb#X11sZmlsZQ%3D%3D?line=17'>18</a>\u001b[0m \u001b[39mprint\u001b[39m(\u001b[39mf\u001b[39m\u001b[39m'\u001b[39m\u001b[39mbest learning rate for beta: \u001b[39m\u001b[39m{\u001b[39;00mbeta\u001b[39m}\u001b[39;00m\u001b[39m is lr: \u001b[39m\u001b[39m{\u001b[39;00mlr\u001b[39m}\u001b[39;00m\u001b[39m\\n\u001b[39;00m\u001b[39m'\u001b[39m)\n\u001b[1;32m     <a href='vscode-notebook-cell:/home/alessandro/Desktop/Multi_rate_vae_atm/trainers/Experiment_2_omniglot.ipynb#X11sZmlsZQ%3D%3D?line=18'>19</a>\u001b[0m trainer \u001b[39m=\u001b[39m CNNTrainer(loaders, resnet\u001b[39m=\u001b[39m\u001b[39mTrue\u001b[39;00m, use_multi_rate\u001b[39m=\u001b[39m\u001b[39mFalse\u001b[39;00m, beta\u001b[39m=\u001b[39mbeta, lr\u001b[39m=\u001b[39mlr)\n\u001b[0;32m---> <a href='vscode-notebook-cell:/home/alessandro/Desktop/Multi_rate_vae_atm/trainers/Experiment_2_omniglot.ipynb#X11sZmlsZQ%3D%3D?line=19'>20</a>\u001b[0m trainer\u001b[39m.\u001b[39;49mtrain()\n\u001b[1;32m     <a href='vscode-notebook-cell:/home/alessandro/Desktop/Multi_rate_vae_atm/trainers/Experiment_2_omniglot.ipynb#X11sZmlsZQ%3D%3D?line=20'>21</a>\u001b[0m _, (rate_losses, dist_losses) \u001b[39m=\u001b[39m trainer\u001b[39m.\u001b[39mrate_distortion_curve_value(beta, beta)\n\u001b[1;32m     <a href='vscode-notebook-cell:/home/alessandro/Desktop/Multi_rate_vae_atm/trainers/Experiment_2_omniglot.ipynb#X11sZmlsZQ%3D%3D?line=21'>22</a>\u001b[0m rate_beta_vae\u001b[39m.\u001b[39mappend(rate_losses)\n",
      "File \u001b[0;32m~/Desktop/Multi_rate_vae_atm/trainers/CNNTrainer.py:85\u001b[0m, in \u001b[0;36mCNNTrainer.train\u001b[0;34m(self)\u001b[0m\n\u001b[1;32m     82\u001b[0m \u001b[39mself\u001b[39m\u001b[39m.\u001b[39mscheduler\u001b[39m.\u001b[39mstep()\n\u001b[1;32m     84\u001b[0m \u001b[39m# early stopping\u001b[39;00m\n\u001b[0;32m---> 85\u001b[0m val_loss \u001b[39m=\u001b[39m \u001b[39mself\u001b[39;49m\u001b[39m.\u001b[39;49mbest_on_validation()\n\u001b[1;32m     86\u001b[0m \u001b[39mif\u001b[39;00m val_loss \u001b[39m<\u001b[39m \u001b[39mself\u001b[39m\u001b[39m.\u001b[39mbest_loss:\n\u001b[1;32m     87\u001b[0m     \u001b[39mself\u001b[39m\u001b[39m.\u001b[39mbest_loss \u001b[39m=\u001b[39m val_loss\n",
      "File \u001b[0;32m~/Desktop/Multi_rate_vae_atm/trainers/CNNTrainer.py:113\u001b[0m, in \u001b[0;36mCNNTrainer.best_on_validation\u001b[0;34m(self)\u001b[0m\n\u001b[1;32m    111\u001b[0m             beta_loss \u001b[39m=\u001b[39m beta\n\u001b[1;32m    112\u001b[0m         x_pred, (mu, logvar) \u001b[39m=\u001b[39m \u001b[39mself\u001b[39m\u001b[39m.\u001b[39mmodel\u001b[39m.\u001b[39mforward(inputs, beta)\n\u001b[0;32m--> 113\u001b[0m         loss, \u001b[39m*\u001b[39m_ \u001b[39m=\u001b[39m \u001b[39mself\u001b[39;49m\u001b[39m.\u001b[39;49mloss_fn(x_pred, inputs, mu, logvar, beta_loss)\n\u001b[1;32m    114\u001b[0m         train_loss \u001b[39m+\u001b[39m\u001b[39m=\u001b[39m loss\u001b[39m.\u001b[39mitem()\n\u001b[1;32m    115\u001b[0m train_loss \u001b[39m=\u001b[39m train_loss \u001b[39m/\u001b[39m \u001b[39mlen\u001b[39m(\u001b[39mself\u001b[39m\u001b[39m.\u001b[39mval_loader)\n",
      "File \u001b[0;32m~/.local/lib/python3.10/site-packages/torch/nn/modules/module.py:1518\u001b[0m, in \u001b[0;36mModule._wrapped_call_impl\u001b[0;34m(self, *args, **kwargs)\u001b[0m\n\u001b[1;32m   1516\u001b[0m     \u001b[39mreturn\u001b[39;00m \u001b[39mself\u001b[39m\u001b[39m.\u001b[39m_compiled_call_impl(\u001b[39m*\u001b[39margs, \u001b[39m*\u001b[39m\u001b[39m*\u001b[39mkwargs)  \u001b[39m# type: ignore[misc]\u001b[39;00m\n\u001b[1;32m   1517\u001b[0m \u001b[39melse\u001b[39;00m:\n\u001b[0;32m-> 1518\u001b[0m     \u001b[39mreturn\u001b[39;00m \u001b[39mself\u001b[39;49m\u001b[39m.\u001b[39;49m_call_impl(\u001b[39m*\u001b[39;49margs, \u001b[39m*\u001b[39;49m\u001b[39m*\u001b[39;49mkwargs)\n",
      "File \u001b[0;32m~/.local/lib/python3.10/site-packages/torch/nn/modules/module.py:1527\u001b[0m, in \u001b[0;36mModule._call_impl\u001b[0;34m(self, *args, **kwargs)\u001b[0m\n\u001b[1;32m   1522\u001b[0m \u001b[39m# If we don't have any hooks, we want to skip the rest of the logic in\u001b[39;00m\n\u001b[1;32m   1523\u001b[0m \u001b[39m# this function, and just call forward.\u001b[39;00m\n\u001b[1;32m   1524\u001b[0m \u001b[39mif\u001b[39;00m \u001b[39mnot\u001b[39;00m (\u001b[39mself\u001b[39m\u001b[39m.\u001b[39m_backward_hooks \u001b[39mor\u001b[39;00m \u001b[39mself\u001b[39m\u001b[39m.\u001b[39m_backward_pre_hooks \u001b[39mor\u001b[39;00m \u001b[39mself\u001b[39m\u001b[39m.\u001b[39m_forward_hooks \u001b[39mor\u001b[39;00m \u001b[39mself\u001b[39m\u001b[39m.\u001b[39m_forward_pre_hooks\n\u001b[1;32m   1525\u001b[0m         \u001b[39mor\u001b[39;00m _global_backward_pre_hooks \u001b[39mor\u001b[39;00m _global_backward_hooks\n\u001b[1;32m   1526\u001b[0m         \u001b[39mor\u001b[39;00m _global_forward_hooks \u001b[39mor\u001b[39;00m _global_forward_pre_hooks):\n\u001b[0;32m-> 1527\u001b[0m     \u001b[39mreturn\u001b[39;00m forward_call(\u001b[39m*\u001b[39;49margs, \u001b[39m*\u001b[39;49m\u001b[39m*\u001b[39;49mkwargs)\n\u001b[1;32m   1529\u001b[0m \u001b[39mtry\u001b[39;00m:\n\u001b[1;32m   1530\u001b[0m     result \u001b[39m=\u001b[39m \u001b[39mNone\u001b[39;00m\n",
      "File \u001b[0;32m~/Desktop/Multi_rate_vae_atm/loss_function/loss.py:33\u001b[0m, in \u001b[0;36mNonGaussianVAELoss.forward\u001b[0;34m(self, x_pred, x, mu, log_var, beta)\u001b[0m\n\u001b[1;32m     30\u001b[0m \u001b[39mdef\u001b[39;00m \u001b[39mforward\u001b[39m(\u001b[39mself\u001b[39m, x_pred: torch\u001b[39m.\u001b[39mTensor, x: torch\u001b[39m.\u001b[39mTensor, mu: torch\u001b[39m.\u001b[39mTensor, log_var: torch\u001b[39m.\u001b[39mTensor,\n\u001b[1;32m     31\u001b[0m              beta: \u001b[39mfloat\u001b[39m \u001b[39m|\u001b[39m torch\u001b[39m.\u001b[39mTensor \u001b[39m=\u001b[39m \u001b[39m1.\u001b[39m):\n\u001b[1;32m     32\u001b[0m     reconstruction_loss_ \u001b[39m=\u001b[39m F\u001b[39m.\u001b[39mmse_loss(x_pred, x)\n\u001b[0;32m---> 33\u001b[0m     kdl_loss_ \u001b[39m=\u001b[39m \u001b[39m-\u001b[39m\u001b[39m0.5\u001b[39m \u001b[39m*\u001b[39m torch\u001b[39m.\u001b[39msum(\u001b[39m1\u001b[39m \u001b[39m+\u001b[39m log_var \u001b[39m-\u001b[39m mu\u001b[39m.\u001b[39;49mpow(\u001b[39m2\u001b[39;49m) \u001b[39m-\u001b[39m log_var\u001b[39m.\u001b[39mexp(), dim\u001b[39m=\u001b[39m\u001b[39m1\u001b[39m)\n\u001b[1;32m     34\u001b[0m     kdl_loss_no_beta \u001b[39m=\u001b[39m torch\u001b[39m.\u001b[39mmean(kdl_loss_, dim\u001b[39m=\u001b[39m\u001b[39m0\u001b[39m)\n\u001b[1;32m     35\u001b[0m     kdl_loss_ \u001b[39m=\u001b[39m torch\u001b[39m.\u001b[39mmean(beta \u001b[39m*\u001b[39m kdl_loss_, dim\u001b[39m=\u001b[39m\u001b[39m0\u001b[39m)\n",
      "\u001b[0;31mKeyboardInterrupt\u001b[0m: "
     ]
    }
   ],
   "source": [
    "df_beta_vae: pd.DataFrame = pd.read_csv(f'{path}/resnet/beta_vae.csv', index_col=0)\n",
    "df_beta_vae = df_beta_vae.reset_index(drop=True)\n",
    "df_beta_vae.head()\n",
    "# select the best for beta \n",
    "df_beta_vae_sorted = []\n",
    "lr = 0\n",
    "for name, group in df_beta_vae.groupby('beta'):\n",
    "    lr = group.sort_values(by='mean_loss').reset_index().at[0, 'lr']\n",
    "    df_beta_vae_sorted.append({'beta': name, 'lr': lr})\n",
    "    print(f'beta={name}, lr={lr}')\n",
    "df_beta_vae_sorted = pd.DataFrame(df_beta_vae_sorted)\n",
    "torch.manual_seed(1)\n",
    "np.random.seed(1)\n",
    "rate_beta_vae = []\n",
    "distortion_beta_vae = []\n",
    "for i in range(0, len(betas)):\n",
    "    beta = np.exp(betas[i])\n",
    "    print(f'best learning rate for beta: {beta} is lr: {lr}\\n')\n",
    "    trainer = CNNTrainer(loaders, resnet=True, use_multi_rate=False, beta=beta, lr=lr)\n",
    "    trainer.train()\n",
    "    _, (rate_losses, dist_losses) = trainer.rate_distortion_curve_value(beta, beta)\n",
    "    rate_beta_vae.append(rate_losses)\n",
    "    distortion_beta_vae.append(dist_losses)\n",
    "\n",
    "import matplotlib.pyplot as plt\n",
    "\n",
    "# plot the rate distortion curve\n",
    "fig = plt.figure(figsize=(10, 10))\n",
    "for i in range(0, len(betas)):\n",
    "    beta = np.exp(betas[i])\n",
    "    plt.plot(rate_beta_vae[i], distortion_beta_vae[i], 'o', label=f'beta={beta}')\n",
    "# plt.legend()\n",
    "plt.xlabel('Rate')\n",
    "plt.ylabel('Distortion')\n",
    "plt.title('Rate-Distortion Curve')\n",
    "try:\n",
    "    plt.savefig(f'{path}/resnet/b_vae.pdf', bbox_inches=\"tight\")\n",
    "except:\n",
    "    print('warning: unable to save at such location for beta resnet')\n",
    "    pass\n",
    "plt.show()"
   ]
  },
  {
   "cell_type": "markdown",
   "id": "3352bb366571b38f",
   "metadata": {
    "collapsed": false
   },
   "source": [
    "## Multi-rate"
   ]
  },
  {
   "cell_type": "code",
   "execution_count": null,
   "id": "251c80ce878d473f",
   "metadata": {
    "collapsed": false
   },
   "outputs": [],
   "source": [
    "df_multi_rate: pd.DataFrame = pd.read_csv(f'{path}/resnet/mr_vae.csv', index_col=0)\n",
    "df_multi_rate = df_multi_rate.reset_index(drop=True)\n",
    "df_multi_rate.head()\n",
    "best_lr = df_multi_rate.sort_values(by=['mean_loss']).reset_index().at[0, 'lr']\n",
    "print(f'best lr for multi-rate vae  is {best_lr}')\n",
    "torch.manual_seed(1)\n",
    "np.random.seed(1)\n",
    "trainer = CNNTrainer(loaders, resnet=True, use_multi_rate=True, lr=best_lr)\n",
    "trainer.train()\n",
    "\n",
    "rate_mr_vae = []\n",
    "distortion_mr_vae = []\n",
    "for b in np.linspace(start=np.log(0.01), stop=np.log(10.), num=30):\n",
    "    _, (rate_losses, dist_losses) = trainer.rate_distortion_curve_value(beta_in=b, beta_loss=1.)\n",
    "    rate_mr_vae.append(rate_losses)\n",
    "    distortion_mr_vae.append(dist_losses)\n",
    "import matplotlib.pyplot as plt\n",
    "\n",
    "# plot the rate distortion curve\n",
    "fig = plt.figure(figsize=(10, 10))\n",
    "for i,beta in enumerate(np.linspace(start=np.log(0.01), stop=np.log(10.), num=30)):\n",
    "    plt.plot(rate_mr_vae[i], distortion_mr_vae[i], 'o', label=f'beta={beta}')\n",
    "# plt.legend()\n",
    "plt.xlabel('Rate')\n",
    "plt.ylabel('Distortion')\n",
    "plt.title('Rate-Distortion Curve')\n",
    "try:\n",
    "    plt.savefig(f'{path}/resnet/mr_vae.pdf', bbox_inches=\"tight\")\n",
    "except:\n",
    "    print('unable to save the image for multi rate resnet')\n",
    "    pass\n",
    "plt.show()"
   ]
  },
  {
   "cell_type": "markdown",
   "id": "e61c6709c2a58ff3",
   "metadata": {
    "collapsed": false
   },
   "source": [
    "# ConvNet"
   ]
  },
  {
   "cell_type": "code",
   "execution_count": null,
   "id": "61956137932c27d2",
   "metadata": {
    "collapsed": false
   },
   "outputs": [],
   "source": [
    "ga_cnn = GridSearcher(loaders, resnet=False)"
   ]
  },
  {
   "cell_type": "code",
   "execution_count": null,
   "id": "efc51461a5afa6f1",
   "metadata": {
    "collapsed": false
   },
   "outputs": [],
   "source": [
    "ga_cnn.conduct_experiment(path=path, model='convnet')"
   ]
  },
  {
   "cell_type": "markdown",
   "id": "86abeee1adeef021",
   "metadata": {
    "collapsed": false
   },
   "source": [
    "## Beta"
   ]
  },
  {
   "cell_type": "code",
   "execution_count": null,
   "id": "3a04a0ef96c59568",
   "metadata": {
    "collapsed": false
   },
   "outputs": [],
   "source": [
    "df_beta_vae: pd.DataFrame = pd.read_csv(f'{path}/convnet/beta_vae.csv', index_col=0)\n",
    "df_beta_vae = df_beta_vae.reset_index(drop=True)\n",
    "df_beta_vae.head()\n",
    "# select the best for beta \n",
    "df_beta_vae_sorted = []\n",
    "for name, group in df_beta_vae.groupby('beta'):\n",
    "    lr = group.sort_values(by='mean_loss').reset_index().at[0, 'lr']\n",
    "    df_beta_vae_sorted.append({'beta': name, 'lr': lr})\n",
    "    print(f'beta={name}, lr={lr}')\n",
    "df_beta_vae_sorted = pd.DataFrame(df_beta_vae_sorted)\n",
    "torch.manual_seed(1)\n",
    "np.random.seed(1)\n",
    "rate_beta_vae = []\n",
    "distortion_beta_vae = []\n",
    "for i in range(0, len(betas)):\n",
    "    beta = np.exp(betas[i])\n",
    "    print(f'best learning rate for beta: {beta} is lr: {lr}\\n')\n",
    "    trainer = CNNTrainer(loaders, resnet=False, use_multi_rate=False, beta=beta, lr=lr)\n",
    "    trainer.train()\n",
    "    _, (rate_losses, dist_losses) = trainer.rate_distortion_curve_value(beta, beta)\n",
    "    rate_beta_vae.append(rate_losses)\n",
    "    distortion_beta_vae.append(dist_losses)\n",
    "\n",
    "import matplotlib.pyplot as plt\n",
    "\n",
    "# plot the rate distortion curve\n",
    "fig = plt.figure(figsize=(10, 10))\n",
    "for i in range(0, len(betas)):\n",
    "    beta = np.exp(betas[i])\n",
    "    plt.plot(rate_beta_vae[i], distortion_beta_vae[i], 'o', label=f'beta={beta}')\n",
    "# plt.legend()\n",
    "plt.xlabel('Rate')\n",
    "plt.ylabel('Distortion')\n",
    "plt.title('Rate-Distortion Curve')\n",
    "try:\n",
    "    plt.savefig(f'{path}/convnet/b_vae.pdf', bbox_inches=\"tight\")\n",
    "except:\n",
    "    print('warning: unable to save at such location for beta convnet')\n",
    "    pass\n",
    "plt.show()"
   ]
  },
  {
   "cell_type": "markdown",
   "id": "d5d2419f61ab0882",
   "metadata": {
    "collapsed": false
   },
   "source": [
    "## Multi-rate"
   ]
  },
  {
   "cell_type": "code",
   "execution_count": null,
   "id": "80ff8aa827d126b7",
   "metadata": {
    "collapsed": false
   },
   "outputs": [],
   "source": [
    "df_multi_rate: pd.DataFrame = pd.read_csv(f'{path}/convnet/mr_vae.csv', index_col=0)\n",
    "df_multi_rate = df_multi_rate.reset_index(drop=True)\n",
    "df_multi_rate.head()\n",
    "best_lr = df_multi_rate.sort_values(by=['mean_loss']).reset_index().at[0, 'lr']\n",
    "print(f'best lr for multi-rate vae  is {best_lr}')\n",
    "torch.manual_seed(1)\n",
    "np.random.seed(1)\n",
    "trainer = CNNTrainer(loaders, resnet=False, use_multi_rate=True, lr=best_lr)\n",
    "trainer.train()\n",
    "\n",
    "rate_mr_vae = []\n",
    "distortion_mr_vae = []\n",
    "for b in np.linspace(start=np.log(0.01), stop=np.log(10.), num=30):\n",
    "    _, (rate_losses, dist_losses) = trainer.rate_distortion_curve_value(beta_in=b, beta_loss=1.)\n",
    "    rate_mr_vae.append(rate_losses)\n",
    "    distortion_mr_vae.append(dist_losses)\n",
    "import matplotlib.pyplot as plt\n",
    "\n",
    "# plot the rate distortion curve\n",
    "fig = plt.figure(figsize=(10, 10))\n",
    "for i,beta in enumerate(np.linspace(start=np.log(0.01), stop=np.log(10.), num=30)):\n",
    "    plt.plot(rate_mr_vae[i], distortion_mr_vae[i], 'o', label=f'beta={beta}')\n",
    "# plt.legend()\n",
    "plt.xlabel('Rate')\n",
    "plt.ylabel('Distortion')\n",
    "plt.title('Rate-Distortion Curve')\n",
    "try:\n",
    "    plt.savefig(f'{path}/convnet/mr_vae.pdf', bbox_inches=\"tight\")\n",
    "except:\n",
    "    print('unable to save the image for multi rate convnet')\n",
    "    pass\n",
    "plt.show()"
   ]
  },
  {
   "cell_type": "code",
   "execution_count": null,
   "id": "24c0f3f7b4cc1722",
   "metadata": {},
   "outputs": [],
   "source": []
  }
 ],
 "metadata": {
  "kernelspec": {
   "display_name": "Python 3",
   "language": "python",
   "name": "python3"
  },
  "language_info": {
   "codemirror_mode": {
    "name": "ipython",
    "version": 3
   },
   "file_extension": ".py",
   "mimetype": "text/x-python",
   "name": "python",
   "nbconvert_exporter": "python",
   "pygments_lexer": "ipython3",
   "version": "3.10.12"
  }
 },
 "nbformat": 4,
 "nbformat_minor": 5
}
