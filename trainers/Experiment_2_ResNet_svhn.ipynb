{
 "cells": [
  {
   "cell_type": "code",
   "execution_count": 1,
   "id": "initial_id",
   "metadata": {
    "collapsed": true,
    "ExecuteTime": {
     "end_time": "2023-11-18T13:06:05.654253Z",
     "start_time": "2023-11-18T13:06:03.862358Z"
    }
   },
   "outputs": [],
   "source": [
    "from CNNTrainer import GridSearcher, CNNTrainer\n",
    "import torch\n",
    "if torch.cuda.is_available():\n",
    "    torch.set_float32_matmul_precision('high')"
   ]
  },
  {
   "cell_type": "code",
   "execution_count": 2,
   "outputs": [
    {
     "name": "stdout",
     "output_type": "stream",
     "text": [
      "Files already downloaded and verified\n",
      "Files already downloaded and verified\n",
      "Files already downloaded and verified\n"
     ]
    }
   ],
   "source": [
    "from datasets.utils_datasets import get_mnist_binary_static_loaders\n",
    "seed = 5\n",
    "loaders = get_mnist_binary_static_loaders(seed=seed, batch_size_train=128)"
   ],
   "metadata": {
    "collapsed": false,
    "ExecuteTime": {
     "end_time": "2023-11-18T13:06:08.258115Z",
     "start_time": "2023-11-18T13:06:06.232872Z"
    }
   },
   "id": "3724072f5c56be05"
  },
  {
   "cell_type": "code",
   "execution_count": 3,
   "outputs": [],
   "source": [
    "gr = GridSearcher(loaders, is_cifar=True)"
   ],
   "metadata": {
    "collapsed": false,
    "ExecuteTime": {
     "end_time": "2023-11-18T13:06:08.269451Z",
     "start_time": "2023-11-18T13:06:08.258736Z"
    }
   },
   "id": "12dc03ea46e31cd9"
  },
  {
   "cell_type": "code",
   "execution_count": 4,
   "outputs": [],
   "source": [
    "path = 'experiment_2'"
   ],
   "metadata": {
    "collapsed": false,
    "ExecuteTime": {
     "end_time": "2023-11-18T13:06:08.269697Z",
     "start_time": "2023-11-18T13:06:08.261333Z"
    }
   },
   "id": "d9190d5dd532fd5d"
  },
  {
   "cell_type": "code",
   "execution_count": 5,
   "outputs": [
    {
     "name": "stdout",
     "output_type": "stream",
     "text": [
      "Using device: mps\n",
      "Beta-VAE\n",
      "conducting experiment 1 with beta: 1.0 and learning rate: 0.01\n",
      "using seed: 1\n"
     ]
    },
    {
     "data": {
      "text/plain": "  0%|          | 0/200 [00:00<?, ?it/s]",
      "application/vnd.jupyter.widget-view+json": {
       "version_major": 2,
       "version_minor": 0,
       "model_id": "c5fe90b3b2b44d7a946b4a333b89c8d2"
      }
     },
     "metadata": {},
     "output_type": "display_data"
    },
    {
     "name": "stderr",
     "output_type": "stream",
     "text": [
      "Exception ignored in: <function _MultiProcessingDataLoaderIter.__del__ at 0x1291ed240>\n",
      "Traceback (most recent call last):\n",
      "  File \"/opt/homebrew/lib/python3.10/site-packages/torch/utils/data/dataloader.py\", line 1478, in __del__\n",
      "    self._shutdown_workers()\n",
      "  File \"/opt/homebrew/lib/python3.10/site-packages/torch/utils/data/dataloader.py\", line 1442, in _shutdown_workers\n",
      "    w.join(timeout=_utils.MP_STATUS_CHECK_INTERVAL)\n",
      "  File \"/opt/homebrew/Cellar/python@3.10/3.10.13/Frameworks/Python.framework/Versions/3.10/lib/python3.10/multiprocessing/process.py\", line 149, in join\n",
      "    res = self._popen.wait(timeout)\n",
      "  File \"/opt/homebrew/Cellar/python@3.10/3.10.13/Frameworks/Python.framework/Versions/3.10/lib/python3.10/multiprocessing/popen_fork.py\", line 40, in wait\n",
      "    if not wait([self.sentinel], timeout):\n",
      "  File \"/opt/homebrew/Cellar/python@3.10/3.10.13/Frameworks/Python.framework/Versions/3.10/lib/python3.10/multiprocessing/connection.py\", line 931, in wait\n",
      "    ready = selector.select(timeout)\n",
      "  File \"/opt/homebrew/Cellar/python@3.10/3.10.13/Frameworks/Python.framework/Versions/3.10/lib/python3.10/selectors.py\", line 416, in select\n",
      "    fd_event_list = self._selector.poll(timeout)\n",
      "KeyboardInterrupt: \n"
     ]
    },
    {
     "ename": "KeyboardInterrupt",
     "evalue": "",
     "output_type": "error",
     "traceback": [
      "\u001B[0;31m---------------------------------------------------------------------------\u001B[0m",
      "\u001B[0;31mKeyboardInterrupt\u001B[0m                         Traceback (most recent call last)",
      "Cell \u001B[0;32mIn[5], line 1\u001B[0m\n\u001B[0;32m----> 1\u001B[0m \u001B[43mgr\u001B[49m\u001B[38;5;241;43m.\u001B[39;49m\u001B[43mconduct_experiment\u001B[49m\u001B[43m(\u001B[49m\u001B[43mpath\u001B[49m\u001B[38;5;241;43m=\u001B[39;49m\u001B[43mpath\u001B[49m\u001B[43m)\u001B[49m\n",
      "File \u001B[0;32m~/Documents/git/Multi_rate_vae_atm/trainers/CNNTrainer.py:194\u001B[0m, in \u001B[0;36mGridSearcher.conduct_experiment\u001B[0;34m(self, path)\u001B[0m\n\u001B[1;32m    192\u001B[0m \u001B[38;5;28;01mif\u001B[39;00m \u001B[38;5;129;01mnot\u001B[39;00m os\u001B[38;5;241m.\u001B[39mpath\u001B[38;5;241m.\u001B[39mexists(path):\n\u001B[1;32m    193\u001B[0m     os\u001B[38;5;241m.\u001B[39mmkdir(path)\n\u001B[0;32m--> 194\u001B[0m df_beta_vae \u001B[38;5;241m=\u001B[39m \u001B[38;5;28;43mself\u001B[39;49m\u001B[38;5;241;43m.\u001B[39;49m\u001B[43mb_vae_\u001B[49m\u001B[43m(\u001B[49m\u001B[43m)\u001B[49m\n\u001B[1;32m    195\u001B[0m df_mr_vae \u001B[38;5;241m=\u001B[39m \u001B[38;5;28mself\u001B[39m\u001B[38;5;241m.\u001B[39mmr_vae_()\n\u001B[1;32m    196\u001B[0m df_beta_vae\u001B[38;5;241m.\u001B[39mto_csv(\u001B[38;5;124mf\u001B[39m\u001B[38;5;124m'\u001B[39m\u001B[38;5;132;01m{\u001B[39;00mpath\u001B[38;5;132;01m}\u001B[39;00m\u001B[38;5;124m/beta_vae.csv\u001B[39m\u001B[38;5;124m'\u001B[39m)\n",
      "File \u001B[0;32m~/Documents/git/Multi_rate_vae_atm/trainers/CNNTrainer.py:152\u001B[0m, in \u001B[0;36mGridSearcher.b_vae_\u001B[0;34m(self)\u001B[0m\n\u001B[1;32m    148\u001B[0m np\u001B[38;5;241m.\u001B[39mrandom\u001B[38;5;241m.\u001B[39mseed(s)\n\u001B[1;32m    149\u001B[0m tr \u001B[38;5;241m=\u001B[39m CNNTrainer(loaders\u001B[38;5;241m=\u001B[39m\u001B[38;5;28mself\u001B[39m\u001B[38;5;241m.\u001B[39mloaders, use_multi_rate\u001B[38;5;241m=\u001B[39m\u001B[38;5;28;01mFalse\u001B[39;00m, beta\u001B[38;5;241m=\u001B[39mb, lr\u001B[38;5;241m=\u001B[39mlr,\n\u001B[1;32m    150\u001B[0m                 is_celeba\u001B[38;5;241m=\u001B[39m\u001B[38;5;28mself\u001B[39m\u001B[38;5;241m.\u001B[39mis_celeba,\n\u001B[1;32m    151\u001B[0m                 is_cifar\u001B[38;5;241m=\u001B[39m\u001B[38;5;28mself\u001B[39m\u001B[38;5;241m.\u001B[39mis_cifar, resnet\u001B[38;5;241m=\u001B[39m\u001B[38;5;28mself\u001B[39m\u001B[38;5;241m.\u001B[39mresnet)\n\u001B[0;32m--> 152\u001B[0m \u001B[43mtr\u001B[49m\u001B[38;5;241;43m.\u001B[39;49m\u001B[43mtrain\u001B[49m\u001B[43m(\u001B[49m\u001B[43m)\u001B[49m\n\u001B[1;32m    153\u001B[0m train_loss \u001B[38;5;241m=\u001B[39m tr\u001B[38;5;241m.\u001B[39mbest_on_validation()\n\u001B[1;32m    154\u001B[0m mean_tr\u001B[38;5;241m.\u001B[39mappend(train_loss)\n",
      "File \u001B[0;32m~/Documents/git/Multi_rate_vae_atm/trainers/CNNTrainer.py:74\u001B[0m, in \u001B[0;36mCNNTrainer.train\u001B[0;34m(self)\u001B[0m\n\u001B[1;32m     72\u001B[0m \u001B[38;5;28mself\u001B[39m\u001B[38;5;241m.\u001B[39moptimizer\u001B[38;5;241m.\u001B[39mzero_grad()\n\u001B[1;32m     73\u001B[0m x_pred, (mu, logvar) \u001B[38;5;241m=\u001B[39m \u001B[38;5;28mself\u001B[39m\u001B[38;5;241m.\u001B[39mmodel\u001B[38;5;241m.\u001B[39mforward(inputs, log_betas)\n\u001B[0;32m---> 74\u001B[0m loss, \u001B[38;5;241m*\u001B[39m_ \u001B[38;5;241m=\u001B[39m \u001B[38;5;28;43mself\u001B[39;49m\u001B[38;5;241;43m.\u001B[39;49m\u001B[43mloss_fn\u001B[49m\u001B[43m(\u001B[49m\u001B[43mx_pred\u001B[49m\u001B[43m,\u001B[49m\u001B[43m \u001B[49m\u001B[43minputs\u001B[49m\u001B[43m,\u001B[49m\u001B[43m \u001B[49m\u001B[43mmu\u001B[49m\u001B[43m,\u001B[49m\u001B[43m \u001B[49m\u001B[43mlogvar\u001B[49m\u001B[43m,\u001B[49m\u001B[43m \u001B[49m\u001B[38;5;28;43mself\u001B[39;49m\u001B[38;5;241;43m.\u001B[39;49m\u001B[43mbeta\u001B[49m\u001B[43m)\u001B[49m\n\u001B[1;32m     75\u001B[0m loss\u001B[38;5;241m.\u001B[39mbackward()\n\u001B[1;32m     76\u001B[0m \u001B[38;5;28mself\u001B[39m\u001B[38;5;241m.\u001B[39moptimizer\u001B[38;5;241m.\u001B[39mstep()\n",
      "File \u001B[0;32m~/Documents/git/Multi_rate_vae_atm/loss_function/loss.py:29\u001B[0m, in \u001B[0;36mvae_loss\u001B[0;34m(x_pred, x, mu, log_var, beta)\u001B[0m\n\u001B[1;32m     26\u001B[0m reconstruction_loss_ \u001B[38;5;241m=\u001B[39m F\u001B[38;5;241m.\u001B[39mmse_loss(x_pred, x)\n\u001B[1;32m     27\u001B[0m kdl_loss_ \u001B[38;5;241m=\u001B[39m torch\u001B[38;5;241m.\u001B[39msum(\u001B[38;5;241m-\u001B[39m\u001B[38;5;241m0.5\u001B[39m \u001B[38;5;241m*\u001B[39m torch\u001B[38;5;241m.\u001B[39msum(\u001B[38;5;241m1\u001B[39m \u001B[38;5;241m+\u001B[39m log_var \u001B[38;5;241m-\u001B[39m mu\u001B[38;5;241m.\u001B[39mpow(\u001B[38;5;241m2\u001B[39m) \u001B[38;5;241m-\u001B[39m log_var\u001B[38;5;241m.\u001B[39mexp(), dim\u001B[38;5;241m=\u001B[39m\u001B[38;5;241m1\u001B[39m), dim\u001B[38;5;241m=\u001B[39m\u001B[38;5;241m0\u001B[39m)\n\u001B[0;32m---> 29\u001B[0m \u001B[38;5;28;01mreturn\u001B[39;00m reconstruction_loss_ \u001B[38;5;241m+\u001B[39m beta \u001B[38;5;241m*\u001B[39m kdl_loss_, (\u001B[43mreconstruction_loss_\u001B[49m\u001B[38;5;241;43m.\u001B[39;49m\u001B[43mdetach\u001B[49m\u001B[43m(\u001B[49m\u001B[43m)\u001B[49m\u001B[38;5;241;43m.\u001B[39;49m\u001B[43mcpu\u001B[49m\u001B[43m(\u001B[49m\u001B[43m)\u001B[49m\u001B[38;5;241m.\u001B[39mitem(), kdl_loss_\u001B[38;5;241m.\u001B[39mdetach()\u001B[38;5;241m.\u001B[39mcpu()\u001B[38;5;241m.\u001B[39mitem())\n",
      "\u001B[0;31mKeyboardInterrupt\u001B[0m: "
     ]
    }
   ],
   "source": [
    "gr.conduct_experiment(path=path)"
   ],
   "metadata": {
    "collapsed": false,
    "ExecuteTime": {
     "end_time": "2023-11-18T16:09:37.026576Z",
     "start_time": "2023-11-18T13:06:08.264444Z"
    }
   },
   "id": "92f6091528c9ffa4"
  },
  {
   "cell_type": "code",
   "execution_count": null,
   "outputs": [],
   "source": [],
   "metadata": {
    "collapsed": false
   },
   "id": "466b10f0fc96b168"
  }
 ],
 "metadata": {
  "kernelspec": {
   "display_name": "Python 3",
   "language": "python",
   "name": "python3"
  },
  "language_info": {
   "codemirror_mode": {
    "name": "ipython",
    "version": 2
   },
   "file_extension": ".py",
   "mimetype": "text/x-python",
   "name": "python",
   "nbconvert_exporter": "python",
   "pygments_lexer": "ipython2",
   "version": "2.7.6"
  }
 },
 "nbformat": 4,
 "nbformat_minor": 5
}
