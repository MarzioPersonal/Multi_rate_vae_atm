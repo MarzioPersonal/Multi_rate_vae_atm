{
 "cells": [
  {
   "cell_type": "code",
   "execution_count": null,
   "id": "initial_id",
   "metadata": {
    "collapsed": true
   },
   "outputs": [],
   "source": [
    "from CNNTrainer import GridSearcher, CNNTrainer\n",
    "import torch\n",
    "import pandas as pd\n",
    "import numpy as np\n",
    "if torch.cuda.is_available():\n",
    "    torch.set_float32_matmul_precision('high')"
   ]
  },
  {
   "cell_type": "code",
   "execution_count": null,
   "outputs": [],
   "source": [
    "from datasets.utils_datasets import get_mnist_binary_static_loaders\n",
    "seed = 5\n",
    "loaders = get_mnist_binary_static_loaders(seed=seed, batch_size_train=128)"
   ],
   "metadata": {
    "collapsed": false
   },
   "id": "3724072f5c56be05"
  },
  {
   "cell_type": "code",
   "execution_count": null,
   "outputs": [],
   "source": [
    "gr_resnet = GridSearcher(loaders, resnet=True)\n",
    "gr_cnn = GridSearcher(loaders, resnet=False)"
   ],
   "metadata": {
    "collapsed": false
   },
   "id": "12dc03ea46e31cd9"
  },
  {
   "cell_type": "code",
   "execution_count": null,
   "outputs": [],
   "source": [
    "path = 'experiment_2'"
   ],
   "metadata": {
    "collapsed": false
   },
   "id": "d9190d5dd532fd5d"
  },
  {
   "cell_type": "code",
   "execution_count": null,
   "outputs": [],
   "source": [
    "gr_resnet.conduct_experiment(path=path)"
   ],
   "metadata": {
    "collapsed": false
   },
   "id": "92f6091528c9ffa4"
  },
  {
   "cell_type": "code",
   "execution_count": null,
   "outputs": [],
   "source": [
    "betas = gr_resnet.betas"
   ],
   "metadata": {
    "collapsed": false
   },
   "id": "466b10f0fc96b168"
  },
  {
   "cell_type": "markdown",
   "source": [
    "#BETA"
   ],
   "metadata": {
    "collapsed": false
   },
   "id": "e61c6709c2a58ff3"
  }
 ],
 "metadata": {
  "kernelspec": {
   "display_name": "Python 3",
   "language": "python",
   "name": "python3"
  },
  "language_info": {
   "codemirror_mode": {
    "name": "ipython",
    "version": 2
   },
   "file_extension": ".py",
   "mimetype": "text/x-python",
   "name": "python",
   "nbconvert_exporter": "python",
   "pygments_lexer": "ipython2",
   "version": "2.7.6"
  }
 },
 "nbformat": 4,
 "nbformat_minor": 5
}
