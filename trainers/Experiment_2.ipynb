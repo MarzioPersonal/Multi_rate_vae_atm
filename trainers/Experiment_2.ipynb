{
 "cells": [
  {
   "cell_type": "code",
   "execution_count": 1,
   "id": "initial_id",
   "metadata": {
    "collapsed": true,
    "ExecuteTime": {
     "end_time": "2023-11-18T13:06:05.654253Z",
     "start_time": "2023-11-18T13:06:03.862358Z"
    }
   },
   "outputs": [],
   "source": [
    "from CNNTrainer import GridSearcher, CNNTrainer\n",
    "import torch\n",
    "if torch.cuda.is_available():\n",
    "    torch.set_float32_matmul_precision('high')"
   ]
  },
  {
   "cell_type": "code",
   "execution_count": 2,
   "outputs": [
    {
     "name": "stdout",
     "output_type": "stream",
     "text": [
      "Files already downloaded and verified\n",
      "Files already downloaded and verified\n",
      "Files already downloaded and verified\n"
     ]
    }
   ],
   "source": [
    "from datasets.utils_datasets import get_cifar_10_loaders\n",
    "seed = 5\n",
    "loaders = get_cifar_10_loaders(seed=seed, batch_size_train=128)"
   ],
   "metadata": {
    "collapsed": false,
    "ExecuteTime": {
     "end_time": "2023-11-18T13:06:08.258115Z",
     "start_time": "2023-11-18T13:06:06.232872Z"
    }
   },
   "id": "3724072f5c56be05"
  },
  {
   "cell_type": "code",
   "execution_count": 3,
   "outputs": [],
   "source": [
    "gr = GridSearcher(loaders, is_cifar=True)"
   ],
   "metadata": {
    "collapsed": false,
    "ExecuteTime": {
     "end_time": "2023-11-18T13:06:08.269451Z",
     "start_time": "2023-11-18T13:06:08.258736Z"
    }
   },
   "id": "12dc03ea46e31cd9"
  },
  {
   "cell_type": "code",
   "execution_count": 4,
   "outputs": [],
   "source": [
    "path = 'experiment_2'"
   ],
   "metadata": {
    "collapsed": false,
    "ExecuteTime": {
     "end_time": "2023-11-18T13:06:08.269697Z",
     "start_time": "2023-11-18T13:06:08.261333Z"
    }
   },
   "id": "d9190d5dd532fd5d"
  },
  {
   "cell_type": "code",
   "execution_count": null,
   "outputs": [
    {
     "name": "stdout",
     "output_type": "stream",
     "text": [
      "Using device: mps\n",
      "Beta-VAE\n",
      "conducting experiment 1 with beta: 1.0 and learning rate: 0.01\n",
      "using seed: 1\n"
     ]
    },
    {
     "data": {
      "text/plain": "  0%|          | 0/200 [00:00<?, ?it/s]",
      "application/vnd.jupyter.widget-view+json": {
       "version_major": 2,
       "version_minor": 0,
       "model_id": "c5fe90b3b2b44d7a946b4a333b89c8d2"
      }
     },
     "metadata": {},
     "output_type": "display_data"
    }
   ],
   "source": [
    "gr.conduct_experiment(path=path)"
   ],
   "metadata": {
    "collapsed": false,
    "is_executing": true,
    "ExecuteTime": {
     "start_time": "2023-11-18T13:06:08.264444Z"
    }
   },
   "id": "92f6091528c9ffa4"
  },
  {
   "cell_type": "code",
   "execution_count": null,
   "outputs": [],
   "source": [],
   "metadata": {
    "collapsed": false
   },
   "id": "466b10f0fc96b168"
  }
 ],
 "metadata": {
  "kernelspec": {
   "display_name": "Python 3",
   "language": "python",
   "name": "python3"
  },
  "language_info": {
   "codemirror_mode": {
    "name": "ipython",
    "version": 2
   },
   "file_extension": ".py",
   "mimetype": "text/x-python",
   "name": "python",
   "nbconvert_exporter": "python",
   "pygments_lexer": "ipython2",
   "version": "2.7.6"
  }
 },
 "nbformat": 4,
 "nbformat_minor": 5
}
