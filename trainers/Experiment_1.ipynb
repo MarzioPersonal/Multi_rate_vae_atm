{
 "cells": [
  {
   "cell_type": "code",
   "execution_count": 6,
   "id": "a34b43c0751d50b",
   "metadata": {
    "ExecuteTime": {
     "end_time": "2023-11-19T18:43:45.333117Z",
     "start_time": "2023-11-19T18:43:44.384235Z"
    },
    "collapsed": false
   },
   "outputs": [],
   "source": [
    "from LinearTrainer import GridSearcher\n",
    "from LinearTrainer import LinearTrainer\n",
    "import torch\n",
    "import seaborn as sns\n",
    "sns.set(style=\"whitegrid\")\n",
    "if torch.cuda.is_available():\n",
    "    torch.set_float32_matmul_precision('high')\n"
   ]
  },
  {
   "cell_type": "code",
   "execution_count": 7,
   "id": "2d0d48884bc381a4",
   "metadata": {
    "ExecuteTime": {
     "end_time": "2023-11-19T18:43:47.974400Z",
     "start_time": "2023-11-19T18:43:45.785935Z"
    },
    "collapsed": false
   },
   "outputs": [],
   "source": [
    "from datasets.utils_datasets import get_mnist_binary_static_loaders\n",
    "seed = 5\n",
    "loaders =  get_mnist_binary_static_loaders(seed=seed, batch_size_train=256)"
   ]
  },
  {
   "cell_type": "code",
   "execution_count": 8,
   "id": "fc603e06f4813cb9",
   "metadata": {
    "ExecuteTime": {
     "end_time": "2023-11-19T18:43:59.730787Z",
     "start_time": "2023-11-19T18:43:59.721868Z"
    },
    "collapsed": false
   },
   "outputs": [],
   "source": [
    "gr = GridSearcher(loaders)"
   ]
  },
  {
   "cell_type": "code",
   "execution_count": 9,
   "id": "44a0263ee8e4c843",
   "metadata": {
    "ExecuteTime": {
     "end_time": "2023-11-19T18:44:00.159903Z",
     "start_time": "2023-11-19T18:44:00.157140Z"
    },
    "collapsed": false
   },
   "outputs": [],
   "source": [
    "path = 'experiment_1'"
   ]
  },
  {
   "cell_type": "code",
   "execution_count": 10,
   "id": "79f16eb5246d1eb0",
   "metadata": {
    "collapsed": false
   },
   "outputs": [
    {
     "name": "stdout",
     "output_type": "stream",
     "text": [
      "Beta-VAE\n",
      "conducting experiment 1 with beta: 0.010000000000000004 and learning rate: 0.01\n",
      "using seed: 1\n"
     ]
    },
    {
     "data": {
      "application/vnd.jupyter.widget-view+json": {
       "model_id": "e164016d42bf4d2b8c1e7ab426950592",
       "version_major": 2,
       "version_minor": 0
      },
      "text/plain": [
       "  0%|          | 0/200 [00:00<?, ?it/s]"
      ]
     },
     "metadata": {},
     "output_type": "display_data"
    },
    {
     "name": "stderr",
     "output_type": "stream",
     "text": [
      "Exception ignored in: <function _releaseLock at 0x7fa5d9eb0280>\n",
      "Traceback (most recent call last):\n",
      "  File \"/usr/lib/python3.10/logging/__init__.py\", line 228, in _releaseLock\n",
      "    def _releaseLock():\n",
      "KeyboardInterrupt: \n"
     ]
    }
   ],
   "source": [
    "gr.conduct_experiment(path=path, do_only_mrvae=False)"
   ]
  },
  {
   "cell_type": "code",
   "execution_count": null,
   "id": "ac9bdb8043f0d557",
   "metadata": {
    "ExecuteTime": {
     "end_time": "2023-11-19T18:44:01.917124Z",
     "start_time": "2023-11-19T18:44:01.907782Z"
    },
    "collapsed": false
   },
   "outputs": [],
   "source": [
    "betas = gr.betas"
   ]
  },
  {
   "cell_type": "code",
   "execution_count": null,
   "id": "52c0915158bfd6b6",
   "metadata": {
    "ExecuteTime": {
     "end_time": "2023-11-19T18:44:02.277404Z",
     "start_time": "2023-11-19T18:44:02.274402Z"
    },
    "collapsed": false
   },
   "outputs": [],
   "source": [
    "import pandas as pd"
   ]
  },
  {
   "cell_type": "markdown",
   "id": "3a0dd5c5e4c42145",
   "metadata": {
    "collapsed": false
   },
   "source": [
    "# BETA"
   ]
  },
  {
   "cell_type": "code",
   "execution_count": null,
   "id": "b4d561e905e9163d",
   "metadata": {
    "collapsed": false
   },
   "outputs": [],
   "source": [
    "df_beta_vae : pd.DataFrame = pd.read_csv(f'{path}/beta_vae.csv', index_col=0)"
   ]
  },
  {
   "cell_type": "code",
   "execution_count": null,
   "id": "45c66038f591f079",
   "metadata": {
    "collapsed": false
   },
   "outputs": [],
   "source": [
    "df_beta_vae = df_beta_vae.reset_index(drop=True)\n",
    "df_beta_vae.head()"
   ]
  },
  {
   "cell_type": "code",
   "execution_count": null,
   "id": "6898581ebd387584",
   "metadata": {
    "collapsed": false
   },
   "outputs": [],
   "source": [
    "# select the best for beta \n",
    "df_beta_vae_sorted = []\n",
    "for name, group in df_beta_vae.groupby('beta'):\n",
    "    lr = group.sort_values(by='mean_loss').reset_index().at[0, 'lr']\n",
    "    df_beta_vae_sorted.append({'beta': name, 'lr': lr})\n",
    "    print(f'beta={name}, lr={lr}')\n",
    "df_beta_vae_sorted = pd.DataFrame(df_beta_vae_sorted)"
   ]
  },
  {
   "cell_type": "code",
   "execution_count": null,
   "id": "3cf84080fa3f760e",
   "metadata": {
    "collapsed": false
   },
   "outputs": [],
   "source": [
    "import torch\n",
    "import numpy as np\n",
    "torch.manual_seed(1)\n",
    "np.random.seed(1)\n",
    "rate_beta_vae = []\n",
    "distortion_beta_vae = []\n",
    "for i in range(0, len(df_beta_vae_sorted)):\n",
    "    beta = df_beta_vae_sorted.at[i, 'beta']\n",
    "    lr = df_beta_vae_sorted.at[i, 'lr']\n",
    "    print(f'best learning rate for beta: {beta} is lr: {lr}\\n')\n",
    "    trainer = LinearTrainer(loaders, use_multi_rate=False, beta=beta, lr=lr)\n",
    "    trainer.train()\n",
    "    _, (rate_losses, dist_losses) = trainer.rate_distortion_curve_value(beta, beta)\n",
    "    rate_beta_vae.append(rate_losses)\n",
    "    distortion_beta_vae.append(dist_losses)\n"
   ]
  },
  {
   "cell_type": "code",
   "execution_count": null,
   "id": "fadd153e67169bf3",
   "metadata": {
    "collapsed": false
   },
   "outputs": [],
   "source": [
    "import matplotlib.pyplot as plt\n",
    "# plot the rate distortion curve\n",
    "fig = plt.figure(figsize=(10, 10))\n",
    "for i in range(0, len(df_beta_vae_sorted)):\n",
    "    beta = df_beta_vae_sorted.at[i, 'beta']\n",
    "    plt.plot(rate_beta_vae[i], distortion_beta_vae[i], 'o', label=f'beta={beta}')\n",
    "# plt.legend()\n",
    "plt.xlabel('Rate')\n",
    "plt.ylabel('Distortion')\n",
    "plt.title('Rate-Distortion Curve')\n",
    "try:\n",
    "    plt.savefig(f'experiment_1/b_vae.pdf', bbox_inches =\"tight\")\n",
    "except:\n",
    "    pass\n",
    "plt.show()\n"
   ]
  },
  {
   "cell_type": "markdown",
   "id": "1780f7b21f87af7",
   "metadata": {
    "collapsed": false
   },
   "source": [
    "# MULTI-RATE VAE"
   ]
  },
  {
   "cell_type": "code",
   "execution_count": null,
   "id": "8f4c66b543e0445a",
   "metadata": {
    "ExecuteTime": {
     "end_time": "2023-11-19T18:44:16.218772Z",
     "start_time": "2023-11-19T18:44:16.208916Z"
    },
    "collapsed": false
   },
   "outputs": [],
   "source": [
    "df_multi_rate : pd.DataFrame = pd.read_csv(f'{path}/mr_vae.csv', index_col=0)\n",
    "df_multi_rate = df_multi_rate.reset_index(drop=True)"
   ]
  },
  {
   "cell_type": "code",
   "execution_count": null,
   "id": "74a8474738678eb5",
   "metadata": {
    "ExecuteTime": {
     "end_time": "2023-11-19T18:44:16.698508Z",
     "start_time": "2023-11-19T18:44:16.690585Z"
    },
    "collapsed": false
   },
   "outputs": [],
   "source": [
    "df_multi_rate.head()"
   ]
  },
  {
   "cell_type": "code",
   "execution_count": null,
   "id": "d30070ba538ef177",
   "metadata": {
    "ExecuteTime": {
     "end_time": "2023-11-19T18:44:18.772804Z",
     "start_time": "2023-11-19T18:44:18.765814Z"
    },
    "collapsed": false
   },
   "outputs": [],
   "source": [
    "best_lr = df_multi_rate.sort_values(by=['mean_loss']).reset_index().at[0, 'lr']\n",
    "print(f'best lr for multi-rate vae  is {best_lr}')"
   ]
  },
  {
   "cell_type": "code",
   "execution_count": null,
   "id": "41642d3284a4cf10",
   "metadata": {
    "ExecuteTime": {
     "end_time": "2023-11-19T18:44:25.763566Z",
     "start_time": "2023-11-19T18:44:25.761175Z"
    }
   },
   "outputs": [],
   "source": [
    "betas"
   ]
  },
  {
   "cell_type": "code",
   "execution_count": null,
   "id": "5c273f221ba8ef2c",
   "metadata": {
    "ExecuteTime": {
     "end_time": "2023-11-19T18:44:42.749441Z",
     "start_time": "2023-11-19T18:44:27.375796Z"
    },
    "collapsed": false
   },
   "outputs": [],
   "source": [
    "import torch\n",
    "import numpy as np\n",
    "torch.manual_seed(1)\n",
    "np.random.seed(1)\n",
    "trainer = LinearTrainer(loaders, use_multi_rate=True, lr=best_lr)\n",
    "trainer.train()\n"
   ]
  },
  {
   "cell_type": "code",
   "execution_count": null,
   "id": "b3d2eeb81ad40d47",
   "metadata": {
    "ExecuteTime": {
     "end_time": "2023-11-19T18:44:46.481927Z",
     "start_time": "2023-11-19T18:44:46.475861Z"
    },
    "collapsed": false
   },
   "outputs": [],
   "source": [
    "betas = np.linspace(start=np.log(0.01), stop=np.log(10.), num=30)"
   ]
  },
  {
   "cell_type": "code",
   "execution_count": null,
   "id": "4330d40d3d4ce22f",
   "metadata": {
    "ExecuteTime": {
     "end_time": "2023-11-19T18:45:30.755482Z",
     "start_time": "2023-11-19T18:44:47.064249Z"
    },
    "collapsed": false
   },
   "outputs": [],
   "source": [
    "rate_mr_vae = []\n",
    "distortion_mr_vae = []\n",
    "for b in np.linspace(start=np.log(0.01), stop=np.log(10.), num=30):\n",
    "    _, (rate_losses, dist_losses) = trainer.rate_distortion_curve_value(beta_in=b, beta_loss=1.)\n",
    "    rate_mr_vae.append(rate_losses)\n",
    "    distortion_mr_vae.append(dist_losses)"
   ]
  },
  {
   "cell_type": "code",
   "execution_count": null,
   "id": "458d21e2a411a9bc",
   "metadata": {
    "ExecuteTime": {
     "end_time": "2023-11-19T18:45:53.872118Z",
     "start_time": "2023-11-19T18:45:53.702665Z"
    }
   },
   "outputs": [],
   "source": [
    "import matplotlib.pyplot as plt\n",
    "# plot the rate distortion curve\n",
    "fig = plt.figure(figsize=(10, 10))\n",
    "for i in range(0, len(betas)):\n",
    "    beta = betas[i]\n",
    "    plt.plot(rate_mr_vae[i], distortion_mr_vae[i], 'o', label=f'beta={beta}')\n",
    "# plt.legend()\n",
    "plt.xlabel('Rate')\n",
    "plt.ylabel('Distortion')\n",
    "plt.title('Rate-Distortion Curve')\n",
    "try:\n",
    "    plt.savefig(f'experiment_1/mr_vae.pdf', bbox_inches =\"tight\")\n",
    "except:\n",
    "    print('warning saving pdf image')\n",
    "    pass\n",
    "plt.show()"
   ]
  },
  {
   "cell_type": "code",
   "execution_count": null,
   "id": "3acfbbd73f4e7c13",
   "metadata": {
    "collapsed": false
   },
   "outputs": [],
   "source": []
  }
 ],
 "metadata": {
  "kernelspec": {
   "display_name": "Python 3",
   "language": "python",
   "name": "python3"
  },
  "language_info": {
   "codemirror_mode": {
    "name": "ipython",
    "version": 3
   },
   "file_extension": ".py",
   "mimetype": "text/x-python",
   "name": "python",
   "nbconvert_exporter": "python",
   "pygments_lexer": "ipython3",
   "version": "3.10.12"
  }
 },
 "nbformat": 4,
 "nbformat_minor": 5
}
