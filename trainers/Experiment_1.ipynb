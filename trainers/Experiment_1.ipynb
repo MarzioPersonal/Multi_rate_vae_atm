{
 "cells": [
  {
   "cell_type": "code",
   "execution_count": 1,
   "id": "a34b43c0751d50b",
   "metadata": {
    "ExecuteTime": {
     "end_time": "2023-11-17T14:46:20.141656Z",
     "start_time": "2023-11-17T14:46:18.602424Z"
    },
    "collapsed": false
   },
   "outputs": [],
   "source": [
    "from LinearTrainer import GridSearcher\n",
    "from LinearTrainer import LinearTrainer"
   ]
  },
  {
   "cell_type": "code",
   "execution_count": 2,
   "id": "2d0d48884bc381a4",
   "metadata": {
    "collapsed": false
   },
   "outputs": [],
   "source": [
    "from datasets.utils_datasets import get_mnist_binary_static_loaders\n",
    "seed = 5\n",
    "loaders =  get_mnist_binary_static_loaders(seed=seed)"
   ]
  },
  {
   "cell_type": "code",
   "execution_count": 3,
   "id": "fc603e06f4813cb9",
   "metadata": {
    "ExecuteTime": {
     "end_time": "2023-11-17T14:46:20.185534Z",
     "start_time": "2023-11-17T14:46:20.143844Z"
    },
    "collapsed": false
   },
   "outputs": [],
   "source": [
    "gr = GridSearcher(loaders)"
   ]
  },
  {
   "cell_type": "code",
   "execution_count": 4,
   "id": "44a0263ee8e4c843",
   "metadata": {
    "ExecuteTime": {
     "end_time": "2023-11-17T16:06:02.418646Z",
     "start_time": "2023-11-17T16:06:02.415411Z"
    },
    "collapsed": false
   },
   "outputs": [],
   "source": [
    "path = 'experiment_1'"
   ]
  },
  {
   "cell_type": "code",
   "execution_count": 5,
   "id": "79f16eb5246d1eb0",
   "metadata": {
    "ExecuteTime": {
     "end_time": "2023-11-17T14:47:08.670469Z",
     "start_time": "2023-11-17T14:46:20.185962Z"
    },
    "collapsed": false
   },
   "outputs": [
    {
     "name": "stdout",
     "output_type": "stream",
     "text": [
      "Beta-VAE\n",
      "conducting experiment 1 with beta: 0.010000000000000004 and learning rate: 0.01\n",
      "using seed: 1\n"
     ]
    },
    {
     "ename": "RuntimeError",
     "evalue": "Expected all tensors to be on the same device, but found at least two devices, cuda:0 and cpu! (when checking argument for argument mat1 in method wrapper_CUDA_addmm)",
     "output_type": "error",
     "traceback": [
      "\u001b[0;31m---------------------------------------------------------------------------\u001b[0m",
      "\u001b[0;31mRuntimeError\u001b[0m                              Traceback (most recent call last)",
      "\u001b[1;32m/home/alessandro/Desktop/Multi_rate_vae_atm/trainers/Experiment_1.ipynb Cell 5\u001b[0m line \u001b[0;36m1\n\u001b[0;32m----> <a href='vscode-notebook-cell:/home/alessandro/Desktop/Multi_rate_vae_atm/trainers/Experiment_1.ipynb#W4sZmlsZQ%3D%3D?line=0'>1</a>\u001b[0m gr\u001b[39m.\u001b[39;49mconduct_experiment(path\u001b[39m=\u001b[39;49mpath)\n",
      "File \u001b[0;32m~/Desktop/Multi_rate_vae_atm/trainers/LinearTrainer.py:180\u001b[0m, in \u001b[0;36mGridSearcher.conduct_experiment\u001b[0;34m(self, path)\u001b[0m\n\u001b[1;32m    178\u001b[0m \u001b[39mif\u001b[39;00m \u001b[39mnot\u001b[39;00m os\u001b[39m.\u001b[39mpath\u001b[39m.\u001b[39mexists(path):\n\u001b[1;32m    179\u001b[0m     os\u001b[39m.\u001b[39mmkdir(path)\n\u001b[0;32m--> 180\u001b[0m df_beta_vae \u001b[39m=\u001b[39m \u001b[39mself\u001b[39;49m\u001b[39m.\u001b[39;49mb_vae_()\n\u001b[1;32m    181\u001b[0m df_mr_vae \u001b[39m=\u001b[39m \u001b[39mself\u001b[39m\u001b[39m.\u001b[39mmr_vae_()\n\u001b[1;32m    182\u001b[0m df_beta_vae\u001b[39m.\u001b[39mto_csv(\u001b[39mf\u001b[39m\u001b[39m'\u001b[39m\u001b[39m{\u001b[39;00mpath\u001b[39m}\u001b[39;00m\u001b[39m/beta_vae.csv\u001b[39m\u001b[39m'\u001b[39m)\n",
      "File \u001b[0;32m~/Desktop/Multi_rate_vae_atm/trainers/LinearTrainer.py:141\u001b[0m, in \u001b[0;36mGridSearcher.b_vae_\u001b[0;34m(self)\u001b[0m\n\u001b[1;32m    139\u001b[0m np\u001b[39m.\u001b[39mrandom\u001b[39m.\u001b[39mseed(s)\n\u001b[1;32m    140\u001b[0m tr \u001b[39m=\u001b[39m LinearTrainer(loaders\u001b[39m=\u001b[39m\u001b[39mself\u001b[39m\u001b[39m.\u001b[39mloaders, use_multi_rate\u001b[39m=\u001b[39m\u001b[39mFalse\u001b[39;00m, beta\u001b[39m=\u001b[39mb, lr\u001b[39m=\u001b[39mlr)\n\u001b[0;32m--> 141\u001b[0m tr\u001b[39m.\u001b[39;49mtrain()\n\u001b[1;32m    142\u001b[0m train_loss \u001b[39m=\u001b[39m tr\u001b[39m.\u001b[39mbest_on_validation()\n\u001b[1;32m    143\u001b[0m mean_tr\u001b[39m.\u001b[39mappend(train_loss)\n",
      "File \u001b[0;32m~/Desktop/Multi_rate_vae_atm/trainers/LinearTrainer.py:57\u001b[0m, in \u001b[0;36mLinearTrainer.train\u001b[0;34m(self)\u001b[0m\n\u001b[1;32m     55\u001b[0m log_betas \u001b[39m=\u001b[39m \u001b[39mself\u001b[39m\u001b[39m.\u001b[39msample_beta(batch_size\u001b[39m=\u001b[39minputs\u001b[39m.\u001b[39mshape[\u001b[39m0\u001b[39m])\n\u001b[1;32m     56\u001b[0m \u001b[39mself\u001b[39m\u001b[39m.\u001b[39moptimizer\u001b[39m.\u001b[39mzero_grad()\n\u001b[0;32m---> 57\u001b[0m x_pred, (mu, logvar) \u001b[39m=\u001b[39m \u001b[39mself\u001b[39;49m\u001b[39m.\u001b[39;49mmodel\u001b[39m.\u001b[39;49mforward(inputs, log_betas)\n\u001b[1;32m     58\u001b[0m loss, (rec_loss, kdl_loss) \u001b[39m=\u001b[39m \u001b[39mself\u001b[39m\u001b[39m.\u001b[39mloss_fn(x_pred, inputs, mu, logvar, \u001b[39mself\u001b[39m\u001b[39m.\u001b[39mbeta)\n\u001b[1;32m     59\u001b[0m loss\u001b[39m.\u001b[39mbackward()\n",
      "File \u001b[0;32m~/Desktop/Multi_rate_vae_atm/models/linearVae.py:62\u001b[0m, in \u001b[0;36mLinearVae.forward\u001b[0;34m(self, x, beta)\u001b[0m\n\u001b[1;32m     61\u001b[0m \u001b[39mdef\u001b[39;00m \u001b[39mforward\u001b[39m(\u001b[39mself\u001b[39m, x: torch\u001b[39m.\u001b[39mTensor, beta: torch\u001b[39m.\u001b[39mTensor \u001b[39m|\u001b[39m \u001b[39mNone\u001b[39;00m):\n\u001b[0;32m---> 62\u001b[0m     encoded_x \u001b[39m=\u001b[39m \u001b[39mself\u001b[39;49m\u001b[39m.\u001b[39;49mencode(x, beta)\n\u001b[1;32m     63\u001b[0m     mu \u001b[39m=\u001b[39m \u001b[39mself\u001b[39m\u001b[39m.\u001b[39mmu(encoded_x)\n\u001b[1;32m     64\u001b[0m     logvar \u001b[39m=\u001b[39m \u001b[39mself\u001b[39m\u001b[39m.\u001b[39mlogvar(encoded_x)\n",
      "File \u001b[0;32m~/Desktop/Multi_rate_vae_atm/models/linearVae.py:52\u001b[0m, in \u001b[0;36mLinearVae.encode\u001b[0;34m(self, state, beta)\u001b[0m\n\u001b[1;32m     50\u001b[0m state \u001b[39m=\u001b[39m \u001b[39mself\u001b[39m\u001b[39m.\u001b[39mencoder_in(state)\n\u001b[1;32m     51\u001b[0m \u001b[39mfor\u001b[39;00m m \u001b[39min\u001b[39;00m \u001b[39mself\u001b[39m\u001b[39m.\u001b[39mencoder:\n\u001b[0;32m---> 52\u001b[0m     state \u001b[39m=\u001b[39m m(state, beta)\n\u001b[1;32m     53\u001b[0m \u001b[39mreturn\u001b[39;00m state\n",
      "File \u001b[0;32m~/.local/lib/python3.10/site-packages/torch/nn/modules/module.py:1518\u001b[0m, in \u001b[0;36mModule._wrapped_call_impl\u001b[0;34m(self, *args, **kwargs)\u001b[0m\n\u001b[1;32m   1516\u001b[0m     \u001b[39mreturn\u001b[39;00m \u001b[39mself\u001b[39m\u001b[39m.\u001b[39m_compiled_call_impl(\u001b[39m*\u001b[39margs, \u001b[39m*\u001b[39m\u001b[39m*\u001b[39mkwargs)  \u001b[39m# type: ignore[misc]\u001b[39;00m\n\u001b[1;32m   1517\u001b[0m \u001b[39melse\u001b[39;00m:\n\u001b[0;32m-> 1518\u001b[0m     \u001b[39mreturn\u001b[39;00m \u001b[39mself\u001b[39;49m\u001b[39m.\u001b[39;49m_call_impl(\u001b[39m*\u001b[39;49margs, \u001b[39m*\u001b[39;49m\u001b[39m*\u001b[39;49mkwargs)\n",
      "File \u001b[0;32m~/.local/lib/python3.10/site-packages/torch/nn/modules/module.py:1527\u001b[0m, in \u001b[0;36mModule._call_impl\u001b[0;34m(self, *args, **kwargs)\u001b[0m\n\u001b[1;32m   1522\u001b[0m \u001b[39m# If we don't have any hooks, we want to skip the rest of the logic in\u001b[39;00m\n\u001b[1;32m   1523\u001b[0m \u001b[39m# this function, and just call forward.\u001b[39;00m\n\u001b[1;32m   1524\u001b[0m \u001b[39mif\u001b[39;00m \u001b[39mnot\u001b[39;00m (\u001b[39mself\u001b[39m\u001b[39m.\u001b[39m_backward_hooks \u001b[39mor\u001b[39;00m \u001b[39mself\u001b[39m\u001b[39m.\u001b[39m_backward_pre_hooks \u001b[39mor\u001b[39;00m \u001b[39mself\u001b[39m\u001b[39m.\u001b[39m_forward_hooks \u001b[39mor\u001b[39;00m \u001b[39mself\u001b[39m\u001b[39m.\u001b[39m_forward_pre_hooks\n\u001b[1;32m   1525\u001b[0m         \u001b[39mor\u001b[39;00m _global_backward_pre_hooks \u001b[39mor\u001b[39;00m _global_backward_hooks\n\u001b[1;32m   1526\u001b[0m         \u001b[39mor\u001b[39;00m _global_forward_hooks \u001b[39mor\u001b[39;00m _global_forward_pre_hooks):\n\u001b[0;32m-> 1527\u001b[0m     \u001b[39mreturn\u001b[39;00m forward_call(\u001b[39m*\u001b[39;49margs, \u001b[39m*\u001b[39;49m\u001b[39m*\u001b[39;49mkwargs)\n\u001b[1;32m   1529\u001b[0m \u001b[39mtry\u001b[39;00m:\n\u001b[1;32m   1530\u001b[0m     result \u001b[39m=\u001b[39m \u001b[39mNone\u001b[39;00m\n",
      "File \u001b[0;32m~/Desktop/Multi_rate_vae_atm/layers/MultiRateSequential.py:18\u001b[0m, in \u001b[0;36mModifiedSequential.forward\u001b[0;34m(self, input, beta)\u001b[0m\n\u001b[1;32m     16\u001b[0m \u001b[39mdef\u001b[39;00m \u001b[39mforward\u001b[39m(\u001b[39mself\u001b[39m, \u001b[39minput\u001b[39m, beta\u001b[39m=\u001b[39m\u001b[39mNone\u001b[39;00m):\n\u001b[1;32m     17\u001b[0m     \u001b[39mfor\u001b[39;00m i, module \u001b[39min\u001b[39;00m \u001b[39menumerate\u001b[39m(\u001b[39mself\u001b[39m):\n\u001b[0;32m---> 18\u001b[0m         \u001b[39minput\u001b[39m \u001b[39m=\u001b[39m module(\u001b[39minput\u001b[39;49m)\n\u001b[1;32m     19\u001b[0m     \u001b[39mreturn\u001b[39;00m \u001b[39minput\u001b[39m\n",
      "File \u001b[0;32m~/.local/lib/python3.10/site-packages/torch/nn/modules/module.py:1518\u001b[0m, in \u001b[0;36mModule._wrapped_call_impl\u001b[0;34m(self, *args, **kwargs)\u001b[0m\n\u001b[1;32m   1516\u001b[0m     \u001b[39mreturn\u001b[39;00m \u001b[39mself\u001b[39m\u001b[39m.\u001b[39m_compiled_call_impl(\u001b[39m*\u001b[39margs, \u001b[39m*\u001b[39m\u001b[39m*\u001b[39mkwargs)  \u001b[39m# type: ignore[misc]\u001b[39;00m\n\u001b[1;32m   1517\u001b[0m \u001b[39melse\u001b[39;00m:\n\u001b[0;32m-> 1518\u001b[0m     \u001b[39mreturn\u001b[39;00m \u001b[39mself\u001b[39;49m\u001b[39m.\u001b[39;49m_call_impl(\u001b[39m*\u001b[39;49margs, \u001b[39m*\u001b[39;49m\u001b[39m*\u001b[39;49mkwargs)\n",
      "File \u001b[0;32m~/.local/lib/python3.10/site-packages/torch/nn/modules/module.py:1527\u001b[0m, in \u001b[0;36mModule._call_impl\u001b[0;34m(self, *args, **kwargs)\u001b[0m\n\u001b[1;32m   1522\u001b[0m \u001b[39m# If we don't have any hooks, we want to skip the rest of the logic in\u001b[39;00m\n\u001b[1;32m   1523\u001b[0m \u001b[39m# this function, and just call forward.\u001b[39;00m\n\u001b[1;32m   1524\u001b[0m \u001b[39mif\u001b[39;00m \u001b[39mnot\u001b[39;00m (\u001b[39mself\u001b[39m\u001b[39m.\u001b[39m_backward_hooks \u001b[39mor\u001b[39;00m \u001b[39mself\u001b[39m\u001b[39m.\u001b[39m_backward_pre_hooks \u001b[39mor\u001b[39;00m \u001b[39mself\u001b[39m\u001b[39m.\u001b[39m_forward_hooks \u001b[39mor\u001b[39;00m \u001b[39mself\u001b[39m\u001b[39m.\u001b[39m_forward_pre_hooks\n\u001b[1;32m   1525\u001b[0m         \u001b[39mor\u001b[39;00m _global_backward_pre_hooks \u001b[39mor\u001b[39;00m _global_backward_hooks\n\u001b[1;32m   1526\u001b[0m         \u001b[39mor\u001b[39;00m _global_forward_hooks \u001b[39mor\u001b[39;00m _global_forward_pre_hooks):\n\u001b[0;32m-> 1527\u001b[0m     \u001b[39mreturn\u001b[39;00m forward_call(\u001b[39m*\u001b[39;49margs, \u001b[39m*\u001b[39;49m\u001b[39m*\u001b[39;49mkwargs)\n\u001b[1;32m   1529\u001b[0m \u001b[39mtry\u001b[39;00m:\n\u001b[1;32m   1530\u001b[0m     result \u001b[39m=\u001b[39m \u001b[39mNone\u001b[39;00m\n",
      "File \u001b[0;32m~/.local/lib/python3.10/site-packages/torch/nn/modules/linear.py:114\u001b[0m, in \u001b[0;36mLinear.forward\u001b[0;34m(self, input)\u001b[0m\n\u001b[1;32m    113\u001b[0m \u001b[39mdef\u001b[39;00m \u001b[39mforward\u001b[39m(\u001b[39mself\u001b[39m, \u001b[39minput\u001b[39m: Tensor) \u001b[39m-\u001b[39m\u001b[39m>\u001b[39m Tensor:\n\u001b[0;32m--> 114\u001b[0m     \u001b[39mreturn\u001b[39;00m F\u001b[39m.\u001b[39;49mlinear(\u001b[39minput\u001b[39;49m, \u001b[39mself\u001b[39;49m\u001b[39m.\u001b[39;49mweight, \u001b[39mself\u001b[39;49m\u001b[39m.\u001b[39;49mbias)\n",
      "\u001b[0;31mRuntimeError\u001b[0m: Expected all tensors to be on the same device, but found at least two devices, cuda:0 and cpu! (when checking argument for argument mat1 in method wrapper_CUDA_addmm)"
     ]
    }
   ],
   "source": [
    "gr.conduct_experiment(path=path)"
   ]
  },
  {
   "cell_type": "code",
   "execution_count": null,
   "id": "ac9bdb8043f0d557",
   "metadata": {
    "collapsed": false
   },
   "outputs": [],
   "source": [
    "betas = gr.betas"
   ]
  },
  {
   "cell_type": "code",
   "execution_count": 4,
   "id": "52c0915158bfd6b6",
   "metadata": {
    "ExecuteTime": {
     "end_time": "2023-11-17T16:06:04.121510Z",
     "start_time": "2023-11-17T16:06:04.118771Z"
    },
    "collapsed": false
   },
   "outputs": [],
   "source": [
    "import pandas as pd"
   ]
  },
  {
   "cell_type": "markdown",
   "id": "3a0dd5c5e4c42145",
   "metadata": {
    "collapsed": false
   },
   "source": [
    "# BETA"
   ]
  },
  {
   "cell_type": "code",
   "execution_count": 7,
   "id": "b4d561e905e9163d",
   "metadata": {
    "ExecuteTime": {
     "end_time": "2023-11-17T16:06:17.212319Z",
     "start_time": "2023-11-17T16:06:17.206989Z"
    },
    "collapsed": false
   },
   "outputs": [],
   "source": [
    "df_beta_vae : pd.DataFrame = pd.read_csv(f'{path}/beta_vae.csv', index_col=0)"
   ]
  },
  {
   "cell_type": "code",
   "execution_count": 8,
   "id": "45c66038f591f079",
   "metadata": {
    "ExecuteTime": {
     "end_time": "2023-11-17T16:06:21.103929Z",
     "start_time": "2023-11-17T16:06:21.095282Z"
    },
    "collapsed": false
   },
   "outputs": [
    {
     "data": {
      "text/html": [
       "<div>\n",
       "<style scoped>\n",
       "    .dataframe tbody tr th:only-of-type {\n",
       "        vertical-align: middle;\n",
       "    }\n",
       "\n",
       "    .dataframe tbody tr th {\n",
       "        vertical-align: top;\n",
       "    }\n",
       "\n",
       "    .dataframe thead th {\n",
       "        text-align: right;\n",
       "    }\n",
       "</style>\n",
       "<table border=\"1\" class=\"dataframe\">\n",
       "  <thead>\n",
       "    <tr style=\"text-align: right;\">\n",
       "      <th></th>\n",
       "      <th>use_multi_rate</th>\n",
       "      <th>mean_loss</th>\n",
       "      <th>beta</th>\n",
       "      <th>lr</th>\n",
       "    </tr>\n",
       "  </thead>\n",
       "  <tbody>\n",
       "    <tr>\n",
       "      <th>0</th>\n",
       "      <td>False</td>\n",
       "      <td>886.745796</td>\n",
       "      <td>0.01</td>\n",
       "      <td>0.01</td>\n",
       "    </tr>\n",
       "    <tr>\n",
       "      <th>1</th>\n",
       "      <td>False</td>\n",
       "      <td>1340.995643</td>\n",
       "      <td>10.00</td>\n",
       "      <td>0.01</td>\n",
       "    </tr>\n",
       "  </tbody>\n",
       "</table>\n",
       "</div>"
      ],
      "text/plain": [
       "   use_multi_rate    mean_loss   beta    lr\n",
       "0           False   886.745796   0.01  0.01\n",
       "1           False  1340.995643  10.00  0.01"
      ]
     },
     "execution_count": 8,
     "metadata": {},
     "output_type": "execute_result"
    }
   ],
   "source": [
    "df_beta_vae.head()"
   ]
  },
  {
   "cell_type": "code",
   "execution_count": 26,
   "id": "6898581ebd387584",
   "metadata": {
    "ExecuteTime": {
     "end_time": "2023-11-17T16:33:18.565239Z",
     "start_time": "2023-11-17T16:33:18.559421Z"
    },
    "collapsed": false
   },
   "outputs": [],
   "source": [
    "# select the best for beta \n",
    "df_beta_vae_sorted = df_beta_vae.sort_values(by=['mean_loss']).groupby(by=['lr', 'beta']).head(1)"
   ]
  },
  {
   "cell_type": "code",
   "execution_count": 27,
   "id": "24114d4c075d11d",
   "metadata": {
    "ExecuteTime": {
     "end_time": "2023-11-17T16:33:18.893385Z",
     "start_time": "2023-11-17T16:33:18.889902Z"
    },
    "collapsed": false
   },
   "outputs": [
    {
     "data": {
      "text/html": [
       "<div>\n",
       "<style scoped>\n",
       "    .dataframe tbody tr th:only-of-type {\n",
       "        vertical-align: middle;\n",
       "    }\n",
       "\n",
       "    .dataframe tbody tr th {\n",
       "        vertical-align: top;\n",
       "    }\n",
       "\n",
       "    .dataframe thead th {\n",
       "        text-align: right;\n",
       "    }\n",
       "</style>\n",
       "<table border=\"1\" class=\"dataframe\">\n",
       "  <thead>\n",
       "    <tr style=\"text-align: right;\">\n",
       "      <th></th>\n",
       "      <th>use_multi_rate</th>\n",
       "      <th>mean_loss</th>\n",
       "      <th>beta</th>\n",
       "      <th>lr</th>\n",
       "    </tr>\n",
       "  </thead>\n",
       "  <tbody>\n",
       "    <tr>\n",
       "      <th>0</th>\n",
       "      <td>False</td>\n",
       "      <td>886.745796</td>\n",
       "      <td>0.01</td>\n",
       "      <td>0.01</td>\n",
       "    </tr>\n",
       "    <tr>\n",
       "      <th>1</th>\n",
       "      <td>False</td>\n",
       "      <td>1340.995643</td>\n",
       "      <td>10.00</td>\n",
       "      <td>0.01</td>\n",
       "    </tr>\n",
       "  </tbody>\n",
       "</table>\n",
       "</div>"
      ],
      "text/plain": [
       "   use_multi_rate    mean_loss   beta    lr\n",
       "0           False   886.745796   0.01  0.01\n",
       "1           False  1340.995643  10.00  0.01"
      ]
     },
     "execution_count": 27,
     "metadata": {},
     "output_type": "execute_result"
    }
   ],
   "source": [
    "df_beta_vae_sorted"
   ]
  },
  {
   "cell_type": "code",
   "execution_count": 30,
   "id": "3cf84080fa3f760e",
   "metadata": {
    "ExecuteTime": {
     "end_time": "2023-11-17T16:34:33.911093Z",
     "start_time": "2023-11-17T16:34:33.906677Z"
    },
    "collapsed": false
   },
   "outputs": [
    {
     "name": "stdout",
     "output_type": "stream",
     "text": [
      "best learning rate for beta: 0.01 is lr: 0.01\n",
      "\n",
      "best learning rate for beta: 10.000000000000002 is lr: 0.01\n"
     ]
    }
   ],
   "source": [
    "import torch\n",
    "torch.manual_seed(989)\n",
    "rec_beta_vae = []\n",
    "distortion_beta_vae = []\n",
    "for i in range(0, len(df_beta_vae_sorted)):\n",
    "    beta = df_beta_vae_sorted.at[i, 'beta']\n",
    "    lr = df_beta_vae_sorted.at[i, 'lr']\n",
    "    print(f'best learning rate for beta: {beta} is lr: {lr}\\n')\n",
    "    trainer = LinearTrainer(loaders, use_multi_rate=False, beta=beta, lr=lr)\n",
    "    trainer.train()\n",
    "    _, (rec_losses, kdl_losses) = trainer.rate_distortion_curve_value(beta, beta)\n",
    "    rec_beta_vae.append(rec_losses)\n",
    "    distortion_beta_vae.append(kdl_losses)\n"
   ]
  },
  {
   "cell_type": "code",
   "execution_count": null,
   "id": "fadd153e67169bf3",
   "metadata": {
    "collapsed": false
   },
   "outputs": [],
   "source": []
  },
  {
   "cell_type": "markdown",
   "id": "1780f7b21f87af7",
   "metadata": {
    "collapsed": false
   },
   "source": [
    "# MULTI-RATE VAE"
   ]
  },
  {
   "cell_type": "code",
   "execution_count": 33,
   "id": "8f4c66b543e0445a",
   "metadata": {
    "ExecuteTime": {
     "end_time": "2023-11-17T16:37:14.020855Z",
     "start_time": "2023-11-17T16:37:14.014288Z"
    },
    "collapsed": false
   },
   "outputs": [],
   "source": [
    "df_multi_rate : pd.DataFrame = pd.read_csv(f'{path}/mr_vae.csv', index_col=0)\n"
   ]
  },
  {
   "cell_type": "code",
   "execution_count": 34,
   "id": "74a8474738678eb5",
   "metadata": {
    "ExecuteTime": {
     "end_time": "2023-11-17T16:37:14.274485Z",
     "start_time": "2023-11-17T16:37:14.270777Z"
    },
    "collapsed": false
   },
   "outputs": [
    {
     "data": {
      "text/html": [
       "<div>\n",
       "<style scoped>\n",
       "    .dataframe tbody tr th:only-of-type {\n",
       "        vertical-align: middle;\n",
       "    }\n",
       "\n",
       "    .dataframe tbody tr th {\n",
       "        vertical-align: top;\n",
       "    }\n",
       "\n",
       "    .dataframe thead th {\n",
       "        text-align: right;\n",
       "    }\n",
       "</style>\n",
       "<table border=\"1\" class=\"dataframe\">\n",
       "  <thead>\n",
       "    <tr style=\"text-align: right;\">\n",
       "      <th></th>\n",
       "      <th>use_multi_rate</th>\n",
       "      <th>mean_loss</th>\n",
       "      <th>beta</th>\n",
       "      <th>lr</th>\n",
       "    </tr>\n",
       "  </thead>\n",
       "  <tbody>\n",
       "    <tr>\n",
       "      <th>0</th>\n",
       "      <td>True</td>\n",
       "      <td>1453.67288</td>\n",
       "      <td>1.0</td>\n",
       "      <td>0.01</td>\n",
       "    </tr>\n",
       "  </tbody>\n",
       "</table>\n",
       "</div>"
      ],
      "text/plain": [
       "   use_multi_rate   mean_loss  beta    lr\n",
       "0            True  1453.67288   1.0  0.01"
      ]
     },
     "execution_count": 34,
     "metadata": {},
     "output_type": "execute_result"
    }
   ],
   "source": [
    "df_multi_rate.head()"
   ]
  },
  {
   "cell_type": "code",
   "execution_count": 36,
   "id": "d30070ba538ef177",
   "metadata": {
    "ExecuteTime": {
     "end_time": "2023-11-17T16:37:31.961333Z",
     "start_time": "2023-11-17T16:37:31.956996Z"
    },
    "collapsed": false
   },
   "outputs": [
    {
     "name": "stdout",
     "output_type": "stream",
     "text": [
      "best lr for multi-rate vae  is 0.01\n"
     ]
    }
   ],
   "source": [
    "best_lr = df_multi_rate.sort_values(by=['mean_loss']).at[0, 'lr']\n",
    "print(f'best lr for multi-rate vae  is {best_lr}')"
   ]
  },
  {
   "cell_type": "code",
   "execution_count": null,
   "id": "5c273f221ba8ef2c",
   "metadata": {
    "collapsed": false
   },
   "outputs": [],
   "source": [
    "rec_mr_vae = []\n",
    "distortion_mr_vae = []\n",
    "for b in betas:\n",
    "    trainer = LinearTrainer(loaders, use_multi_rate=True, lr=best_lr)\n",
    "    trainer.train()\n",
    "    _, (rec_losses, kdl_losses) = trainer.rate_distortion_curve_value(b, 1.)\n",
    "    rec_mr_vae.append(rec_losses)\n",
    "    distortion_mr_vae.append(kdl_losses)"
   ]
  }
 ],
 "metadata": {
  "kernelspec": {
   "display_name": "Python 3",
   "language": "python",
   "name": "python3"
  },
  "language_info": {
   "codemirror_mode": {
    "name": "ipython",
    "version": 3
   },
   "file_extension": ".py",
   "mimetype": "text/x-python",
   "name": "python",
   "nbconvert_exporter": "python",
   "pygments_lexer": "ipython3",
   "version": "3.10.12"
  }
 },
 "nbformat": 4,
 "nbformat_minor": 5
}
