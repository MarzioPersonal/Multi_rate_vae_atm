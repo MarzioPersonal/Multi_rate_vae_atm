{
 "cells": [
  {
   "cell_type": "code",
   "execution_count": 1,
   "id": "a34b43c0751d50b",
   "metadata": {
    "collapsed": false,
    "ExecuteTime": {
     "end_time": "2023-11-18T14:26:13.716256Z",
     "start_time": "2023-11-18T14:26:12.122022Z"
    }
   },
   "outputs": [],
   "source": [
    "from LinearTrainer import GridSearcher\n",
    "from LinearTrainer import LinearTrainer\n",
    "import torch\n",
    "if torch.cuda.is_available():\n",
    "    torch.set_float32_matmul_precision('high')"
   ]
  },
  {
   "cell_type": "code",
   "execution_count": 2,
   "id": "2d0d48884bc381a4",
   "metadata": {
    "collapsed": false,
    "ExecuteTime": {
     "end_time": "2023-11-18T14:26:14.167981Z",
     "start_time": "2023-11-18T14:26:13.717633Z"
    }
   },
   "outputs": [],
   "source": [
    "from datasets.utils_datasets import get_mnist_binary_static_loaders\n",
    "seed = 5\n",
    "loaders =  get_mnist_binary_static_loaders(seed=seed, batch_size_train=256)"
   ]
  },
  {
   "cell_type": "code",
   "execution_count": 3,
   "id": "fc603e06f4813cb9",
   "metadata": {
    "collapsed": false,
    "ExecuteTime": {
     "end_time": "2023-11-18T14:26:14.168229Z",
     "start_time": "2023-11-18T14:26:14.152616Z"
    }
   },
   "outputs": [],
   "source": [
    "gr = GridSearcher(loaders)"
   ]
  },
  {
   "cell_type": "code",
   "execution_count": 4,
   "id": "44a0263ee8e4c843",
   "metadata": {
    "collapsed": false,
    "ExecuteTime": {
     "end_time": "2023-11-18T14:26:14.347028Z",
     "start_time": "2023-11-18T14:26:14.345323Z"
    }
   },
   "outputs": [],
   "source": [
    "path = 'experiment_1'"
   ]
  },
  {
   "cell_type": "code",
   "execution_count": null,
   "id": "79f16eb5246d1eb0",
   "metadata": {
    "ExecuteTime": {
     "end_time": "2023-11-17T14:47:08.670469Z",
     "start_time": "2023-11-17T14:46:20.185962Z"
    },
    "collapsed": false
   },
   "outputs": [],
   "source": [
    "gr.conduct_experiment(path=path)"
   ]
  },
  {
   "cell_type": "code",
   "execution_count": 5,
   "id": "ac9bdb8043f0d557",
   "metadata": {
    "collapsed": false,
    "ExecuteTime": {
     "end_time": "2023-11-18T14:26:15.665247Z",
     "start_time": "2023-11-18T14:26:15.660985Z"
    }
   },
   "outputs": [],
   "source": [
    "betas = gr.betas"
   ]
  },
  {
   "cell_type": "code",
   "execution_count": 6,
   "id": "52c0915158bfd6b6",
   "metadata": {
    "collapsed": false,
    "ExecuteTime": {
     "end_time": "2023-11-18T14:26:15.927961Z",
     "start_time": "2023-11-18T14:26:15.922260Z"
    }
   },
   "outputs": [],
   "source": [
    "import pandas as pd"
   ]
  },
  {
   "cell_type": "markdown",
   "id": "3a0dd5c5e4c42145",
   "metadata": {
    "collapsed": false
   },
   "source": [
    "# BETA"
   ]
  },
  {
   "cell_type": "code",
   "execution_count": null,
   "id": "b4d561e905e9163d",
   "metadata": {
    "ExecuteTime": {
     "end_time": "2023-11-17T16:06:17.212319Z",
     "start_time": "2023-11-17T16:06:17.206989Z"
    },
    "collapsed": false
   },
   "outputs": [],
   "source": [
    "df_beta_vae : pd.DataFrame = pd.read_csv(f'{path}/beta_vae.csv', index_col=0)"
   ]
  },
  {
   "cell_type": "code",
   "execution_count": null,
   "id": "45c66038f591f079",
   "metadata": {
    "ExecuteTime": {
     "end_time": "2023-11-17T16:06:21.103929Z",
     "start_time": "2023-11-17T16:06:21.095282Z"
    },
    "collapsed": false
   },
   "outputs": [],
   "source": [
    "df_beta_vae = df_beta_vae.reset_index(drop=True)\n",
    "df_beta_vae.head()"
   ]
  },
  {
   "cell_type": "code",
   "execution_count": null,
   "id": "6898581ebd387584",
   "metadata": {
    "ExecuteTime": {
     "end_time": "2023-11-17T16:33:18.565239Z",
     "start_time": "2023-11-17T16:33:18.559421Z"
    },
    "collapsed": false
   },
   "outputs": [],
   "source": [
    "# select the best for beta \n",
    "df_beta_vae_sorted = []\n",
    "for name, group in df_beta_vae.groupby('beta'):\n",
    "    lr = group.sort_values(by='mean_loss').reset_index().at[0, 'lr']\n",
    "    df_beta_vae_sorted.append({'beta': name, 'lr': lr})\n",
    "    print(f'beta={name}, lr={lr}')\n",
    "df_beta_vae_sorted = pd.DataFrame(df_beta_vae_sorted)"
   ]
  },
  {
   "cell_type": "code",
   "execution_count": null,
   "id": "3cf84080fa3f760e",
   "metadata": {
    "ExecuteTime": {
     "end_time": "2023-11-17T16:34:33.911093Z",
     "start_time": "2023-11-17T16:34:33.906677Z"
    },
    "collapsed": false
   },
   "outputs": [],
   "source": [
    "import torch\n",
    "import numpy as np\n",
    "torch.manual_seed(1)\n",
    "np.random.seed(1)\n",
    "rec_beta_vae = []\n",
    "distortion_beta_vae = []\n",
    "for i in range(0, len(df_beta_vae_sorted)):\n",
    "    beta = df_beta_vae_sorted.at[i, 'beta']\n",
    "    lr = df_beta_vae_sorted.at[i, 'lr']\n",
    "    print(f'best learning rate for beta: {beta} is lr: {lr}\\n')\n",
    "    trainer = LinearTrainer(loaders, use_multi_rate=False, beta=beta, lr=lr)\n",
    "    trainer.train()\n",
    "    _, (rec_losses, kdl_losses) = trainer.rate_distortion_curve_value(beta, beta)\n",
    "    rec_beta_vae.append(rec_losses)\n",
    "    distortion_beta_vae.append(kdl_losses)\n"
   ]
  },
  {
   "cell_type": "code",
   "execution_count": null,
   "id": "fadd153e67169bf3",
   "metadata": {
    "collapsed": false
   },
   "outputs": [],
   "source": [
    "import matplotlib.pyplot as plt\n",
    "# plot the rate distortion curve\n",
    "fig = plt.figure(figsize=(10, 10))\n",
    "for i in range(0, len(df_beta_vae_sorted)):\n",
    "    beta = df_beta_vae_sorted.at[i, 'beta']\n",
    "    plt.plot(rec_beta_vae[i], distortion_beta_vae[i], 'o', label=f'beta={beta}')\n",
    "plt.legend()\n",
    "plt.xlabel('Rate')\n",
    "plt.ylabel('Distortion')\n",
    "plt.title('Rate-Distortion Curve')\n",
    "try:\n",
    "    plt.savefig(f'experiment_1/b_vae.pdf', bbox_inches =\"tight\")\n",
    "except:\n",
    "    pass\n",
    "plt.show()\n"
   ]
  },
  {
   "cell_type": "markdown",
   "id": "1780f7b21f87af7",
   "metadata": {
    "collapsed": false
   },
   "source": [
    "# MULTI-RATE VAE"
   ]
  },
  {
   "cell_type": "code",
   "execution_count": 7,
   "id": "8f4c66b543e0445a",
   "metadata": {
    "collapsed": false,
    "ExecuteTime": {
     "end_time": "2023-11-18T14:26:20.895589Z",
     "start_time": "2023-11-18T14:26:20.889147Z"
    }
   },
   "outputs": [],
   "source": [
    "df_multi_rate : pd.DataFrame = pd.read_csv(f'{path}/mr_vae.csv', index_col=0)\n",
    "df_multi_rate = df_multi_rate.reset_index(drop=True)"
   ]
  },
  {
   "cell_type": "code",
   "execution_count": 8,
   "id": "74a8474738678eb5",
   "metadata": {
    "collapsed": false,
    "ExecuteTime": {
     "end_time": "2023-11-18T14:26:21.635646Z",
     "start_time": "2023-11-18T14:26:21.631880Z"
    }
   },
   "outputs": [
    {
     "data": {
      "text/plain": "   use_multi_rate   mean_loss  beta    lr\n0            True  1453.67288   1.0  0.01",
      "text/html": "<div>\n<style scoped>\n    .dataframe tbody tr th:only-of-type {\n        vertical-align: middle;\n    }\n\n    .dataframe tbody tr th {\n        vertical-align: top;\n    }\n\n    .dataframe thead th {\n        text-align: right;\n    }\n</style>\n<table border=\"1\" class=\"dataframe\">\n  <thead>\n    <tr style=\"text-align: right;\">\n      <th></th>\n      <th>use_multi_rate</th>\n      <th>mean_loss</th>\n      <th>beta</th>\n      <th>lr</th>\n    </tr>\n  </thead>\n  <tbody>\n    <tr>\n      <th>0</th>\n      <td>True</td>\n      <td>1453.67288</td>\n      <td>1.0</td>\n      <td>0.01</td>\n    </tr>\n  </tbody>\n</table>\n</div>"
     },
     "execution_count": 8,
     "metadata": {},
     "output_type": "execute_result"
    }
   ],
   "source": [
    "df_multi_rate.head()"
   ]
  },
  {
   "cell_type": "code",
   "execution_count": 9,
   "id": "d30070ba538ef177",
   "metadata": {
    "collapsed": false,
    "ExecuteTime": {
     "end_time": "2023-11-18T14:26:36.626084Z",
     "start_time": "2023-11-18T14:26:36.620606Z"
    }
   },
   "outputs": [
    {
     "name": "stdout",
     "output_type": "stream",
     "text": [
      "best lr for multi-rate vae  is 0.01\n"
     ]
    }
   ],
   "source": [
    "best_lr = df_multi_rate.sort_values(by=['mean_loss']).reset_index().at[0, 'lr']\n",
    "print(f'best lr for multi-rate vae  is {best_lr}')"
   ]
  },
  {
   "cell_type": "code",
   "execution_count": 10,
   "metadata": {
    "ExecuteTime": {
     "end_time": "2023-11-18T14:26:36.890665Z",
     "start_time": "2023-11-18T14:26:36.886107Z"
    }
   },
   "outputs": [
    {
     "data": {
      "text/plain": "array([-4.60517019, -3.83764182, -3.07011346, -2.30258509, -1.53505673,\n       -0.76752836,  0.        ,  0.76752836,  1.53505673,  2.30258509])"
     },
     "execution_count": 10,
     "metadata": {},
     "output_type": "execute_result"
    }
   ],
   "source": [
    "betas"
   ],
   "id": "41642d3284a4cf10"
  },
  {
   "cell_type": "code",
   "execution_count": null,
   "id": "5c273f221ba8ef2c",
   "metadata": {
    "collapsed": false,
    "is_executing": true,
    "ExecuteTime": {
     "start_time": "2023-11-18T14:26:41.161865Z"
    }
   },
   "outputs": [
    {
     "data": {
      "text/plain": "  0%|          | 0/200 [00:00<?, ?it/s]",
      "application/vnd.jupyter.widget-view+json": {
       "version_major": 2,
       "version_minor": 0,
       "model_id": "9730aee31e00493bb5616db379613278"
      }
     },
     "metadata": {},
     "output_type": "display_data"
    }
   ],
   "source": [
    "import torch\n",
    "import numpy as np\n",
    "torch.manual_seed(1)\n",
    "np.random.seed(1)\n",
    "rec_mr_vae = []\n",
    "distortion_mr_vae = []\n",
    "trainer = LinearTrainer(loaders, use_multi_rate=True, lr=0.003)\n",
    "trainer.train()\n",
    "for b in betas:\n",
    "    _, (rec_losses, kdl_losses) = trainer.rate_distortion_curve_value(beta_in=b, beta_loss=1.)\n",
    "    rec_mr_vae.append(rec_losses)\n",
    "    distortion_mr_vae.append(kdl_losses)"
   ]
  },
  {
   "cell_type": "code",
   "execution_count": 13,
   "metadata": {
    "ExecuteTime": {
     "end_time": "2023-11-18T14:24:06.161539Z",
     "start_time": "2023-11-18T14:24:05.271606Z"
    }
   },
   "outputs": [
    {
     "data": {
      "text/plain": "<Figure size 1000x1000 with 1 Axes>",
      "image/png": "[encoded data removed]"
     },
     "metadata": {},
     "output_type": "display_data"
    }
   ],
   "source": [
    "import matplotlib.pyplot as plt\n",
    "# plot the rate distortion curve\n",
    "fig = plt.figure(figsize=(10, 10))\n",
    "for i in range(0, len(betas)):\n",
    "    beta = betas[i]\n",
    "    plt.plot(rec_mr_vae[i], distortion_mr_vae[i], 'o', label=f'beta={beta}')\n",
    "plt.legend()\n",
    "plt.xlabel('Rate')\n",
    "plt.ylabel('Distortion')\n",
    "plt.title('Rate-Distortion Curve')\n",
    "try:\n",
    "    plt.savefig(f'experiment_1/mr_vae.pdf', bbox_inches =\"tight\")\n",
    "except:\n",
    "    pass\n",
    "plt.show()"
   ],
   "id": "458d21e2a411a9bc"
  },
  {
   "cell_type": "code",
   "execution_count": null,
   "outputs": [],
   "source": [],
   "metadata": {
    "collapsed": false
   },
   "id": "3acfbbd73f4e7c13"
  }
 ],
 "metadata": {
  "kernelspec": {
   "display_name": "Python 3",
   "language": "python",
   "name": "python3"
  },
  "language_info": {
   "codemirror_mode": {
    "name": "ipython",
    "version": 3
   },
   "file_extension": ".py",
   "mimetype": "text/x-python",
   "name": "python",
   "nbconvert_exporter": "python",
   "pygments_lexer": "ipython3",
   "version": "3.10.12"
  }
 },
 "nbformat": 4,
 "nbformat_minor": 5
}
