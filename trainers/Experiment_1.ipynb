{
 "cells": [
  {
   "cell_type": "code",
   "execution_count": 1,
   "outputs": [],
   "source": [
    "from LinearTrainer import GridSearcher\n",
    "from LinearTrainer import LinearTrainer"
   ],
   "metadata": {
    "collapsed": false,
    "ExecuteTime": {
     "end_time": "2023-11-17T14:46:20.141656Z",
     "start_time": "2023-11-17T14:46:18.602424Z"
    }
   },
   "id": "a34b43c0751d50b"
  },
  {
   "cell_type": "code",
   "execution_count": null,
   "outputs": [],
   "source": [
    "from datasets.utils_datasets import get_mnist_binary_static_loaders\n",
    "seed = 5\n",
    "loaders =  get_mnist_binary_static_loaders(seed=seed)"
   ],
   "metadata": {
    "collapsed": false
   },
   "id": "2d0d48884bc381a4"
  },
  {
   "cell_type": "code",
   "execution_count": 2,
   "outputs": [],
   "source": [
    "gr = GridSearcher(loaders)"
   ],
   "metadata": {
    "collapsed": false,
    "ExecuteTime": {
     "end_time": "2023-11-17T14:46:20.185534Z",
     "start_time": "2023-11-17T14:46:20.143844Z"
    }
   },
   "id": "fc603e06f4813cb9"
  },
  {
   "cell_type": "code",
   "execution_count": 3,
   "outputs": [],
   "source": [
    "path = 'experiment_1'"
   ],
   "metadata": {
    "collapsed": false,
    "ExecuteTime": {
     "end_time": "2023-11-17T16:06:02.418646Z",
     "start_time": "2023-11-17T16:06:02.415411Z"
    }
   },
   "id": "44a0263ee8e4c843"
  },
  {
   "cell_type": "code",
   "execution_count": 3,
   "outputs": [
    {
     "name": "stdout",
     "output_type": "stream",
     "text": [
      "Beta-VAE\n",
      "conducting experiment 1 with beta: 0.010000000000000005 and learning rate: 0.01\n",
      "using seed: 1\n",
      "using seed: 10\n",
      "conducting experiment 1 with beta: 10.000000000000002 and learning rate: 0.01\n",
      "using seed: 1\n",
      "using seed: 10\n",
      "MR-VAE\n",
      "conducting experiment 1 and learning rate: 0.01\n"
     ]
    }
   ],
   "source": [
    "gr.conduct_experiment(path=path)"
   ],
   "metadata": {
    "collapsed": false,
    "ExecuteTime": {
     "end_time": "2023-11-17T14:47:08.670469Z",
     "start_time": "2023-11-17T14:46:20.185962Z"
    }
   },
   "id": "79f16eb5246d1eb0"
  },
  {
   "cell_type": "code",
   "execution_count": null,
   "outputs": [],
   "source": [
    "betas = gr.betas"
   ],
   "metadata": {
    "collapsed": false
   },
   "id": "ac9bdb8043f0d557"
  },
  {
   "cell_type": "code",
   "execution_count": 4,
   "outputs": [],
   "source": [
    "import pandas as pd"
   ],
   "metadata": {
    "collapsed": false,
    "ExecuteTime": {
     "end_time": "2023-11-17T16:06:04.121510Z",
     "start_time": "2023-11-17T16:06:04.118771Z"
    }
   },
   "id": "52c0915158bfd6b6"
  },
  {
   "cell_type": "markdown",
   "source": [
    "# BETA"
   ],
   "metadata": {
    "collapsed": false
   },
   "id": "3a0dd5c5e4c42145"
  },
  {
   "cell_type": "code",
   "execution_count": 7,
   "outputs": [],
   "source": [
    "df_beta_vae : pd.DataFrame = pd.read_csv(f'{path}/beta_vae.csv', index_col=0)"
   ],
   "metadata": {
    "collapsed": false,
    "ExecuteTime": {
     "end_time": "2023-11-17T16:06:17.212319Z",
     "start_time": "2023-11-17T16:06:17.206989Z"
    }
   },
   "id": "b4d561e905e9163d"
  },
  {
   "cell_type": "code",
   "execution_count": 8,
   "outputs": [
    {
     "data": {
      "text/plain": "   use_multi_rate    mean_loss   beta    lr\n0           False   886.745796   0.01  0.01\n1           False  1340.995643  10.00  0.01",
      "text/html": "<div>\n<style scoped>\n    .dataframe tbody tr th:only-of-type {\n        vertical-align: middle;\n    }\n\n    .dataframe tbody tr th {\n        vertical-align: top;\n    }\n\n    .dataframe thead th {\n        text-align: right;\n    }\n</style>\n<table border=\"1\" class=\"dataframe\">\n  <thead>\n    <tr style=\"text-align: right;\">\n      <th></th>\n      <th>use_multi_rate</th>\n      <th>mean_loss</th>\n      <th>beta</th>\n      <th>lr</th>\n    </tr>\n  </thead>\n  <tbody>\n    <tr>\n      <th>0</th>\n      <td>False</td>\n      <td>886.745796</td>\n      <td>0.01</td>\n      <td>0.01</td>\n    </tr>\n    <tr>\n      <th>1</th>\n      <td>False</td>\n      <td>1340.995643</td>\n      <td>10.00</td>\n      <td>0.01</td>\n    </tr>\n  </tbody>\n</table>\n</div>"
     },
     "execution_count": 8,
     "metadata": {},
     "output_type": "execute_result"
    }
   ],
   "source": [
    "df_beta_vae.head()"
   ],
   "metadata": {
    "collapsed": false,
    "ExecuteTime": {
     "end_time": "2023-11-17T16:06:21.103929Z",
     "start_time": "2023-11-17T16:06:21.095282Z"
    }
   },
   "id": "45c66038f591f079"
  },
  {
   "cell_type": "code",
   "execution_count": 26,
   "outputs": [],
   "source": [
    "# select the best for beta \n",
    "df_beta_vae_sorted = df_beta_vae.sort_values(by=['mean_loss']).groupby(by=['lr', 'beta']).head(1)"
   ],
   "metadata": {
    "collapsed": false,
    "ExecuteTime": {
     "end_time": "2023-11-17T16:33:18.565239Z",
     "start_time": "2023-11-17T16:33:18.559421Z"
    }
   },
   "id": "6898581ebd387584"
  },
  {
   "cell_type": "code",
   "execution_count": 27,
   "outputs": [
    {
     "data": {
      "text/plain": "   use_multi_rate    mean_loss   beta    lr\n0           False   886.745796   0.01  0.01\n1           False  1340.995643  10.00  0.01",
      "text/html": "<div>\n<style scoped>\n    .dataframe tbody tr th:only-of-type {\n        vertical-align: middle;\n    }\n\n    .dataframe tbody tr th {\n        vertical-align: top;\n    }\n\n    .dataframe thead th {\n        text-align: right;\n    }\n</style>\n<table border=\"1\" class=\"dataframe\">\n  <thead>\n    <tr style=\"text-align: right;\">\n      <th></th>\n      <th>use_multi_rate</th>\n      <th>mean_loss</th>\n      <th>beta</th>\n      <th>lr</th>\n    </tr>\n  </thead>\n  <tbody>\n    <tr>\n      <th>0</th>\n      <td>False</td>\n      <td>886.745796</td>\n      <td>0.01</td>\n      <td>0.01</td>\n    </tr>\n    <tr>\n      <th>1</th>\n      <td>False</td>\n      <td>1340.995643</td>\n      <td>10.00</td>\n      <td>0.01</td>\n    </tr>\n  </tbody>\n</table>\n</div>"
     },
     "execution_count": 27,
     "metadata": {},
     "output_type": "execute_result"
    }
   ],
   "source": [
    "df_beta_vae_sorted"
   ],
   "metadata": {
    "collapsed": false,
    "ExecuteTime": {
     "end_time": "2023-11-17T16:33:18.893385Z",
     "start_time": "2023-11-17T16:33:18.889902Z"
    }
   },
   "id": "24114d4c075d11d"
  },
  {
   "cell_type": "code",
   "execution_count": 30,
   "outputs": [
    {
     "name": "stdout",
     "output_type": "stream",
     "text": [
      "best learning rate for beta: 0.01 is lr: 0.01\n",
      "\n",
      "best learning rate for beta: 10.000000000000002 is lr: 0.01\n"
     ]
    }
   ],
   "source": [
    "import torch\n",
    "torch.manual_seed(989)\n",
    "rec_beta_vae = []\n",
    "distortion_beta_vae = []\n",
    "for i in range(0, len(df_beta_vae_sorted)):\n",
    "    beta = df_beta_vae_sorted.at[i, 'beta']\n",
    "    lr = df_beta_vae_sorted.at[i, 'lr']\n",
    "    print(f'best learning rate for beta: {beta} is lr: {lr}\\n')\n",
    "    trainer = LinearTrainer(loaders, use_multi_rate=False, beta=beta, lr=lr)\n",
    "    trainer.train()\n",
    "    _, (rec_losses, kdl_losses) = trainer.rate_distortion_curve_value(beta, beta)\n",
    "    rec_beta_vae.append(rec_losses)\n",
    "    distortion_beta_vae.append(kdl_losses)\n"
   ],
   "metadata": {
    "collapsed": false,
    "ExecuteTime": {
     "end_time": "2023-11-17T16:34:33.911093Z",
     "start_time": "2023-11-17T16:34:33.906677Z"
    }
   },
   "id": "3cf84080fa3f760e"
  },
  {
   "cell_type": "code",
   "execution_count": null,
   "outputs": [],
   "source": [],
   "metadata": {
    "collapsed": false
   },
   "id": "fadd153e67169bf3"
  },
  {
   "cell_type": "markdown",
   "source": [
    "# MULTI-RATE VAE"
   ],
   "metadata": {
    "collapsed": false
   },
   "id": "1780f7b21f87af7"
  },
  {
   "cell_type": "code",
   "execution_count": 33,
   "outputs": [],
   "source": [
    "df_multi_rate : pd.DataFrame = pd.read_csv(f'{path}/mr_vae.csv', index_col=0)\n"
   ],
   "metadata": {
    "collapsed": false,
    "ExecuteTime": {
     "end_time": "2023-11-17T16:37:14.020855Z",
     "start_time": "2023-11-17T16:37:14.014288Z"
    }
   },
   "id": "8f4c66b543e0445a"
  },
  {
   "cell_type": "code",
   "execution_count": 34,
   "outputs": [
    {
     "data": {
      "text/plain": "   use_multi_rate   mean_loss  beta    lr\n0            True  1453.67288   1.0  0.01",
      "text/html": "<div>\n<style scoped>\n    .dataframe tbody tr th:only-of-type {\n        vertical-align: middle;\n    }\n\n    .dataframe tbody tr th {\n        vertical-align: top;\n    }\n\n    .dataframe thead th {\n        text-align: right;\n    }\n</style>\n<table border=\"1\" class=\"dataframe\">\n  <thead>\n    <tr style=\"text-align: right;\">\n      <th></th>\n      <th>use_multi_rate</th>\n      <th>mean_loss</th>\n      <th>beta</th>\n      <th>lr</th>\n    </tr>\n  </thead>\n  <tbody>\n    <tr>\n      <th>0</th>\n      <td>True</td>\n      <td>1453.67288</td>\n      <td>1.0</td>\n      <td>0.01</td>\n    </tr>\n  </tbody>\n</table>\n</div>"
     },
     "execution_count": 34,
     "metadata": {},
     "output_type": "execute_result"
    }
   ],
   "source": [
    "df_multi_rate.head()"
   ],
   "metadata": {
    "collapsed": false,
    "ExecuteTime": {
     "end_time": "2023-11-17T16:37:14.274485Z",
     "start_time": "2023-11-17T16:37:14.270777Z"
    }
   },
   "id": "74a8474738678eb5"
  },
  {
   "cell_type": "code",
   "execution_count": 36,
   "outputs": [
    {
     "name": "stdout",
     "output_type": "stream",
     "text": [
      "best lr for multi-rate vae  is 0.01\n"
     ]
    }
   ],
   "source": [
    "best_lr = df_multi_rate.sort_values(by=['mean_loss']).at[0, 'lr']\n",
    "print(f'best lr for multi-rate vae  is {best_lr}')"
   ],
   "metadata": {
    "collapsed": false,
    "ExecuteTime": {
     "end_time": "2023-11-17T16:37:31.961333Z",
     "start_time": "2023-11-17T16:37:31.956996Z"
    }
   },
   "id": "d30070ba538ef177"
  },
  {
   "cell_type": "code",
   "execution_count": null,
   "outputs": [],
   "source": [
    "rec_mr_vae = []\n",
    "distortion_mr_vae = []\n",
    "for b in betas:\n",
    "    trainer = LinearTrainer(loaders, use_multi_rate=True, lr=best_lr)\n",
    "    trainer.train()\n",
    "    _, (rec_losses, kdl_losses) = trainer.rate_distortion_curve_value(b, 1.)\n",
    "    rec_mr_vae.append(rec_losses)\n",
    "    distortion_mr_vae.append(kdl_losses)"
   ],
   "metadata": {
    "collapsed": false
   },
   "id": "5c273f221ba8ef2c"
  }
 ],
 "metadata": {
  "kernelspec": {
   "display_name": "Python 3",
   "language": "python",
   "name": "python3"
  },
  "language_info": {
   "codemirror_mode": {
    "name": "ipython",
    "version": 2
   },
   "file_extension": ".py",
   "mimetype": "text/x-python",
   "name": "python",
   "nbconvert_exporter": "python",
   "pygments_lexer": "ipython2",
   "version": "2.7.6"
  }
 },
 "nbformat": 4,
 "nbformat_minor": 5
}
