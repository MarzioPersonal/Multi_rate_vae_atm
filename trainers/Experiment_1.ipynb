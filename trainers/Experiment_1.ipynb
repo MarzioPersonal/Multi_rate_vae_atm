{
 "cells": [
  {
   "cell_type": "code",
   "execution_count": 1,
   "id": "a34b43c0751d50b",
   "metadata": {
    "collapsed": false,
    "ExecuteTime": {
     "end_time": "2023-11-19T18:43:45.333117Z",
     "start_time": "2023-11-19T18:43:44.384235Z"
    }
   },
   "outputs": [],
   "source": [
    "from LinearTrainer import GridSearcher\n",
    "from LinearTrainer import LinearTrainer\n",
    "import torch\n",
    "import seaborn as sns\n",
    "sns.set(style=\"whitegrid\")\n",
    "if torch.cuda.is_available():\n",
    "    torch.set_float32_matmul_precision('high')"
   ]
  },
  {
   "cell_type": "code",
   "execution_count": 2,
   "id": "2d0d48884bc381a4",
   "metadata": {
    "collapsed": false,
    "ExecuteTime": {
     "end_time": "2023-11-19T18:43:47.974400Z",
     "start_time": "2023-11-19T18:43:45.785935Z"
    }
   },
   "outputs": [
    {
     "name": "stdout",
     "output_type": "stream",
     "text": [
      "Downloading http://yann.lecun.com/exdb/mnist/train-images-idx3-ubyte.gz\n",
      "Downloading http://yann.lecun.com/exdb/mnist/train-images-idx3-ubyte.gz to ./data/MNIST/raw/train-images-idx3-ubyte.gz\n"
     ]
    },
    {
     "name": "stderr",
     "output_type": "stream",
     "text": [
      "100%|██████████| 9912422/9912422 [00:00<00:00, 22218481.42it/s]\n"
     ]
    },
    {
     "name": "stdout",
     "output_type": "stream",
     "text": [
      "Extracting ./data/MNIST/raw/train-images-idx3-ubyte.gz to ./data/MNIST/raw\n",
      "\n",
      "Downloading http://yann.lecun.com/exdb/mnist/train-labels-idx1-ubyte.gz\n",
      "Downloading http://yann.lecun.com/exdb/mnist/train-labels-idx1-ubyte.gz to ./data/MNIST/raw/train-labels-idx1-ubyte.gz\n"
     ]
    },
    {
     "name": "stderr",
     "output_type": "stream",
     "text": [
      "100%|██████████| 28881/28881 [00:00<00:00, 30466723.80it/s]"
     ]
    },
    {
     "name": "stdout",
     "output_type": "stream",
     "text": [
      "Extracting ./data/MNIST/raw/train-labels-idx1-ubyte.gz to ./data/MNIST/raw\n",
      "\n",
      "Downloading http://yann.lecun.com/exdb/mnist/t10k-images-idx3-ubyte.gz\n"
     ]
    },
    {
     "name": "stderr",
     "output_type": "stream",
     "text": [
      "\n"
     ]
    },
    {
     "name": "stdout",
     "output_type": "stream",
     "text": [
      "Downloading http://yann.lecun.com/exdb/mnist/t10k-images-idx3-ubyte.gz to ./data/MNIST/raw/t10k-images-idx3-ubyte.gz\n"
     ]
    },
    {
     "name": "stderr",
     "output_type": "stream",
     "text": [
      "100%|██████████| 1648877/1648877 [00:00<00:00, 22541284.17it/s]\n"
     ]
    },
    {
     "name": "stdout",
     "output_type": "stream",
     "text": [
      "Extracting ./data/MNIST/raw/t10k-images-idx3-ubyte.gz to ./data/MNIST/raw\n",
      "\n",
      "Downloading http://yann.lecun.com/exdb/mnist/t10k-labels-idx1-ubyte.gz\n",
      "Downloading http://yann.lecun.com/exdb/mnist/t10k-labels-idx1-ubyte.gz to ./data/MNIST/raw/t10k-labels-idx1-ubyte.gz\n"
     ]
    },
    {
     "name": "stderr",
     "output_type": "stream",
     "text": [
      "100%|██████████| 4542/4542 [00:00<00:00, 6828146.51it/s]\n"
     ]
    },
    {
     "name": "stdout",
     "output_type": "stream",
     "text": [
      "Extracting ./data/MNIST/raw/t10k-labels-idx1-ubyte.gz to ./data/MNIST/raw\n"
     ]
    }
   ],
   "source": [
    "from datasets.utils_datasets import get_mnist_binary_static_loaders\n",
    "seed = 5\n",
    "loaders =  get_mnist_binary_static_loaders(seed=seed, batch_size_train=256)"
   ]
  },
  {
   "cell_type": "code",
   "execution_count": 5,
   "id": "fc603e06f4813cb9",
   "metadata": {
    "collapsed": false,
    "ExecuteTime": {
     "end_time": "2023-11-19T18:43:59.730787Z",
     "start_time": "2023-11-19T18:43:59.721868Z"
    }
   },
   "outputs": [],
   "source": [
    "gr = GridSearcher(loaders)"
   ]
  },
  {
   "cell_type": "code",
   "execution_count": 6,
   "id": "44a0263ee8e4c843",
   "metadata": {
    "collapsed": false,
    "ExecuteTime": {
     "end_time": "2023-11-19T18:44:00.159903Z",
     "start_time": "2023-11-19T18:44:00.157140Z"
    }
   },
   "outputs": [],
   "source": [
    "path = 'experiment_1'"
   ]
  },
  {
   "cell_type": "code",
   "execution_count": null,
   "id": "79f16eb5246d1eb0",
   "metadata": {
    "collapsed": false
   },
   "outputs": [],
   "source": [
    "gr.conduct_experiment(path=path, do_only_mrvae=True)"
   ]
  },
  {
   "cell_type": "code",
   "execution_count": 7,
   "id": "ac9bdb8043f0d557",
   "metadata": {
    "collapsed": false,
    "ExecuteTime": {
     "end_time": "2023-11-19T18:44:01.917124Z",
     "start_time": "2023-11-19T18:44:01.907782Z"
    }
   },
   "outputs": [],
   "source": [
    "betas = gr.betas"
   ]
  },
  {
   "cell_type": "code",
   "execution_count": 8,
   "id": "52c0915158bfd6b6",
   "metadata": {
    "collapsed": false,
    "ExecuteTime": {
     "end_time": "2023-11-19T18:44:02.277404Z",
     "start_time": "2023-11-19T18:44:02.274402Z"
    }
   },
   "outputs": [],
   "source": [
    "import pandas as pd"
   ]
  },
  {
   "cell_type": "markdown",
   "id": "3a0dd5c5e4c42145",
   "metadata": {
    "collapsed": false
   },
   "source": [
    "# BETA"
   ]
  },
  {
   "cell_type": "code",
   "execution_count": null,
   "id": "b4d561e905e9163d",
   "metadata": {
    "collapsed": false
   },
   "outputs": [],
   "source": [
    "df_beta_vae : pd.DataFrame = pd.read_csv(f'{path}/beta_vae.csv', index_col=0)"
   ]
  },
  {
   "cell_type": "code",
   "execution_count": null,
   "id": "45c66038f591f079",
   "metadata": {
    "collapsed": false
   },
   "outputs": [],
   "source": [
    "df_beta_vae = df_beta_vae.reset_index(drop=True)\n",
    "df_beta_vae.head()"
   ]
  },
  {
   "cell_type": "code",
   "execution_count": null,
   "id": "6898581ebd387584",
   "metadata": {
    "collapsed": false
   },
   "outputs": [],
   "source": [
    "# select the best for beta \n",
    "df_beta_vae_sorted = []\n",
    "for name, group in df_beta_vae.groupby('beta'):\n",
    "    lr = group.sort_values(by='mean_loss').reset_index().at[0, 'lr']\n",
    "    df_beta_vae_sorted.append({'beta': name, 'lr': lr})\n",
    "    print(f'beta={name}, lr={lr}')\n",
    "df_beta_vae_sorted = pd.DataFrame(df_beta_vae_sorted)"
   ]
  },
  {
   "cell_type": "code",
   "execution_count": null,
   "id": "3cf84080fa3f760e",
   "metadata": {
    "collapsed": false
   },
   "outputs": [],
   "source": [
    "import torch\n",
    "import numpy as np\n",
    "torch.manual_seed(1)\n",
    "np.random.seed(1)\n",
    "rate_beta_vae = []\n",
    "distortion_beta_vae = []\n",
    "for i in range(0, len(df_beta_vae_sorted)):\n",
    "    beta = df_beta_vae_sorted.at[i, 'beta']\n",
    "    lr = df_beta_vae_sorted.at[i, 'lr']\n",
    "    print(f'best learning rate for beta: {beta} is lr: {lr}\\n')\n",
    "    trainer = LinearTrainer(loaders, use_multi_rate=False, beta=beta, lr=lr)\n",
    "    trainer.train()\n",
    "    _, (rate_losses, dist_losses) = trainer.rate_distortion_curve_value(beta, beta)\n",
    "    rate_beta_vae.append(rate_losses)\n",
    "    distortion_beta_vae.append(dist_losses)\n"
   ]
  },
  {
   "cell_type": "code",
   "execution_count": null,
   "id": "fadd153e67169bf3",
   "metadata": {
    "collapsed": false
   },
   "outputs": [],
   "source": [
    "import matplotlib.pyplot as plt\n",
    "# plot the rate distortion curve\n",
    "fig = plt.figure(figsize=(10, 10))\n",
    "for i in range(0, len(df_beta_vae_sorted)):\n",
    "    beta = df_beta_vae_sorted.at[i, 'beta']\n",
    "    plt.plot(rate_beta_vae[i], distortion_beta_vae[i], 'o', label=f'beta={beta}')\n",
    "# plt.legend()\n",
    "plt.xlabel('Rate')\n",
    "plt.ylabel('Distortion')\n",
    "plt.title('Rate-Distortion Curve')\n",
    "try:\n",
    "    plt.savefig(f'experiment_1/b_vae.pdf', bbox_inches =\"tight\")\n",
    "except:\n",
    "    pass\n",
    "plt.show()\n"
   ]
  },
  {
   "cell_type": "markdown",
   "id": "1780f7b21f87af7",
   "metadata": {
    "collapsed": false
   },
   "source": [
    "# MULTI-RATE VAE"
   ]
  },
  {
   "cell_type": "code",
   "execution_count": 9,
   "id": "8f4c66b543e0445a",
   "metadata": {
    "collapsed": false,
    "ExecuteTime": {
     "end_time": "2023-11-19T18:44:16.218772Z",
     "start_time": "2023-11-19T18:44:16.208916Z"
    }
   },
   "outputs": [],
   "source": [
    "df_multi_rate : pd.DataFrame = pd.read_csv(f'{path}/mr_vae.csv', index_col=0)\n",
    "df_multi_rate = df_multi_rate.reset_index(drop=True)"
   ]
  },
  {
   "cell_type": "code",
   "execution_count": 10,
   "id": "74a8474738678eb5",
   "metadata": {
    "collapsed": false,
    "ExecuteTime": {
     "end_time": "2023-11-19T18:44:16.698508Z",
     "start_time": "2023-11-19T18:44:16.690585Z"
    }
   },
   "outputs": [
    {
     "data": {
      "text/plain": "   use_multi_rate  mean_loss  beta      lr\n0            True   0.320748   1.0  0.0100\n1            True   0.320752   1.0  0.0030\n2            True   0.320781   1.0  0.0010\n3            True   0.321321   1.0  0.0003\n4            True   0.343021   1.0  0.0001",
      "text/html": "<div>\n<style scoped>\n    .dataframe tbody tr th:only-of-type {\n        vertical-align: middle;\n    }\n\n    .dataframe tbody tr th {\n        vertical-align: top;\n    }\n\n    .dataframe thead th {\n        text-align: right;\n    }\n</style>\n<table border=\"1\" class=\"dataframe\">\n  <thead>\n    <tr style=\"text-align: right;\">\n      <th></th>\n      <th>use_multi_rate</th>\n      <th>mean_loss</th>\n      <th>beta</th>\n      <th>lr</th>\n    </tr>\n  </thead>\n  <tbody>\n    <tr>\n      <th>0</th>\n      <td>True</td>\n      <td>0.320748</td>\n      <td>1.0</td>\n      <td>0.0100</td>\n    </tr>\n    <tr>\n      <th>1</th>\n      <td>True</td>\n      <td>0.320752</td>\n      <td>1.0</td>\n      <td>0.0030</td>\n    </tr>\n    <tr>\n      <th>2</th>\n      <td>True</td>\n      <td>0.320781</td>\n      <td>1.0</td>\n      <td>0.0010</td>\n    </tr>\n    <tr>\n      <th>3</th>\n      <td>True</td>\n      <td>0.321321</td>\n      <td>1.0</td>\n      <td>0.0003</td>\n    </tr>\n    <tr>\n      <th>4</th>\n      <td>True</td>\n      <td>0.343021</td>\n      <td>1.0</td>\n      <td>0.0001</td>\n    </tr>\n  </tbody>\n</table>\n</div>"
     },
     "execution_count": 10,
     "metadata": {},
     "output_type": "execute_result"
    }
   ],
   "source": [
    "df_multi_rate.head()"
   ]
  },
  {
   "cell_type": "code",
   "execution_count": 11,
   "id": "d30070ba538ef177",
   "metadata": {
    "collapsed": false,
    "ExecuteTime": {
     "end_time": "2023-11-19T18:44:18.772804Z",
     "start_time": "2023-11-19T18:44:18.765814Z"
    }
   },
   "outputs": [
    {
     "name": "stdout",
     "output_type": "stream",
     "text": [
      "best lr for multi-rate vae  is 0.01\n"
     ]
    }
   ],
   "source": [
    "best_lr = df_multi_rate.sort_values(by=['mean_loss']).reset_index().at[0, 'lr']\n",
    "print(f'best lr for multi-rate vae  is {best_lr}')"
   ]
  },
  {
   "cell_type": "code",
   "execution_count": 12,
   "id": "41642d3284a4cf10",
   "metadata": {
    "ExecuteTime": {
     "end_time": "2023-11-19T18:44:25.763566Z",
     "start_time": "2023-11-19T18:44:25.761175Z"
    }
   },
   "outputs": [
    {
     "data": {
      "text/plain": "array([-4.60517019, -3.83764182, -3.07011346, -2.30258509, -1.53505673,\n       -0.76752836,  0.        ,  0.76752836,  1.53505673,  2.30258509])"
     },
     "execution_count": 12,
     "metadata": {},
     "output_type": "execute_result"
    }
   ],
   "source": [
    "betas"
   ]
  },
  {
   "cell_type": "code",
   "execution_count": 13,
   "id": "5c273f221ba8ef2c",
   "metadata": {
    "collapsed": false,
    "ExecuteTime": {
     "end_time": "2023-11-19T18:44:42.749441Z",
     "start_time": "2023-11-19T18:44:27.375796Z"
    }
   },
   "outputs": [
    {
     "data": {
      "text/plain": "  0%|          | 0/200 [00:00<?, ?it/s]",
      "application/vnd.jupyter.widget-view+json": {
       "version_major": 2,
       "version_minor": 0,
       "model_id": "a5931fa2f6ce48afbd45113d445aadb6"
      }
     },
     "metadata": {},
     "output_type": "display_data"
    },
    {
     "name": "stdout",
     "output_type": "stream",
     "text": [
      "Unexpected exception formatting exception. Falling back to standard exception\n"
     ]
    },
    {
     "name": "stderr",
     "output_type": "stream",
     "text": [
      "Traceback (most recent call last):\n",
      "  File \"<string>\", line 1, in <module>\n",
      "  File \"/opt/homebrew/Cellar/python@3.11/3.11.5/Frameworks/Python.framework/Versions/3.11/lib/python3.11/multiprocessing/spawn.py\", line 122, in spawn_main\n",
      "    exitcode = _main(fd, parent_sentinel)\n",
      "               ^^^^^^^^^^^^^^^^^^^^^^^^^^\n",
      "  File \"/opt/homebrew/Cellar/python@3.11/3.11.5/Frameworks/Python.framework/Versions/3.11/lib/python3.11/multiprocessing/spawn.py\", line 132, in _main\n",
      "    self = reduction.pickle.load(from_parent)\n",
      "           ^^^^^^^^^^^^^^^^^^^^^^^^^^^^^^^^^^\n",
      "  File \"/Users/marziolunghi/Documents/GitHub/Multi_rate_vae_gdl/venv/lib/python3.11/site-packages/torch/__init__.py\", line 1750, in <module>\n",
      "Traceback (most recent call last):\n",
      "  File \"<string>\", line 1, in <module>\n",
      "  File \"/opt/homebrew/Cellar/python@3.11/3.11.5/Frameworks/Python.framework/Versions/3.11/lib/python3.11/multiprocessing/spawn.py\", line 122, in spawn_main\n",
      "    exitcode = _main(fd, parent_sentinel)\n",
      "               ^^^^^^^^^^^^^^^^^^^^^^^^^^\n",
      "  File \"/opt/homebrew/Cellar/python@3.11/3.11.5/Frameworks/Python.framework/Versions/3.11/lib/python3.11/multiprocessing/spawn.py\", line 132, in _main\n",
      "    self = reduction.pickle.load(from_parent)\n",
      "    from . import _meta_registrations\n",
      "           ^^^^^^^^^^^^^^^^^^^^^^^^^^^^^^^^^^\n",
      "  File \"/Users/marziolunghi/Documents/GitHub/Multi_rate_vae_gdl/venv/lib/python3.11/site-packages/torchvision/__init__.py\", line 6, in <module>\n",
      "  File \"/Users/marziolunghi/Documents/GitHub/Multi_rate_vae_gdl/venv/lib/python3.11/site-packages/torch/_meta_registrations.py\", line 8, in <module>\n",
      "    from torch._decomp import (\n",
      "  File \"/Users/marziolunghi/Documents/GitHub/Multi_rate_vae_gdl/venv/lib/python3.11/site-packages/torch/_decomp/__init__.py\", line 191, in <module>\n",
      "    from torchvision import _meta_registrations, datasets, io, models, ops, transforms, utils\n",
      "  File \"/Users/marziolunghi/Documents/GitHub/Multi_rate_vae_gdl/venv/lib/python3.11/site-packages/torchvision/datasets/__init__.py\", line 1, in <module>\n",
      "    import torch._refs\n",
      "  File \"/Users/marziolunghi/Documents/GitHub/Multi_rate_vae_gdl/venv/lib/python3.11/site-packages/torch/_refs/__init__.py\", line 567, in <module>\n",
      "    @_make_elementwise_unary_reference(ELEMENTWISE_TYPE_PROMOTION_KIND.INT_TO_FLOAT)\n",
      "     ^^^^^^^^^^^^^^^^^^^^^^^^^^^^^^^^^^^^^^^^^^^^^^^^^^^^^^^^^^^^^^^^^^^^^^^^^^^^^^^\n",
      "  File \"/Users/marziolunghi/Documents/GitHub/Multi_rate_vae_gdl/venv/lib/python3.11/site-packages/torch/_refs/__init__.py\", line 466, in inner\n",
      "    from ._optical_flow import FlyingChairs, FlyingThings3D, HD1K, KittiFlow, Sintel\n",
      "  File \"/Users/marziolunghi/Documents/GitHub/Multi_rate_vae_gdl/venv/lib/python3.11/site-packages/torchvision/datasets/_optical_flow.py\", line 12, in <module>\n",
      "    register_decomposition(aten_op)(_ref)\n",
      "  File \"/Users/marziolunghi/Documents/GitHub/Multi_rate_vae_gdl/venv/lib/python3.11/site-packages/torch/_decomp/__init__.py\", line 133, in decomposition_decorator\n",
      "    tree_map(register, aten_op)\n",
      "  File \"/Users/marziolunghi/Documents/GitHub/Multi_rate_vae_gdl/venv/lib/python3.11/site-packages/torch/utils/_pytree.py\", line 283, in tree_map\n",
      "    from ..io.image import _read_png_16\n",
      "  File \"/Users/marziolunghi/Documents/GitHub/Multi_rate_vae_gdl/venv/lib/python3.11/site-packages/torchvision/io/__init__.py\", line 23, in <module>\n",
      "    from .image import (\n",
      "  File \"/Users/marziolunghi/Documents/GitHub/Multi_rate_vae_gdl/venv/lib/python3.11/site-packages/torchvision/io/image.py\", line 11, in <module>\n",
      "    return tree_unflatten([fn(i) for i in flat_args], spec)\n",
      "    _load_library(\"image\")\n",
      "                          ^^^^^^^^^^^^^^^^^^^^^^^^^^\n",
      "  File \"/Users/marziolunghi/Documents/GitHub/Multi_rate_vae_gdl/venv/lib/python3.11/site-packages/torch/utils/_pytree.py\", line 283, in <listcomp>\n",
      "  File \"/Users/marziolunghi/Documents/GitHub/Multi_rate_vae_gdl/venv/lib/python3.11/site-packages/torchvision/extension.py\", line 89, in _load_library\n",
      "    return tree_unflatten([fn(i) for i in flat_args], spec)\n",
      "                           ^^^^^\n",
      "  File \"/Users/marziolunghi/Documents/GitHub/Multi_rate_vae_gdl/venv/lib/python3.11/site-packages/torch/_decomp/__init__.py\", line 130, in register\n",
      "    _add_op_to_registry(registry, op, fn)\n",
      "  File \"/Users/marziolunghi/Documents/GitHub/Multi_rate_vae_gdl/venv/lib/python3.11/site-packages/torch/_decomp/__init__.py\", line 44, in _add_op_to_registry\n",
      "    overloads.append(getattr(op, ol))\n",
      "                     ^^^^^^^^^^^^^^^\n",
      "  File \"/Users/marziolunghi/Documents/GitHub/Multi_rate_vae_gdl/venv/lib/python3.11/site-packages/torch/_ops.py\", line 674, in __getattr__\n",
      "    torch.ops.load_library(lib_path)\n",
      "  File \"/Users/marziolunghi/Documents/GitHub/Multi_rate_vae_gdl/venv/lib/python3.11/site-packages/torch/_ops.py\", line 852, in load_library\n",
      "    overload = OpOverload(self, op_, op_dk_, schema, tags)\n",
      "               ^^^^^^^^^^^^^^^^^^^^^^^^^^^^^^^^^^^^^^^^^^^\n",
      "  File \"/Users/marziolunghi/Documents/GitHub/Multi_rate_vae_gdl/venv/lib/python3.11/site-packages/torch/_ops.py\", line 429, in __init__\n",
      "    ctypes.CDLL(path)\n",
      "  File \"/opt/homebrew/Cellar/python@3.11/3.11.5/Frameworks/Python.framework/Versions/3.11/lib/python3.11/ctypes/__init__.py\", line 376, in __init__\n",
      "    continue\n",
      "KeyboardInterrupt\n",
      "    self._handle = _dlopen(self._name, mode)\n",
      "                   ^^^^^^^^^^^^^^^^^^^^^^^^^\n",
      "KeyboardInterrupt\n",
      "Traceback (most recent call last):\n",
      "  File \"/Users/marziolunghi/Documents/GitHub/Multi_rate_vae_gdl/venv/lib/python3.11/site-packages/IPython/core/interactiveshell.py\", line 3548, in run_code\n",
      "    exec(code_obj, self.user_global_ns, self.user_ns)\n",
      "  File \"/var/folders/h5/88yx6pz562xgpwzx7ghxvbjr0000gn/T/ipykernel_22262/2048888933.py\", line 6, in <module>\n",
      "    trainer.train()\n",
      "  File \"/Users/marziolunghi/Documents/GitHub/Multi_rate_vae_gdl/trainers/LinearTrainer.py\", line 59, in train\n",
      "    for inputs, _ in self.train_loader:\n",
      "  File \"/Users/marziolunghi/Documents/GitHub/Multi_rate_vae_gdl/venv/lib/python3.11/site-packages/torch/utils/data/dataloader.py\", line 630, in __next__\n",
      "    data = self._next_data()\n",
      "           ^^^^^^^^^^^^^^^^^\n",
      "  File \"/Users/marziolunghi/Documents/GitHub/Multi_rate_vae_gdl/venv/lib/python3.11/site-packages/torch/utils/data/dataloader.py\", line 1328, in _next_data\n",
      "    idx, data = self._get_data()\n",
      "                ^^^^^^^^^^^^^^^^\n",
      "  File \"/Users/marziolunghi/Documents/GitHub/Multi_rate_vae_gdl/venv/lib/python3.11/site-packages/torch/utils/data/dataloader.py\", line 1294, in _get_data\n",
      "    success, data = self._try_get_data()\n",
      "                    ^^^^^^^^^^^^^^^^^^^^\n",
      "  File \"/Users/marziolunghi/Documents/GitHub/Multi_rate_vae_gdl/venv/lib/python3.11/site-packages/torch/utils/data/dataloader.py\", line 1132, in _try_get_data\n",
      "    data = self._data_queue.get(timeout=timeout)\n",
      "           ^^^^^^^^^^^^^^^^^^^^^^^^^^^^^^^^^^^^^\n",
      "  File \"/opt/homebrew/Cellar/python@3.11/3.11.5/Frameworks/Python.framework/Versions/3.11/lib/python3.11/multiprocessing/queues.py\", line 113, in get\n",
      "    if not self._poll(timeout):\n",
      "           ^^^^^^^^^^^^^^^^^^^\n",
      "  File \"/opt/homebrew/Cellar/python@3.11/3.11.5/Frameworks/Python.framework/Versions/3.11/lib/python3.11/multiprocessing/connection.py\", line 256, in poll\n",
      "    return self._poll(timeout)\n",
      "           ^^^^^^^^^^^^^^^^^^^\n",
      "  File \"/opt/homebrew/Cellar/python@3.11/3.11.5/Frameworks/Python.framework/Versions/3.11/lib/python3.11/multiprocessing/connection.py\", line 423, in _poll\n",
      "    r = wait([self], timeout)\n",
      "        ^^^^^^^^^^^^^^^^^^^^^\n",
      "  File \"/opt/homebrew/Cellar/python@3.11/3.11.5/Frameworks/Python.framework/Versions/3.11/lib/python3.11/multiprocessing/connection.py\", line 930, in wait\n",
      "    ready = selector.select(timeout)\n",
      "            ^^^^^^^^^^^^^^^^^^^^^^^^\n",
      "  File \"/opt/homebrew/Cellar/python@3.11/3.11.5/Frameworks/Python.framework/Versions/3.11/lib/python3.11/selectors.py\", line 415, in select\n",
      "    fd_event_list = self._selector.poll(timeout)\n",
      "                    ^^^^^^^^^^^^^^^^^^^^^^^^^^^^\n",
      "KeyboardInterrupt\n",
      "\n",
      "During handling of the above exception, another exception occurred:\n",
      "\n",
      "Traceback (most recent call last):\n",
      "  File \"/Users/marziolunghi/Documents/GitHub/Multi_rate_vae_gdl/venv/lib/python3.11/site-packages/IPython/core/interactiveshell.py\", line 2142, in showtraceback\n",
      "    stb = self.InteractiveTB.structured_traceback(\n",
      "          ^^^^^^^^^^^^^^^^^^^^^^^^^^^^^^^^^^^^^^^^\n",
      "  File \"/Users/marziolunghi/Documents/GitHub/Multi_rate_vae_gdl/venv/lib/python3.11/site-packages/IPython/core/ultratb.py\", line 1435, in structured_traceback\n",
      "    return FormattedTB.structured_traceback(\n",
      "           ^^^^^^^^^^^^^^^^^^^^^^^^^^^^^^^^^\n",
      "  File \"/Users/marziolunghi/Documents/GitHub/Multi_rate_vae_gdl/venv/lib/python3.11/site-packages/IPython/core/ultratb.py\", line 1326, in structured_traceback\n",
      "    return VerboseTB.structured_traceback(\n",
      "           ^^^^^^^^^^^^^^^^^^^^^^^^^^^^^^^\n",
      "  File \"/Users/marziolunghi/Documents/GitHub/Multi_rate_vae_gdl/venv/lib/python3.11/site-packages/IPython/core/ultratb.py\", line 1173, in structured_traceback\n",
      "    formatted_exception = self.format_exception_as_a_whole(etype, evalue, etb, number_of_lines_of_context,\n",
      "                          ^^^^^^^^^^^^^^^^^^^^^^^^^^^^^^^^^^^^^^^^^^^^^^^^^^^^^^^^^^^^^^^^^^^^^^^^^^^^^^^^\n",
      "  File \"/Users/marziolunghi/Documents/GitHub/Multi_rate_vae_gdl/venv/lib/python3.11/site-packages/IPython/core/ultratb.py\", line 1063, in format_exception_as_a_whole\n",
      "    self.get_records(etb, number_of_lines_of_context, tb_offset) if etb else []\n",
      "    ^^^^^^^^^^^^^^^^^^^^^^^^^^^^^^^^^^^^^^^^^^^^^^^^^^^^^^^^^^^^\n",
      "  File \"/Users/marziolunghi/Documents/GitHub/Multi_rate_vae_gdl/venv/lib/python3.11/site-packages/IPython/core/ultratb.py\", line 1160, in get_records\n",
      "    res = list(stack_data.FrameInfo.stack_data(etb, options=options))[tb_offset:]\n",
      "          ^^^^^^^^^^^^^^^^^^^^^^^^^^^^^^^^^^^^^^^^^^^^^^^^^^^^^^^^^^^\n",
      "  File \"/Users/marziolunghi/Documents/GitHub/Multi_rate_vae_gdl/venv/lib/python3.11/site-packages/stack_data/core.py\", line 597, in stack_data\n",
      "    yield from collapse_repeated(\n",
      "  File \"/Users/marziolunghi/Documents/GitHub/Multi_rate_vae_gdl/venv/lib/python3.11/site-packages/stack_data/utils.py\", line 83, in collapse_repeated\n",
      "    yield from map(mapper, original_group)\n",
      "  File \"/Users/marziolunghi/Documents/GitHub/Multi_rate_vae_gdl/venv/lib/python3.11/site-packages/stack_data/core.py\", line 587, in mapper\n",
      "    return cls(f, options)\n",
      "           ^^^^^^^^^^^^^^^\n",
      "  File \"/Users/marziolunghi/Documents/GitHub/Multi_rate_vae_gdl/venv/lib/python3.11/site-packages/stack_data/core.py\", line 551, in __init__\n",
      "    self.executing = Source.executing(frame_or_tb)\n",
      "                     ^^^^^^^^^^^^^^^^^^^^^^^^^^^^^\n",
      "  File \"/Users/marziolunghi/Documents/GitHub/Multi_rate_vae_gdl/venv/lib/python3.11/site-packages/executing/executing.py\", line 264, in executing\n",
      "    source = cls.for_frame(frame)\n",
      "             ^^^^^^^^^^^^^^^^^^^^\n",
      "  File \"/Users/marziolunghi/Documents/GitHub/Multi_rate_vae_gdl/venv/lib/python3.11/site-packages/executing/executing.py\", line 183, in for_frame\n",
      "    return cls.for_filename(frame.f_code.co_filename, frame.f_globals or {}, use_cache)\n",
      "           ^^^^^^^^^^^^^^^^^^^^^^^^^^^^^^^^^^^^^^^^^^^^^^^^^^^^^^^^^^^^^^^^^^^^^^^^^^^^\n",
      "  File \"/Users/marziolunghi/Documents/GitHub/Multi_rate_vae_gdl/venv/lib/python3.11/site-packages/executing/executing.py\", line 212, in for_filename\n",
      "    return cls._for_filename_and_lines(filename, tuple(lines))\n",
      "           ^^^^^^^^^^^^^^^^^^^^^^^^^^^^^^^^^^^^^^^^^^^^^^^^^^^\n",
      "  File \"/Users/marziolunghi/Documents/GitHub/Multi_rate_vae_gdl/venv/lib/python3.11/site-packages/executing/executing.py\", line 223, in _for_filename_and_lines\n",
      "    result = source_cache[(filename, lines)] = cls(filename, lines)\n",
      "                                               ^^^^^^^^^^^^^^^^^^^^\n",
      "  File \"/Users/marziolunghi/Documents/GitHub/Multi_rate_vae_gdl/venv/lib/python3.11/site-packages/executing/executing.py\", line 174, in __init__\n",
      "    visitor.visit(self.tree)\n",
      "  File \"/opt/homebrew/Cellar/python@3.11/3.11.5/Frameworks/Python.framework/Versions/3.11/lib/python3.11/ast.py\", line 418, in visit\n",
      "    return visitor(node)\n",
      "           ^^^^^^^^^^^^^\n",
      "  File \"/opt/homebrew/Cellar/python@3.11/3.11.5/Frameworks/Python.framework/Versions/3.11/lib/python3.11/ast.py\", line 426, in generic_visit\n",
      "    self.visit(item)\n",
      "  File \"/opt/homebrew/Cellar/python@3.11/3.11.5/Frameworks/Python.framework/Versions/3.11/lib/python3.11/ast.py\", line 418, in visit\n",
      "    return visitor(node)\n",
      "           ^^^^^^^^^^^^^\n",
      "  File \"/Users/marziolunghi/Documents/GitHub/Multi_rate_vae_gdl/venv/lib/python3.11/site-packages/executing/executing.py\", line 493, in visit_ClassDef\n",
      "    self.generic_visit(node)\n",
      "  File \"/opt/homebrew/Cellar/python@3.11/3.11.5/Frameworks/Python.framework/Versions/3.11/lib/python3.11/ast.py\", line 426, in generic_visit\n",
      "    self.visit(item)\n",
      "  File \"/opt/homebrew/Cellar/python@3.11/3.11.5/Frameworks/Python.framework/Versions/3.11/lib/python3.11/ast.py\", line 418, in visit\n",
      "    return visitor(node)\n",
      "           ^^^^^^^^^^^^^\n",
      "  File \"/Users/marziolunghi/Documents/GitHub/Multi_rate_vae_gdl/venv/lib/python3.11/site-packages/executing/executing.py\", line 465, in visit_FunctionDef\n",
      "    self.visit(child)\n",
      "  File \"/opt/homebrew/Cellar/python@3.11/3.11.5/Frameworks/Python.framework/Versions/3.11/lib/python3.11/ast.py\", line 418, in visit\n",
      "    return visitor(node)\n",
      "           ^^^^^^^^^^^^^\n",
      "  File \"/Users/marziolunghi/Documents/GitHub/Multi_rate_vae_gdl/venv/lib/python3.11/site-packages/executing/executing.py\", line 465, in visit_FunctionDef\n",
      "    self.visit(child)\n",
      "  File \"/opt/homebrew/Cellar/python@3.11/3.11.5/Frameworks/Python.framework/Versions/3.11/lib/python3.11/ast.py\", line 418, in visit\n",
      "    return visitor(node)\n",
      "           ^^^^^^^^^^^^^\n",
      "  File \"/opt/homebrew/Cellar/python@3.11/3.11.5/Frameworks/Python.framework/Versions/3.11/lib/python3.11/ast.py\", line 426, in generic_visit\n",
      "    self.visit(item)\n",
      "  File \"/opt/homebrew/Cellar/python@3.11/3.11.5/Frameworks/Python.framework/Versions/3.11/lib/python3.11/ast.py\", line 418, in visit\n",
      "    return visitor(node)\n",
      "           ^^^^^^^^^^^^^\n",
      "  File \"/opt/homebrew/Cellar/python@3.11/3.11.5/Frameworks/Python.framework/Versions/3.11/lib/python3.11/ast.py\", line 426, in generic_visit\n",
      "    self.visit(item)\n",
      "  File \"/opt/homebrew/Cellar/python@3.11/3.11.5/Frameworks/Python.framework/Versions/3.11/lib/python3.11/ast.py\", line 418, in visit\n",
      "    return visitor(node)\n",
      "           ^^^^^^^^^^^^^\n",
      "  File \"/opt/homebrew/Cellar/python@3.11/3.11.5/Frameworks/Python.framework/Versions/3.11/lib/python3.11/ast.py\", line 428, in generic_visit\n",
      "    self.visit(value)\n",
      "  File \"/opt/homebrew/Cellar/python@3.11/3.11.5/Frameworks/Python.framework/Versions/3.11/lib/python3.11/ast.py\", line 418, in visit\n",
      "    return visitor(node)\n",
      "           ^^^^^^^^^^^^^\n",
      "  File \"/opt/homebrew/Cellar/python@3.11/3.11.5/Frameworks/Python.framework/Versions/3.11/lib/python3.11/ast.py\", line 428, in generic_visit\n",
      "    self.visit(value)\n",
      "  File \"/opt/homebrew/Cellar/python@3.11/3.11.5/Frameworks/Python.framework/Versions/3.11/lib/python3.11/ast.py\", line 417, in visit\n",
      "    visitor = getattr(self, method, self.generic_visit)\n",
      "              ^^^^^^^^^^^^^^^^^^^^^^^^^^^^^^^^^^^^^^^^^\n",
      "  File \"/Users/marziolunghi/Documents/GitHub/Multi_rate_vae_gdl/venv/lib/python3.11/site-packages/torch/utils/data/_utils/signal_handling.py\", line 66, in handler\n",
      "    _error_if_any_worker_fails()\n",
      "RuntimeError: DataLoader worker (pid 22309) is killed by signal: Interrupt: 2. \n"
     ]
    }
   ],
   "source": [
    "import torch\n",
    "import numpy as np\n",
    "torch.manual_seed(1)\n",
    "np.random.seed(1)\n",
    "trainer = LinearTrainer(loaders, use_multi_rate=True, lr=best_lr)\n",
    "trainer.train()\n"
   ]
  },
  {
   "cell_type": "code",
   "execution_count": 14,
   "id": "b3d2eeb81ad40d47",
   "metadata": {
    "collapsed": false,
    "ExecuteTime": {
     "end_time": "2023-11-19T18:44:46.481927Z",
     "start_time": "2023-11-19T18:44:46.475861Z"
    }
   },
   "outputs": [],
   "source": [
    "betas = np.linspace(start=np.log(0.01), stop=np.log(10.), num=30)"
   ]
  },
  {
   "cell_type": "code",
   "execution_count": 15,
   "id": "4330d40d3d4ce22f",
   "metadata": {
    "collapsed": false,
    "ExecuteTime": {
     "end_time": "2023-11-19T18:45:30.755482Z",
     "start_time": "2023-11-19T18:44:47.064249Z"
    }
   },
   "outputs": [],
   "source": [
    "rate_mr_vae = []\n",
    "distortion_mr_vae = []\n",
    "for b in np.linspace(start=np.log(0.01), stop=np.log(10.), num=30):\n",
    "    _, (rate_losses, dist_losses) = trainer.rate_distortion_curve_value(beta_in=b, beta_loss=1.)\n",
    "    rate_mr_vae.append(rate_losses)\n",
    "    distortion_mr_vae.append(dist_losses)"
   ]
  },
  {
   "cell_type": "code",
   "execution_count": 18,
   "id": "458d21e2a411a9bc",
   "metadata": {
    "ExecuteTime": {
     "end_time": "2023-11-19T18:45:53.872118Z",
     "start_time": "2023-11-19T18:45:53.702665Z"
    }
   },
   "outputs": [
    {
     "data": {
      "text/plain": "<Figure size 1000x1000 with 1 Axes>",
      "image/png": "[encoded data removed]"
     },
     "metadata": {},
     "output_type": "display_data"
    }
   ],
   "source": [
    "import matplotlib.pyplot as plt\n",
    "# plot the rate distortion curve\n",
    "fig = plt.figure(figsize=(10, 10))\n",
    "for i in range(0, len(betas)):\n",
    "    beta = betas[i]\n",
    "    plt.plot(rate_mr_vae[i], distortion_mr_vae[i], 'o', label=f'beta={beta}')\n",
    "# plt.legend()\n",
    "plt.xlabel('Rate')\n",
    "plt.ylabel('Distortion')\n",
    "plt.title('Rate-Distortion Curve')\n",
    "try:\n",
    "    plt.savefig(f'experiment_1/mr_vae.pdf', bbox_inches =\"tight\")\n",
    "except:\n",
    "    print('warning saving pdf image')\n",
    "    pass\n",
    "plt.show()"
   ]
  },
  {
   "cell_type": "code",
   "execution_count": null,
   "id": "3acfbbd73f4e7c13",
   "metadata": {
    "collapsed": false
   },
   "outputs": [],
   "source": []
  }
 ],
 "metadata": {
  "kernelspec": {
   "display_name": "Python 3",
   "language": "python",
   "name": "python3"
  },
  "language_info": {
   "codemirror_mode": {
    "name": "ipython",
    "version": 3
   },
   "file_extension": ".py",
   "mimetype": "text/x-python",
   "name": "python",
   "nbconvert_exporter": "python",
   "pygments_lexer": "ipython3",
   "version": "3.10.12"
  }
 },
 "nbformat": 4,
 "nbformat_minor": 5
}
