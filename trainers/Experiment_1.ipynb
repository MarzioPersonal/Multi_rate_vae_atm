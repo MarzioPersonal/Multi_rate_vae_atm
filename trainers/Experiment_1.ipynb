{
 "cells": [
  {
   "cell_type": "code",
   "execution_count": null,
   "id": "a34b43c0751d50b",
   "metadata": {
    "ExecuteTime": {
     "end_time": "2023-11-18T15:09:43.866557Z",
     "start_time": "2023-11-18T15:09:42.396513Z"
    },
    "collapsed": false
   },
   "outputs": [],
   "source": [
    "from LinearTrainer import GridSearcher\n",
    "from LinearTrainer import LinearTrainer\n",
    "import torch\n",
    "if torch.cuda.is_available():\n",
    "    torch.set_float32_matmul_precision('high')"
   ]
  },
  {
   "cell_type": "code",
   "execution_count": null,
   "id": "2d0d48884bc381a4",
   "metadata": {
    "ExecuteTime": {
     "end_time": "2023-11-18T15:09:44.175924Z",
     "start_time": "2023-11-18T15:09:43.867358Z"
    },
    "collapsed": false
   },
   "outputs": [],
   "source": [
    "from datasets.utils_datasets import get_mnist_binary_static_loaders\n",
    "seed = 5\n",
    "loaders =  get_mnist_binary_static_loaders(seed=seed, batch_size_train=256)"
   ]
  },
  {
   "cell_type": "code",
   "execution_count": null,
   "id": "fc603e06f4813cb9",
   "metadata": {
    "ExecuteTime": {
     "end_time": "2023-11-18T15:09:44.865268Z",
     "start_time": "2023-11-18T15:09:44.860242Z"
    },
    "collapsed": false
   },
   "outputs": [],
   "source": [
    "gr = GridSearcher(loaders)"
   ]
  },
  {
   "cell_type": "code",
   "execution_count": null,
   "id": "44a0263ee8e4c843",
   "metadata": {
    "ExecuteTime": {
     "end_time": "2023-11-18T15:09:45.154516Z",
     "start_time": "2023-11-18T15:09:45.140507Z"
    },
    "collapsed": false
   },
   "outputs": [],
   "source": [
    "path = 'experiment_1'"
   ]
  },
  {
   "cell_type": "code",
   "execution_count": null,
   "id": "79f16eb5246d1eb0",
   "metadata": {
    "ExecuteTime": {
     "end_time": "2023-11-17T14:47:08.670469Z",
     "start_time": "2023-11-17T14:46:20.185962Z"
    },
    "collapsed": false
   },
   "outputs": [],
   "source": [
    "gr.conduct_experiment(path=path, do_only_mrvae=True)"
   ]
  },
  {
   "cell_type": "code",
   "execution_count": null,
   "id": "ac9bdb8043f0d557",
   "metadata": {
    "ExecuteTime": {
     "end_time": "2023-11-18T15:09:46.167546Z",
     "start_time": "2023-11-18T15:09:46.163540Z"
    },
    "collapsed": false
   },
   "outputs": [],
   "source": [
    "betas = gr.betas"
   ]
  },
  {
   "cell_type": "code",
   "execution_count": null,
   "id": "52c0915158bfd6b6",
   "metadata": {
    "ExecuteTime": {
     "end_time": "2023-11-18T15:09:46.459731Z",
     "start_time": "2023-11-18T15:09:46.455173Z"
    },
    "collapsed": false
   },
   "outputs": [],
   "source": [
    "import pandas as pd"
   ]
  },
  {
   "cell_type": "markdown",
   "id": "3a0dd5c5e4c42145",
   "metadata": {
    "collapsed": false
   },
   "source": [
    "# BETA"
   ]
  },
  {
   "cell_type": "code",
   "execution_count": null,
   "id": "b4d561e905e9163d",
   "metadata": {
    "ExecuteTime": {
     "end_time": "2023-11-17T16:06:17.212319Z",
     "start_time": "2023-11-17T16:06:17.206989Z"
    },
    "collapsed": false
   },
   "outputs": [],
   "source": [
    "df_beta_vae : pd.DataFrame = pd.read_csv(f'{path}/beta_vae.csv', index_col=0)"
   ]
  },
  {
   "cell_type": "code",
   "execution_count": null,
   "id": "45c66038f591f079",
   "metadata": {
    "ExecuteTime": {
     "end_time": "2023-11-17T16:06:21.103929Z",
     "start_time": "2023-11-17T16:06:21.095282Z"
    },
    "collapsed": false
   },
   "outputs": [],
   "source": [
    "df_beta_vae = df_beta_vae.reset_index(drop=True)\n",
    "df_beta_vae.head()"
   ]
  },
  {
   "cell_type": "code",
   "execution_count": null,
   "id": "6898581ebd387584",
   "metadata": {
    "ExecuteTime": {
     "end_time": "2023-11-17T16:33:18.565239Z",
     "start_time": "2023-11-17T16:33:18.559421Z"
    },
    "collapsed": false
   },
   "outputs": [],
   "source": [
    "# select the best for beta \n",
    "df_beta_vae_sorted = []\n",
    "for name, group in df_beta_vae.groupby('beta'):\n",
    "    lr = group.sort_values(by='mean_loss').reset_index().at[0, 'lr']\n",
    "    df_beta_vae_sorted.append({'beta': name, 'lr': lr})\n",
    "    print(f'beta={name}, lr={lr}')\n",
    "df_beta_vae_sorted = pd.DataFrame(df_beta_vae_sorted)"
   ]
  },
  {
   "cell_type": "code",
   "execution_count": null,
   "id": "3cf84080fa3f760e",
   "metadata": {
    "ExecuteTime": {
     "end_time": "2023-11-17T16:34:33.911093Z",
     "start_time": "2023-11-17T16:34:33.906677Z"
    },
    "collapsed": false
   },
   "outputs": [],
   "source": [
    "import torch\n",
    "import numpy as np\n",
    "torch.manual_seed(1)\n",
    "np.random.seed(1)\n",
    "rate_beta_vae = []\n",
    "distortion_beta_vae = []\n",
    "for i in range(0, len(df_beta_vae_sorted)):\n",
    "    beta = df_beta_vae_sorted.at[i, 'beta']\n",
    "    lr = df_beta_vae_sorted.at[i, 'lr']\n",
    "    print(f'best learning rate for beta: {beta} is lr: {lr}\\n')\n",
    "    trainer = LinearTrainer(loaders, use_multi_rate=False, beta=beta, lr=lr)\n",
    "    trainer.train()\n",
    "    _, (rate_losses, dist_losses) = trainer.rate_distortion_curve_value(beta, beta)\n",
    "    rate_beta_vae.append(rate_losses)\n",
    "    distortion_beta_vae.append(dist_losses)\n"
   ]
  },
  {
   "cell_type": "code",
   "execution_count": null,
   "id": "fadd153e67169bf3",
   "metadata": {
    "collapsed": false
   },
   "outputs": [],
   "source": [
    "import matplotlib.pyplot as plt\n",
    "# plot the rate distortion curve\n",
    "fig = plt.figure(figsize=(10, 10))\n",
    "for i in range(0, len(df_beta_vae_sorted)):\n",
    "    beta = df_beta_vae_sorted.at[i, 'beta']\n",
    "    plt.plot(rate_beta_vae[i], distortion_beta_vae[i], 'o', label=f'beta={beta}')\n",
    "plt.legend()\n",
    "plt.xlabel('Rate')\n",
    "plt.ylabel('Distortion')\n",
    "plt.title('Rate-Distortion Curve')\n",
    "try:\n",
    "    plt.savefig(f'experiment_1/b_vae.pdf', bbox_inches =\"tight\")\n",
    "except:\n",
    "    pass\n",
    "plt.show()\n"
   ]
  },
  {
   "cell_type": "markdown",
   "id": "1780f7b21f87af7",
   "metadata": {
    "collapsed": false
   },
   "source": [
    "# MULTI-RATE VAE"
   ]
  },
  {
   "cell_type": "code",
   "execution_count": 7,
   "id": "8f4c66b543e0445a",
   "metadata": {
    "ExecuteTime": {
     "end_time": "2023-11-18T15:09:49.786750Z",
     "start_time": "2023-11-18T15:09:49.779125Z"
    },
    "collapsed": false
   },
   "outputs": [],
   "source": [
    "df_multi_rate : pd.DataFrame = pd.read_csv(f'{path}/mr_vae.csv', index_col=0)\n",
    "df_multi_rate = df_multi_rate.reset_index(drop=True)"
   ]
  },
  {
   "cell_type": "code",
   "execution_count": 8,
   "id": "74a8474738678eb5",
   "metadata": {
    "ExecuteTime": {
     "end_time": "2023-11-18T15:09:50.284312Z",
     "start_time": "2023-11-18T15:09:50.280123Z"
    },
    "collapsed": false
   },
   "outputs": [
    {
     "data": {
      "text/html": [
       "<div>\n",
       "<style scoped>\n",
       "    .dataframe tbody tr th:only-of-type {\n",
       "        vertical-align: middle;\n",
       "    }\n",
       "\n",
       "    .dataframe tbody tr th {\n",
       "        vertical-align: top;\n",
       "    }\n",
       "\n",
       "    .dataframe thead th {\n",
       "        text-align: right;\n",
       "    }\n",
       "</style>\n",
       "<table border=\"1\" class=\"dataframe\">\n",
       "  <thead>\n",
       "    <tr style=\"text-align: right;\">\n",
       "      <th></th>\n",
       "      <th>use_multi_rate</th>\n",
       "      <th>mean_loss</th>\n",
       "      <th>beta</th>\n",
       "      <th>lr</th>\n",
       "    </tr>\n",
       "  </thead>\n",
       "  <tbody>\n",
       "    <tr>\n",
       "      <th>0</th>\n",
       "      <td>True</td>\n",
       "      <td>0.320748</td>\n",
       "      <td>1.0</td>\n",
       "      <td>0.0100</td>\n",
       "    </tr>\n",
       "    <tr>\n",
       "      <th>1</th>\n",
       "      <td>True</td>\n",
       "      <td>0.320752</td>\n",
       "      <td>1.0</td>\n",
       "      <td>0.0030</td>\n",
       "    </tr>\n",
       "    <tr>\n",
       "      <th>2</th>\n",
       "      <td>True</td>\n",
       "      <td>0.320781</td>\n",
       "      <td>1.0</td>\n",
       "      <td>0.0010</td>\n",
       "    </tr>\n",
       "    <tr>\n",
       "      <th>3</th>\n",
       "      <td>True</td>\n",
       "      <td>0.321321</td>\n",
       "      <td>1.0</td>\n",
       "      <td>0.0003</td>\n",
       "    </tr>\n",
       "    <tr>\n",
       "      <th>4</th>\n",
       "      <td>True</td>\n",
       "      <td>0.343021</td>\n",
       "      <td>1.0</td>\n",
       "      <td>0.0001</td>\n",
       "    </tr>\n",
       "  </tbody>\n",
       "</table>\n",
       "</div>"
      ],
      "text/plain": [
       "   use_multi_rate  mean_loss  beta      lr\n",
       "0            True   0.320748   1.0  0.0100\n",
       "1            True   0.320752   1.0  0.0030\n",
       "2            True   0.320781   1.0  0.0010\n",
       "3            True   0.321321   1.0  0.0003\n",
       "4            True   0.343021   1.0  0.0001"
      ]
     },
     "execution_count": 8,
     "metadata": {},
     "output_type": "execute_result"
    }
   ],
   "source": [
    "df_multi_rate.head()"
   ]
  },
  {
   "cell_type": "code",
   "execution_count": 9,
   "id": "d30070ba538ef177",
   "metadata": {
    "ExecuteTime": {
     "end_time": "2023-11-18T15:09:52.430868Z",
     "start_time": "2023-11-18T15:09:52.423117Z"
    },
    "collapsed": false
   },
   "outputs": [
    {
     "name": "stdout",
     "output_type": "stream",
     "text": [
      "best lr for multi-rate vae  is 0.01\n"
     ]
    }
   ],
   "source": [
    "best_lr = df_multi_rate.sort_values(by=['mean_loss']).reset_index().at[0, 'lr']\n",
    "print(f'best lr for multi-rate vae  is {best_lr}')"
   ]
  },
  {
   "cell_type": "code",
   "execution_count": 10,
   "id": "41642d3284a4cf10",
   "metadata": {
    "ExecuteTime": {
     "end_time": "2023-11-18T15:09:53.869917Z",
     "start_time": "2023-11-18T15:09:53.855310Z"
    }
   },
   "outputs": [
    {
     "data": {
      "text/plain": [
       "array([-4.60517019, -3.83764182, -3.07011346, -2.30258509, -1.53505673,\n",
       "       -0.76752836,  0.        ,  0.76752836,  1.53505673,  2.30258509])"
      ]
     },
     "execution_count": 10,
     "metadata": {},
     "output_type": "execute_result"
    }
   ],
   "source": [
    "betas"
   ]
  },
  {
   "cell_type": "code",
   "execution_count": 11,
   "id": "5c273f221ba8ef2c",
   "metadata": {
    "ExecuteTime": {
     "end_time": "2023-11-18T15:22:13.272962Z",
     "start_time": "2023-11-18T15:09:57.390538Z"
    },
    "collapsed": false
   },
   "outputs": [
    {
     "data": {
      "application/vnd.jupyter.widget-view+json": {
       "model_id": "c601ffae6b31442e8d0a824b295222dd",
       "version_major": 2,
       "version_minor": 0
      },
      "text/plain": [
       "  0%|          | 0/200 [00:00<?, ?it/s]"
      ]
     },
     "metadata": {},
     "output_type": "display_data"
    }
   ],
   "source": [
    "import torch\n",
    "import numpy as np\n",
    "torch.manual_seed(1)\n",
    "np.random.seed(1)\n",
    "trainer = LinearTrainer(loaders, use_multi_rate=True, lr=best_lr)\n",
    "trainer.train()\n"
   ]
  },
  {
   "cell_type": "code",
   "execution_count": 12,
   "id": "b3d2eeb81ad40d47",
   "metadata": {
    "ExecuteTime": {
     "end_time": "2023-11-18T15:36:19.222437Z",
     "start_time": "2023-11-18T15:36:19.211067Z"
    },
    "collapsed": false
   },
   "outputs": [],
   "source": [
    "betas = np.linspace(start=np.log(0.01), stop=np.log(10.), num=30)"
   ]
  },
  {
   "cell_type": "code",
   "execution_count": 13,
   "id": "4330d40d3d4ce22f",
   "metadata": {
    "ExecuteTime": {
     "end_time": "2023-11-18T15:35:16.571731Z",
     "start_time": "2023-11-18T15:34:04.209444Z"
    },
    "collapsed": false
   },
   "outputs": [],
   "source": [
    "rate_mr_vae = []\n",
    "distortion_mr_vae = []\n",
    "for b in np.linspace(start=np.log(0.01), stop=np.log(10.), num=30):\n",
    "    _, (rate_losses, dist_losses) = trainer.rate_distortion_curve_value(beta_in=b, beta_loss=1.)\n",
    "    rate_mr_vae.append(rate_losses)\n",
    "    distortion_mr_vae.append(dist_losses)"
   ]
  },
  {
   "cell_type": "code",
   "execution_count": 14,
   "id": "458d21e2a411a9bc",
   "metadata": {
    "ExecuteTime": {
     "end_time": "2023-11-18T15:59:20.797690Z",
     "start_time": "2023-11-18T15:59:20.634515Z"
    }
   },
   "outputs": [
    {
     "data": {
      "image/png": "[encoded data removed]",
      "text/plain": [
       "<Figure size 1000x1000 with 1 Axes>"
      ]
     },
     "metadata": {},
     "output_type": "display_data"
    }
   ],
   "source": [
    "import matplotlib.pyplot as plt\n",
    "# plot the rate distortion curve\n",
    "fig = plt.figure(figsize=(10, 10))\n",
    "for i in range(0, len(betas)):\n",
    "    beta = betas[i]\n",
    "    plt.plot(rate_mr_vae[i], distortion_mr_vae[i], 'o', label=f'beta={beta}')\n",
    "# plt.legend()\n",
    "plt.xlabel('Rate')\n",
    "plt.ylabel('Distortion')\n",
    "plt.title('Rate-Distortion Curve')\n",
    "try:\n",
    "    plt.savefig(f'experiment_1/mr_vae.pdf', bbox_inches =\"tight\")\n",
    "except:\n",
    "    print('warning saving pdf image')\n",
    "    pass\n",
    "plt.show()"
   ]
  },
  {
   "cell_type": "code",
   "execution_count": null,
   "id": "3acfbbd73f4e7c13",
   "metadata": {
    "collapsed": false
   },
   "outputs": [],
   "source": []
  }
 ],
 "metadata": {
  "kernelspec": {
   "display_name": "Python 3",
   "language": "python",
   "name": "python3"
  },
  "language_info": {
   "codemirror_mode": {
    "name": "ipython",
    "version": 3
   },
   "file_extension": ".py",
   "mimetype": "text/x-python",
   "name": "python",
   "nbconvert_exporter": "python",
   "pygments_lexer": "ipython3",
   "version": "3.10.12"
  }
 },
 "nbformat": 4,
 "nbformat_minor": 5
}
