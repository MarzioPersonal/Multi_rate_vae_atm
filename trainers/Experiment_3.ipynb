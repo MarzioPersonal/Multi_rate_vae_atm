{
 "cells": [
  {
   "cell_type": "code",
   "execution_count": 1,
   "id": "initial_id",
   "metadata": {
    "ExecuteTime": {
     "end_time": "2023-11-19T16:10:20.548066Z",
     "start_time": "2023-11-19T16:10:18.933166Z"
    },
    "collapsed": true
   },
   "outputs": [
    {
     "name": "stderr",
     "output_type": "stream",
     "text": [
      "c:\\Users\\Volodymyr\\AppData\\Local\\Programs\\Python\\Python310\\lib\\site-packages\\numpy\\_distributor_init.py:30: UserWarning: loaded more than 1 DLL from .libs:\n",
      "c:\\Users\\Volodymyr\\AppData\\Local\\Programs\\Python\\Python310\\lib\\site-packages\\numpy\\.libs\\libopenblas64__v0.3.21-gcc_10_3_0.dll\n",
      "c:\\Users\\Volodymyr\\AppData\\Local\\Programs\\Python\\Python310\\lib\\site-packages\\numpy\\.libs\\libopenblas64__v0.3.23-246-g3d31191b-gcc_10_3_0.dll\n",
      "  warnings.warn(\"loaded more than 1 DLL from .libs:\"\n"
     ]
    }
   ],
   "source": [
    "from trainers.ResNetTrainer import ExperimentThree\n",
    "from trainers.ResNetTrainer import ResNetTrainer\n",
    "import numpy as np\n",
    "import pandas as pd\n",
    "import torch \n",
    "import matplotlib.pyplot as plt\n",
    "if torch.cuda.is_available():\n",
    "    torch.set_float32_matmul_precision('high')"
   ]
  },
  {
   "cell_type": "code",
   "execution_count": 2,
   "id": "9c277ae5f23ebf3f",
   "metadata": {
    "ExecuteTime": {
     "end_time": "2023-11-19T16:10:20.903660Z",
     "start_time": "2023-11-19T16:10:20.545600Z"
    },
    "collapsed": false
   },
   "outputs": [],
   "source": [
    "from datasets.utils_datasets import get_mnist_binary_static_loaders\n",
    "seed = 5\n",
    "loaders =  get_mnist_binary_static_loaders(seed=seed, batch_size_train=256)"
   ]
  },
  {
   "cell_type": "code",
   "execution_count": 3,
   "metadata": {},
   "outputs": [
    {
     "data": {
      "text/plain": [
       "<matplotlib.image.AxesImage at 0x2c1e6bb2560>"
      ]
     },
     "execution_count": 3,
     "metadata": {},
     "output_type": "execute_result"
    },
    {
     "data": {
      "image/png": "[encoded data removed]",
      "text/plain": [
       "<Figure size 640x480 with 1 Axes>"
      ]
     },
     "metadata": {},
     "output_type": "display_data"
    }
   ],
   "source": [
    "import matplotlib.pyplot as plt\n",
    "plt.imshow(loaders[0].dataset.__getitem__(128)[0].cpu().numpy()[0])"
   ]
  },
  {
   "cell_type": "code",
   "execution_count": 4,
   "metadata": {},
   "outputs": [],
   "source": [
    "import os\n",
    "os.environ['CUDA_LAUNCH_BLOCKING'] = '0'"
   ]
  },
  {
   "cell_type": "markdown",
   "id": "650e11ba113ff6bc",
   "metadata": {
    "collapsed": false
   },
   "source": [
    "# MNIST"
   ]
  },
  {
   "cell_type": "code",
   "execution_count": 5,
   "id": "72bce455fdd50b02",
   "metadata": {
    "ExecuteTime": {
     "end_time": "2023-11-19T16:10:20.992500Z",
     "start_time": "2023-11-19T16:10:20.991445Z"
    },
    "collapsed": false
   },
   "outputs": [],
   "source": [
    "path = 'experiment_3/mnist'"
   ]
  },
  {
   "cell_type": "code",
   "execution_count": 6,
   "id": "10e0cb16021d2ec8",
   "metadata": {
    "ExecuteTime": {
     "end_time": "2023-11-19T16:10:21.457284Z",
     "start_time": "2023-11-19T16:10:21.452237Z"
    },
    "collapsed": false
   },
   "outputs": [],
   "source": [
    "gr = ExperimentThree()"
   ]
  },
  {
   "cell_type": "code",
   "execution_count": 7,
   "id": "3471c90bd8db6675",
   "metadata": {
    "ExecuteTime": {
     "start_time": "2023-11-19T16:10:21.857379Z"
    },
    "collapsed": false,
    "is_executing": true
   },
   "outputs": [
    {
     "name": "stdout",
     "output_type": "stream",
     "text": [
      "Using device: cuda\n"
     ]
    },
    {
     "data": {
      "application/vnd.jupyter.widget-view+json": {
       "model_id": "ea0cbfdcc8ea4da786f8c1f218d3a895",
       "version_major": 2,
       "version_minor": 0
      },
      "text/plain": [
       "  0%|          | 0/200 [00:00<?, ?it/s]"
      ]
     },
     "metadata": {},
     "output_type": "display_data"
    },
    {
     "data": {
      "application/vnd.jupyter.widget-view+json": {
       "model_id": "320a75c62c52404dbf0c10cd4cac13f1",
       "version_major": 2,
       "version_minor": 0
      },
      "text/plain": [
       "  0%|          | 0/200 [00:00<?, ?it/s]"
      ]
     },
     "metadata": {},
     "output_type": "display_data"
    }
   ],
   "source": [
    "gr.conduct_experiment(loaders, path=path)"
   ]
  },
  {
   "cell_type": "markdown",
   "id": "238b12047fb31913",
   "metadata": {
    "collapsed": false
   },
   "source": [
    "## FIXED ALPHA"
   ]
  },
  {
   "cell_type": "code",
   "execution_count": null,
   "id": "bff1ebaad1e67ba5",
   "metadata": {
    "ExecuteTime": {
     "end_time": "2023-11-19T16:07:56.990530Z",
     "start_time": "2023-11-19T16:07:56.989641Z"
    },
    "collapsed": false
   },
   "outputs": [],
   "source": [
    "df = pd.read_csv(f'{path}/fixed_alpha.csv')\n",
    "fixed_alpha = 0.01"
   ]
  },
  {
   "cell_type": "code",
   "execution_count": null,
   "id": "cdd0c5ec8c920e00",
   "metadata": {
    "ExecuteTime": {
     "end_time": "2023-11-19T16:07:56.991071Z",
     "start_time": "2023-11-19T16:07:56.990955Z"
    },
    "collapsed": false
   },
   "outputs": [],
   "source": [
    "groups = df.groupby(['b'])\n",
    "best_lrs = []\n",
    "b_values = []\n",
    "for name, group in groups:\n",
    "    lr = group.sort_values(by=['mean_loss']).reset_index().at[0, 'lr']\n",
    "    best_lrs.append(lr)\n",
    "    b_values.append(name)\n",
    "assert len(best_lrs) == len(b_values), f'something wrong with selection of best learning rate'\n",
    "for i in range(0, len(b_values)):\n",
    "    b = b_values[i]\n",
    "    lr = best_lrs[i]\n",
    "    print(f' best learning rate for beta: {b} is lr: {lr}')"
   ]
  },
  {
   "cell_type": "code",
   "execution_count": null,
   "id": "f88f5ed0b24bf641",
   "metadata": {
    "ExecuteTime": {
     "start_time": "2023-11-19T16:07:56.992313Z"
    },
    "collapsed": false
   },
   "outputs": [],
   "source": [
    "fig = plt.figure(figsize=(10, 10))\n",
    "for lr, b in zip(best_lrs, b_values):\n",
    "    trainer = ResNetTrainer(loaders, lr=lr, b=b, a=fixed_alpha)\n",
    "    trainer.train()\n",
    "    label = f'b = {b}'\n",
    "    for el in np.linspace(np.log(fixed_alpha), np.log(b), 30):\n",
    "        _, (rate_losses, dist_losses) = trainer.rate_distortion_curve_value(el, None)\n",
    "        plt.plot(rate_losses, dist_losses, label=label)\n",
    "\n",
    "plt.legend()\n",
    "plt.xlabel('Rate')\n",
    "plt.ylabel('Distortion')\n",
    "plt.title('Rate-Distortion Curve')\n",
    "try:\n",
    "    plt.savefig(f'{path}/rate_distortion_curve_fixed_beta.pdf')\n",
    "except:\n",
    "    print('could not save figure')\n",
    "    pass\n",
    "plt.show()"
   ]
  },
  {
   "cell_type": "markdown",
   "id": "86853bd5d4ec566b",
   "metadata": {
    "collapsed": false
   },
   "source": [
    "## FIXED BETA"
   ]
  },
  {
   "cell_type": "code",
   "execution_count": null,
   "id": "7d21f5e8177311f7",
   "metadata": {
    "ExecuteTime": {
     "start_time": "2023-11-19T16:07:56.993585Z"
    },
    "collapsed": false
   },
   "outputs": [],
   "source": [
    "df : pd.DataFrame= pd.read_csv(f'{path}/fixed_beta.csv')\n",
    "fixed_beta = 10."
   ]
  },
  {
   "cell_type": "code",
   "execution_count": null,
   "id": "d6e7cf11413950bb",
   "metadata": {
    "ExecuteTime": {
     "start_time": "2023-11-19T16:07:56.994477Z"
    },
    "collapsed": false
   },
   "outputs": [],
   "source": [
    "groups = df.groupby(['a'])\n",
    "best_lrs = []\n",
    "a_values = []\n",
    "for name, group in groups:\n",
    "    lr = group.sort_values(by=['mean_loss']).reset_index().at[0, 'lr']\n",
    "    best_lrs.append(lr) \n",
    "    a_values.append(name)\n",
    "assert len(best_lrs) == len(a_values), f'something wrong with selection of best learning rate'\n",
    "for i in range(0, len(a_values)):\n",
    "    a = a_values[i]\n",
    "    lr = best_lrs[i]\n",
    "    print(f' best learning rate for a: {a} is lr: {lr}')"
   ]
  },
  {
   "cell_type": "code",
   "execution_count": null,
   "id": "9814221836b81c68",
   "metadata": {
    "ExecuteTime": {
     "start_time": "2023-11-19T16:07:56.995440Z"
    },
    "collapsed": false
   },
   "outputs": [],
   "source": [
    "fig = plt.figure(figsize=(10, 10))\n",
    "for lr, a in zip(best_lrs, a_values):\n",
    "    trainer = ResNetTrainer(loaders, lr=lr, b=fixed_beta, a=a)\n",
    "    trainer.train()\n",
    "    label = f'a = {a}'\n",
    "    for el in np.linspace(np.log(a), np.log(fixed_beta), 30):\n",
    "        _, (rate_losses, dist_losses) = trainer.rate_distortion_curve_value(el, None)\n",
    "        plt.plot(rate_losses, dist_losses, label=label)\n",
    "\n",
    "plt.legend()\n",
    "plt.xlabel('Rate')\n",
    "plt.ylabel('Distortion')\n",
    "plt.title('Rate-Distortion Curve')\n",
    "try:\n",
    "    plt.savefig(f'{path}/rate_distortion_curve_fixed_alpha.pdf')\n",
    "except:\n",
    "    print('could not save figure')\n",
    "    pass\n",
    "plt.show()"
   ]
  }
 ],
 "metadata": {
  "kernelspec": {
   "display_name": "Python 3",
   "language": "python",
   "name": "python3"
  },
  "language_info": {
   "codemirror_mode": {
    "name": "ipython",
    "version": 3
   },
   "file_extension": ".py",
   "mimetype": "text/x-python",
   "name": "python",
   "nbconvert_exporter": "python",
   "pygments_lexer": "ipython3",
   "version": "3.10.11"
  }
 },
 "nbformat": 4,
 "nbformat_minor": 5
}
