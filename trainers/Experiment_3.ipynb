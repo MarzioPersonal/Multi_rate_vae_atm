{
 "cells": [
  {
   "cell_type": "code",
   "execution_count": null,
   "id": "initial_id",
   "metadata": {
    "collapsed": true
   },
   "outputs": [],
   "source": [
    "from trainers.ResNetTrainer import ExperimentThree\n",
    "from trainers.ResNetTrainer import ResNetTrainer\n",
    "import numpy as np\n",
    "import pandas as pd\n",
    "import torch \n",
    "import matplotlib.pyplot as plt\n",
    "import seaborn as sns\n",
    "sns.set(style=\"whitegrid\")\n",
    "if torch.cuda.is_available():\n",
    "    torch.set_float32_matmul_precision('high')"
   ]
  },
  {
   "cell_type": "code",
   "execution_count": null,
   "id": "9c277ae5f23ebf3f",
   "metadata": {
    "collapsed": false
   },
   "outputs": [],
   "source": [
    "from datasets.utils_datasets import get_mnist_binary_static_loaders\n",
    "seed = 5\n",
    "loaders =  get_mnist_binary_static_loaders(seed=seed, batch_size_train=128)"
   ]
  },
  {
   "cell_type": "markdown",
   "id": "650e11ba113ff6bc",
   "metadata": {
    "collapsed": false
   },
   "source": [
    "# MNIST"
   ]
  },
  {
   "cell_type": "code",
   "execution_count": null,
   "id": "72bce455fdd50b02",
   "metadata": {
    "collapsed": false
   },
   "outputs": [],
   "source": [
    "path = 'experiment_3/mnist'"
   ]
  },
  {
   "cell_type": "code",
   "execution_count": null,
   "id": "10e0cb16021d2ec8",
   "metadata": {
    "collapsed": false
   },
   "outputs": [],
   "source": [
    "gr = ExperimentThree()"
   ]
  },
  {
   "cell_type": "code",
   "execution_count": null,
   "id": "3471c90bd8db6675",
   "metadata": {
    "collapsed": false,
    "is_executing": true
   },
   "outputs": [],
   "source": [
    "gr.conduct_experiment(loaders, path=path)"
   ]
  },
  {
   "cell_type": "markdown",
   "id": "238b12047fb31913",
   "metadata": {
    "collapsed": false
   },
   "source": [
    "## FIXED ALPHA"
   ]
  },
  {
   "cell_type": "code",
   "execution_count": null,
   "id": "bff1ebaad1e67ba5",
   "metadata": {
    "collapsed": false
   },
   "outputs": [],
   "source": [
    "df = pd.read_csv(f'{path}/fixed_alpha.csv')\n",
    "fixed_alpha = 0.01"
   ]
  },
  {
   "cell_type": "code",
   "execution_count": null,
   "id": "cdd0c5ec8c920e00",
   "metadata": {
    "collapsed": false
   },
   "outputs": [],
   "source": [
    "groups = df.groupby(['b'])\n",
    "best_lrs = []\n",
    "b_values = []\n",
    "for name, group in groups:\n",
    "    lr = group.sort_values(by=['mean_loss']).reset_index().at[0, 'lr']\n",
    "    best_lrs.append(lr)\n",
    "    b_values.append(name)\n",
    "assert len(best_lrs) == len(b_values), f'something wrong with selection of best learning rate'\n",
    "for i in range(0, len(b_values)):\n",
    "    b = b_values[i]\n",
    "    lr = best_lrs[i]\n",
    "    print(f' best learning rate for beta: {b} is lr: {lr}')"
   ]
  },
  {
   "cell_type": "code",
   "execution_count": null,
   "id": "f88f5ed0b24bf641",
   "metadata": {
    "collapsed": false
   },
   "outputs": [],
   "source": [
    "fig = plt.figure(figsize=(10, 10))\n",
    "for lr, b in zip(best_lrs, b_values):\n",
    "    trainer = ResNetTrainer(loaders, lr=lr, b=b, a=fixed_alpha)\n",
    "    trainer.train()\n",
    "    label = f'b = {b}'\n",
    "    for el in np.linspace(np.log(fixed_alpha), np.log(b), 30):\n",
    "        _, (rate_losses, dist_losses) = trainer.rate_distortion_curve_value(el, None)\n",
    "        plt.plot(rate_losses, dist_losses, label=label)\n",
    "\n",
    "plt.legend()\n",
    "plt.xlabel('Rate')\n",
    "plt.ylabel('Distortion')\n",
    "plt.title('Rate-Distortion Curve')\n",
    "try:\n",
    "    plt.savefig(f'{path}/rate_distortion_curve_fixed_beta.pdf')\n",
    "except:\n",
    "    print('could not save figure')\n",
    "    pass\n",
    "plt.show()"
   ]
  },
  {
   "cell_type": "markdown",
   "id": "86853bd5d4ec566b",
   "metadata": {
    "collapsed": false
   },
   "source": [
    "## FIXED BETA"
   ]
  },
  {
   "cell_type": "code",
   "execution_count": null,
   "id": "7d21f5e8177311f7",
   "metadata": {
    "collapsed": false
   },
   "outputs": [],
   "source": [
    "df : pd.DataFrame= pd.read_csv(f'{path}/fixed_beta.csv')\n",
    "fixed_beta = 10."
   ]
  },
  {
   "cell_type": "code",
   "execution_count": null,
   "id": "d6e7cf11413950bb",
   "metadata": {
    "collapsed": false
   },
   "outputs": [],
   "source": [
    "groups = df.groupby(['a'])\n",
    "best_lrs = []\n",
    "a_values = []\n",
    "for name, group in groups:\n",
    "    lr = group.sort_values(by=['mean_loss']).reset_index().at[0, 'lr']\n",
    "    best_lrs.append(lr) \n",
    "    a_values.append(name)\n",
    "assert len(best_lrs) == len(a_values), f'something wrong with selection of best learning rate'\n",
    "for i in range(0, len(a_values)):\n",
    "    a = a_values[i]\n",
    "    lr = best_lrs[i]\n",
    "    print(f' best learning rate for a: {a} is lr: {lr}')"
   ]
  },
  {
   "cell_type": "code",
   "execution_count": null,
   "id": "9814221836b81c68",
   "metadata": {
    "collapsed": false
   },
   "outputs": [],
   "source": [
    "fig = plt.figure(figsize=(10, 10))\n",
    "for lr, a in zip(best_lrs, a_values):\n",
    "    trainer = ResNetTrainer(loaders, lr=lr, b=fixed_beta, a=a)\n",
    "    trainer.train()\n",
    "    label = f'a = {a}'\n",
    "    for el in np.linspace(np.log(a), np.log(fixed_beta), 30):\n",
    "        _, (rate_losses, dist_losses) = trainer.rate_distortion_curve_value(el, None)\n",
    "        plt.plot(rate_losses, dist_losses, label=label)\n",
    "\n",
    "plt.legend()\n",
    "plt.xlabel('Rate')\n",
    "plt.ylabel('Distortion')\n",
    "plt.title('Rate-Distortion Curve')\n",
    "try:\n",
    "    plt.savefig(f'{path}/rate_distortion_curve_fixed_alpha.pdf')\n",
    "except:\n",
    "    print('could not save figure')\n",
    "    pass\n",
    "plt.show()"
   ]
  }
 ],
 "metadata": {
  "kernelspec": {
   "display_name": "Python 3",
   "language": "python",
   "name": "python3"
  },
  "language_info": {
   "codemirror_mode": {
    "name": "ipython",
    "version": 3
   },
   "file_extension": ".py",
   "mimetype": "text/x-python",
   "name": "python",
   "nbconvert_exporter": "python",
   "pygments_lexer": "ipython3",
   "version": "3.10.11"
  }
 },
 "nbformat": 4,
 "nbformat_minor": 5
}
