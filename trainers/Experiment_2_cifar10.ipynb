{
 "cells": [
  {
   "cell_type": "code",
   "execution_count": null,
   "id": "initial_id",
   "metadata": {
    "ExecuteTime": {
     "end_time": "2023-11-18T20:31:31.481008Z",
     "start_time": "2023-11-18T20:31:28.835878Z"
    },
    "collapsed": true
   },
   "outputs": [],
   "source": [
    "from CNNTrainer import GridSearcher, CNNTrainer\n",
    "import torch\n",
    "import pandas as pd\n",
    "import numpy as np\n",
    "if torch.cuda.is_available():\n",
    "    torch.set_float32_matmul_precision('high')"
   ]
  },
  {
   "cell_type": "code",
   "execution_count": null,
   "id": "3724072f5c56be05",
   "metadata": {
    "ExecuteTime": {
     "end_time": "2023-11-18T20:31:34.520645Z",
     "start_time": "2023-11-18T20:31:31.417597Z"
    },
    "collapsed": false
   },
   "outputs": [],
   "source": [
    "from datasets.utils_datasets import get_cifar_10_loaders\n",
    "seed = 5\n",
    "loaders = get_cifar_10_loaders(seed=seed, batch_size_train=128)"
   ]
  },
  {
   "cell_type": "markdown",
   "id": "e5d4a3631a27af89",
   "metadata": {
    "collapsed": false
   },
   "source": [
    "# RENSET"
   ]
  },
  {
   "cell_type": "code",
   "execution_count": null,
   "id": "12dc03ea46e31cd9",
   "metadata": {
    "ExecuteTime": {
     "end_time": "2023-11-18T20:32:55.532718Z",
     "start_time": "2023-11-18T20:32:55.528219Z"
    },
    "collapsed": false
   },
   "outputs": [],
   "source": [
    "gr_resnet = GridSearcher(loaders, resnet=True, is_cifar=True)"
   ]
  },
  {
   "cell_type": "code",
   "execution_count": null,
   "id": "d9190d5dd532fd5d",
   "metadata": {
    "ExecuteTime": {
     "end_time": "2023-11-18T20:32:56.886820Z",
     "start_time": "2023-11-18T20:32:56.880248Z"
    },
    "collapsed": false
   },
   "outputs": [],
   "source": [
    "path = 'experiment_2/cifar10'"
   ]
  },
  {
   "cell_type": "code",
   "execution_count": null,
   "id": "92f6091528c9ffa4",
   "metadata": {
    "ExecuteTime": {
     "end_time": "2023-11-18T20:36:00.419454Z",
     "start_time": "2023-11-18T20:32:57.471168Z"
    },
    "collapsed": false
   },
   "outputs": [],
   "source": [
    "gr_resnet.conduct_experiment(path=path, model='resnet')"
   ]
  },
  {
   "cell_type": "code",
   "execution_count": null,
   "id": "466b10f0fc96b168",
   "metadata": {
    "collapsed": false
   },
   "outputs": [],
   "source": [
    "betas = np.linspace(np.log(0.01), np.log(10.), 10)"
   ]
  },
  {
   "cell_type": "markdown",
   "id": "884aeeaa12970475",
   "metadata": {
    "collapsed": false
   },
   "source": [
    "## Beta"
   ]
  },
  {
   "cell_type": "code",
   "execution_count": null,
   "id": "cb97c90772128451",
   "metadata": {
    "collapsed": false
   },
   "outputs": [],
   "source": [
    "df_beta_vae: pd.DataFrame = pd.read_csv(f'{path}/resnet/beta_vae.csv', index_col=0)\n",
    "df_beta_vae = df_beta_vae.reset_index(drop=True)\n",
    "df_beta_vae.head()\n",
    "# select the best for beta \n",
    "df_beta_vae_sorted = []\n",
    "for name, group in df_beta_vae.groupby('beta'):\n",
    "    lr = group.sort_values(by='mean_loss').reset_index().at[0, 'lr']\n",
    "    df_beta_vae_sorted.append({'beta': name, 'lr': lr})\n",
    "    print(f'beta={name}, lr={lr}')\n",
    "df_beta_vae_sorted = pd.DataFrame(df_beta_vae_sorted)\n",
    "torch.manual_seed(1)\n",
    "np.random.seed(1)\n",
    "rate_beta_vae = []\n",
    "distortion_beta_vae = []\n",
    "for i in range(0, len(betas)):\n",
    "    beta = betas[i]\n",
    "    print(f'best learning rate for beta: {beta} is lr: {lr}\\n')\n",
    "    trainer = CNNTrainer(loaders, resnet=True, use_multi_rate=False, beta=beta, lr=lr, is_cifar=True)\n",
    "    trainer.train()\n",
    "    _, (rate_losses, dist_losses) = trainer.rate_distortion_curve_value(beta, beta)\n",
    "    rate_beta_vae.append(rate_losses)\n",
    "    distortion_beta_vae.append(dist_losses)\n",
    "\n",
    "import matplotlib.pyplot as plt\n",
    "\n",
    "# plot the rate distortion curve\n",
    "fig = plt.figure(figsize=(10, 10))\n",
    "for i in range(0, len(betas)):\n",
    "    beta = betas[i]\n",
    "    plt.plot(rate_beta_vae[i], distortion_beta_vae[i], 'o', label=f'beta={beta}')\n",
    "# plt.legend()\n",
    "plt.xlabel('Rate')\n",
    "plt.ylabel('Distortion')\n",
    "plt.title('Rate-Distortion Curve')\n",
    "try:\n",
    "    plt.savefig(f'{path}/resnet/b_vae.pdf', bbox_inches=\"tight\")\n",
    "except:\n",
    "    print('warning: unable to save at such location for beta resnet')\n",
    "    pass\n",
    "plt.show()"
   ]
  },
  {
   "cell_type": "markdown",
   "id": "3352bb366571b38f",
   "metadata": {
    "collapsed": false
   },
   "source": [
    "## Multi-rate"
   ]
  },
  {
   "cell_type": "code",
   "execution_count": null,
   "id": "251c80ce878d473f",
   "metadata": {
    "collapsed": false
   },
   "outputs": [],
   "source": [
    "df_multi_rate: pd.DataFrame = pd.read_csv(f'{path}/resnet/mr_vae.csv', index_col=0)\n",
    "df_multi_rate = df_multi_rate.reset_index(drop=True)\n",
    "df_multi_rate.head()\n",
    "best_lr = df_multi_rate.sort_values(by=['mean_loss']).reset_index().at[0, 'lr']\n",
    "print(f'best lr for multi-rate vae  is {best_lr}')\n",
    "torch.manual_seed(1)\n",
    "np.random.seed(1)\n",
    "trainer = CNNTrainer(loaders, resnet=True, use_multi_rate=True, lr=best_lr, is_cifar=True)\n",
    "trainer.train()\n",
    "\n",
    "rate_mr_vae = []\n",
    "distortion_mr_vae = []\n",
    "for b in np.linspace(start=np.log(0.01), stop=np.log(10.), num=30):\n",
    "    _, (rate_losses, dist_losses) = trainer.rate_distortion_curve_value(beta_in=b, beta_loss=1.)\n",
    "    rate_mr_vae.append(rate_losses)\n",
    "    distortion_mr_vae.append(dist_losses)\n",
    "import matplotlib.pyplot as plt\n",
    "\n",
    "# plot the rate distortion curve\n",
    "fig = plt.figure(figsize=(10, 10))\n",
    "for i,beta in enumerate(np.linspace(start=np.log(0.01), stop=np.log(10.), num=30)):\n",
    "    plt.plot(rate_mr_vae[i], distortion_mr_vae[i], 'o', label=f'beta={beta}')\n",
    "# plt.legend()\n",
    "plt.xlabel('Rate')\n",
    "plt.ylabel('Distortion')\n",
    "plt.title('Rate-Distortion Curve')\n",
    "try:\n",
    "    plt.savefig(f'{path}/resnet/mr_vae.pdf', bbox_inches=\"tight\")\n",
    "except:\n",
    "    print('unable to save the image for multi rate resnet')\n",
    "    pass\n",
    "plt.show()"
   ]
  },
  {
   "cell_type": "markdown",
   "id": "e61c6709c2a58ff3",
   "metadata": {
    "collapsed": false
   },
   "source": [
    "# ConvNet"
   ]
  },
  {
   "cell_type": "code",
   "execution_count": null,
   "id": "61956137932c27d2",
   "metadata": {
    "collapsed": false
   },
   "outputs": [],
   "source": [
    "ga_cnn = GridSearcher(loaders, resnet=False, is_cifar=True)"
   ]
  },
  {
   "cell_type": "code",
   "execution_count": null,
   "id": "efc51461a5afa6f1",
   "metadata": {
    "collapsed": false
   },
   "outputs": [],
   "source": [
    "ga_cnn.conduct_experiment(path=path, model='convnet')"
   ]
  },
  {
   "cell_type": "markdown",
   "id": "86abeee1adeef021",
   "metadata": {
    "collapsed": false
   },
   "source": [
    "## Beta"
   ]
  },
  {
   "cell_type": "code",
   "execution_count": null,
   "id": "3a04a0ef96c59568",
   "metadata": {
    "collapsed": false
   },
   "outputs": [],
   "source": [
    "df_beta_vae: pd.DataFrame = pd.read_csv(f'{path}/convnet/beta_vae.csv', index_col=0)\n",
    "df_beta_vae = df_beta_vae.reset_index(drop=True)\n",
    "df_beta_vae.head()\n",
    "# select the best for beta \n",
    "df_beta_vae_sorted = []\n",
    "for name, group in df_beta_vae.groupby('beta'):\n",
    "    lr = group.sort_values(by='mean_loss').reset_index().at[0, 'lr']\n",
    "    df_beta_vae_sorted.append({'beta': name, 'lr': lr})\n",
    "    print(f'beta={name}, lr={lr}')\n",
    "df_beta_vae_sorted = pd.DataFrame(df_beta_vae_sorted)\n",
    "torch.manual_seed(1)\n",
    "np.random.seed(1)\n",
    "rate_beta_vae = []\n",
    "distortion_beta_vae = []\n",
    "for i in range(0, len(betas)):\n",
    "    beta = betas[i]\n",
    "    print(f'best learning rate for beta: {beta} is lr: {lr}\\n')\n",
    "    trainer = CNNTrainer(loaders, resnet=False, use_multi_rate=False, beta=beta, lr=lr, is_cifar=True)\n",
    "    trainer.train()\n",
    "    _, (rate_losses, dist_losses) = trainer.rate_distortion_curve_value(beta, beta)\n",
    "    rate_beta_vae.append(rate_losses)\n",
    "    distortion_beta_vae.append(dist_losses)\n",
    "\n",
    "import matplotlib.pyplot as plt\n",
    "\n",
    "# plot the rate distortion curve\n",
    "fig = plt.figure(figsize=(10, 10))\n",
    "for i in range(0, len(betas)):\n",
    "    beta = betas[i]\n",
    "    plt.plot(rate_beta_vae[i], distortion_beta_vae[i], 'o', label=f'beta={beta}')\n",
    "# plt.legend()\n",
    "plt.xlabel('Rate')\n",
    "plt.ylabel('Distortion')\n",
    "plt.title('Rate-Distortion Curve')\n",
    "try:\n",
    "    plt.savefig(f'{path}/convnet/b_vae.pdf', bbox_inches=\"tight\")\n",
    "except:\n",
    "    print('warning: unable to save at such location for beta convnet')\n",
    "    pass\n",
    "plt.show()"
   ]
  },
  {
   "cell_type": "markdown",
   "id": "d5d2419f61ab0882",
   "metadata": {
    "collapsed": false
   },
   "source": [
    "## Multi-rate"
   ]
  },
  {
   "cell_type": "code",
   "execution_count": null,
   "id": "80ff8aa827d126b7",
   "metadata": {
    "collapsed": false
   },
   "outputs": [],
   "source": [
    "df_multi_rate: pd.DataFrame = pd.read_csv(f'{path}/convnet/mr_vae.csv', index_col=0)\n",
    "df_multi_rate = df_multi_rate.reset_index(drop=True)\n",
    "df_multi_rate.head()\n",
    "best_lr = df_multi_rate.sort_values(by=['mean_loss']).reset_index().at[0, 'lr']\n",
    "print(f'best lr for multi-rate vae  is {best_lr}')\n",
    "torch.manual_seed(1)\n",
    "np.random.seed(1)\n",
    "trainer = CNNTrainer(loaders, resnet=False, use_multi_rate=True, lr=best_lr, is_cifar=True)\n",
    "trainer.train()\n",
    "\n",
    "rate_mr_vae = []\n",
    "distortion_mr_vae = []\n",
    "for b in np.linspace(start=np.log(0.01), stop=np.log(10.), num=30):\n",
    "    _, (rate_losses, dist_losses) = trainer.rate_distortion_curve_value(beta_in=b, beta_loss=1.)\n",
    "    rate_mr_vae.append(rate_losses)\n",
    "    distortion_mr_vae.append(dist_losses)\n",
    "import matplotlib.pyplot as plt\n",
    "\n",
    "# plot the rate distortion curve\n",
    "fig = plt.figure(figsize=(10, 10))\n",
    "for i,beta in enumerate(np.linspace(start=np.log(0.01), stop=np.log(10.), num=30)):\n",
    "    plt.plot(rate_mr_vae[i], distortion_mr_vae[i], 'o', label=f'beta={beta}')\n",
    "# plt.legend()\n",
    "plt.xlabel('Rate')\n",
    "plt.ylabel('Distortion')\n",
    "plt.title('Rate-Distortion Curve')\n",
    "try:\n",
    "    plt.savefig(f'{path}/convnet/mr_vae.pdf', bbox_inches=\"tight\")\n",
    "except:\n",
    "    print('unable to save the image for multi rate convnet')\n",
    "    pass\n",
    "plt.show()"
   ]
  },
  {
   "cell_type": "code",
   "execution_count": null,
   "id": "24c0f3f7b4cc1722",
   "metadata": {},
   "outputs": [],
   "source": []
  }
 ],
 "metadata": {
  "kernelspec": {
   "display_name": "Python 3",
   "language": "python",
   "name": "python3"
  },
  "language_info": {
   "codemirror_mode": {
    "name": "ipython",
    "version": 3
   },
   "file_extension": ".py",
   "mimetype": "text/x-python",
   "name": "python",
   "nbconvert_exporter": "python",
   "pygments_lexer": "ipython3",
   "version": "3.10.12"
  }
 },
 "nbformat": 4,
 "nbformat_minor": 5
}
