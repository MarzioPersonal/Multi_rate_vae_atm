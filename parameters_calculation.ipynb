{
 "cells": [
  {
   "cell_type": "code",
   "execution_count": 1,
   "metadata": {},
   "outputs": [],
   "source": [
    "def count_parameters(model, name=\"\"):\n",
    "    total_params = sum(p.numel() for p in model.parameters() if p.requires_grad)\n",
    "    print(f\"Total Trainable Params {name}: {total_params}\")\n",
    "    return total_params"
   ]
  },
  {
   "cell_type": "code",
   "execution_count": 2,
   "metadata": {},
   "outputs": [],
   "source": [
    "from models.cnn_vae import CnnVae\n",
    "from models.linearVae import LinearVae\n",
    "from models.resnet_vae import ResNetVae"
   ]
  },
  {
   "cell_type": "code",
   "execution_count": 3,
   "metadata": {},
   "outputs": [],
   "source": [
    "model_linear = LinearVae()\n",
    "model_cnn_mnist = CnnVae(1, 64)\n",
    "model_cnn_cifar = CnnVae(3, 64, is_cifar=True)\n",
    "model_cnn_celeba = CnnVae(3, 64, is_celeba=True)\n",
    "model_resnet_mnist = ResNetVae(64)\n",
    "model_resnet_cifar = ResNetVae(64, is_cifar=True)\n",
    "model_resnet_celeba = ResNetVae(64, is_celeba=True)\n",
    "\n",
    "model_linear_mr = LinearVae(use_multi_rate=True)\n",
    "model_cnn_mr_mnist = CnnVae(1, 64,use_multi_rate=True)\n",
    "model_cnn_mr_cifar = CnnVae(3, 64,use_multi_rate=True, is_cifar=True)\n",
    "model_cnn_mr_celeba = CnnVae(3, 64, use_multi_rate=True, is_celeba=True)\n",
    "model_resnet_mr_mnist = ResNetVae(64, use_multi_rate=True)\n",
    "model_resnet_mr_cifar = ResNetVae(64, use_multi_rate=True, is_cifar=True)\n",
    "model_resnet_mr_celeba = ResNetVae(64, use_multi_rate=True, is_celeba=True)"
   ]
  },
  {
   "cell_type": "code",
   "execution_count": 4,
   "metadata": {},
   "outputs": [
    {
     "name": "stdout",
     "output_type": "stream",
     "text": [
      "Linear vs Liear Multi Rate\n",
      "Total Trainable Params Linear: 718404\n",
      "Total Trainable Params Linear Multi Rate: 721932\n",
      "Perchentage of difference:  0.4910885796849684 %\n"
     ]
    }
   ],
   "source": [
    "print(\"Linear vs Liear Multi Rate\")\n",
    "a = count_parameters(model_linear, \"Linear\")\n",
    "b = count_parameters(model_linear_mr, \"Linear Multi Rate\")\n",
    "print(\"Perchentage of difference: \", (b-a)/a*100, \"%\")"
   ]
  },
  {
   "cell_type": "code",
   "execution_count": 5,
   "metadata": {},
   "outputs": [
    {
     "name": "stdout",
     "output_type": "stream",
     "text": [
      "CNN vs CNN Multi Rate\n",
      "Mnist dataset\n",
      "Total Trainable Params CNN: 18114945\n",
      "Total Trainable Params CNN Multi Rate: 18120323\n",
      "Perchentage of difference:  0.02968819391944055 %\n"
     ]
    }
   ],
   "source": [
    "print(\"CNN vs CNN Multi Rate\")\n",
    "print(\"Mnist dataset\")\n",
    "a = count_parameters(model_cnn_mnist, \"CNN\")\n",
    "b = count_parameters(model_cnn_mr_mnist, \"CNN Multi Rate\")\n",
    "print(\"Perchentage of difference: \", (b-a)/a*100, \"%\")"
   ]
  },
  {
   "cell_type": "code",
   "execution_count": 6,
   "metadata": {},
   "outputs": [
    {
     "name": "stdout",
     "output_type": "stream",
     "text": [
      "CNN vs CNN Multi Rate\n",
      "Cifar10 dataset\n",
      "Total Trainable Params CNN: 26304643\n",
      "Total Trainable Params CNN Multi Rate: 26310025\n",
      "Perchentage of difference:  0.020460266273144248 %\n"
     ]
    }
   ],
   "source": [
    "print(\"CNN vs CNN Multi Rate\")\n",
    "print(\"Cifar10 dataset\")\n",
    "a = count_parameters(model_cnn_cifar, \"CNN\")\n",
    "b = count_parameters(model_cnn_mr_cifar, \"CNN Multi Rate\")\n",
    "print(\"Perchentage of difference: \", (b-a)/a*100, \"%\")"
   ]
  },
  {
   "cell_type": "code",
   "execution_count": 7,
   "metadata": {},
   "outputs": [
    {
     "name": "stdout",
     "output_type": "stream",
     "text": [
      "CNN vs CNN Multi Rate\n",
      "CelebA dataset\n",
      "Total Trainable Params CNN: 34592643\n",
      "Total Trainable Params CNN Multi Rate: 34598281\n",
      "Perchentage of difference:  0.016298263188505142 %\n"
     ]
    }
   ],
   "source": [
    "print(\"CNN vs CNN Multi Rate\")\n",
    "print(\"CelebA dataset\")\n",
    "a = count_parameters(model_cnn_celeba, \"CNN\")\n",
    "b = count_parameters(model_cnn_mr_celeba, \"CNN Multi Rate\")\n",
    "print(\"Perchentage of difference: \", (b-a)/a*100, \"%\")"
   ]
  },
  {
   "cell_type": "code",
   "execution_count": 8,
   "metadata": {},
   "outputs": [
    {
     "name": "stdout",
     "output_type": "stream",
     "text": [
      "ResNet vs ResNet Multi Rate\n",
      "Mnist dataset\n",
      "Total Trainable Params ResNet: 1061697\n",
      "Total Trainable Params ResNet Multi Rate: 1062723\n",
      "Perchentage of difference:  0.09663774127646589 %\n"
     ]
    }
   ],
   "source": [
    "print(\"ResNet vs ResNet Multi Rate\")\n",
    "print(\"Mnist dataset\")\n",
    "a = count_parameters(model_resnet_mnist, \"ResNet\")\n",
    "b = count_parameters(model_resnet_mr_mnist, \"ResNet Multi Rate\")\n",
    "print(\"Perchentage of difference: \", (b-a)/a*100, \"%\")"
   ]
  },
  {
   "cell_type": "code",
   "execution_count": 9,
   "metadata": {},
   "outputs": [
    {
     "name": "stdout",
     "output_type": "stream",
     "text": [
      "ResNet vs ResNet Multi Rate\n",
      "Cifar10 dataset\n",
      "Total Trainable Params ResNet: 2161795\n",
      "Total Trainable Params ResNet Multi Rate: 2162569\n",
      "Perchentage of difference:  0.03580357989541099 %\n"
     ]
    }
   ],
   "source": [
    "print(\"ResNet vs ResNet Multi Rate\")\n",
    "print(\"Cifar10 dataset\")\n",
    "a = count_parameters(model_resnet_cifar, \"ResNet\")\n",
    "b = count_parameters(model_resnet_mr_cifar, \"ResNet Multi Rate\")\n",
    "print(\"Perchentage of difference: \", (b-a)/a*100, \"%\")"
   ]
  },
  {
   "cell_type": "code",
   "execution_count": 10,
   "metadata": {},
   "outputs": [
    {
     "name": "stdout",
     "output_type": "stream",
     "text": [
      "ResNet vs ResNet Multi Rate\n",
      "CelebA dataset\n",
      "Total Trainable Params ResNet: 1754627\n",
      "Total Trainable Params ResNet Multi Rate: 1756169\n",
      "Perchentage of difference:  0.08788192590220029 %\n"
     ]
    }
   ],
   "source": [
    "print(\"ResNet vs ResNet Multi Rate\")\n",
    "print(\"CelebA dataset\")\n",
    "a = count_parameters(model_resnet_celeba, \"ResNet\")\n",
    "b = count_parameters(model_resnet_mr_celeba, \"ResNet Multi Rate\")\n",
    "print(\"Perchentage of difference: \", (b-a)/a*100, \"%\")"
   ]
  },
  {
   "cell_type": "code",
   "execution_count": null,
   "metadata": {},
   "outputs": [],
   "source": []
  }
 ],
 "metadata": {
  "kernelspec": {
   "display_name": "Python 3",
   "language": "python",
   "name": "python3"
  },
  "language_info": {
   "codemirror_mode": {
    "name": "ipython",
    "version": 3
   },
   "file_extension": ".py",
   "mimetype": "text/x-python",
   "name": "python",
   "nbconvert_exporter": "python",
   "pygments_lexer": "ipython3",
   "version": "3.10.12"
  }
 },
 "nbformat": 4,
 "nbformat_minor": 2
}
